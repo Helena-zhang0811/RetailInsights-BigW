{
 "cells": [
  {
   "cell_type": "code",
   "execution_count": 173,
   "id": "d4332dda",
   "metadata": {
    "colab": {
     "base_uri": "https://localhost:8080/"
    },
    "id": "V97uDMt-FBGU",
    "outputId": "5a587a9d-01b2-4b74-8be6-056f4e876bc0"
   },
   "outputs": [
    {
     "data": {
      "text/plain": [
       "Premium       448390\n",
       "Budget        679161\n",
       "Mainstream    700041\n",
       "Name: price_segment, dtype: int64"
      ]
     },
     "execution_count": 173,
     "metadata": {},
     "output_type": "execute_result"
    }
   ],
   "source": [
    "final_train['price_segment'].value_counts().sort_values(ascending = True)"
   ]
  },
  {
   "cell_type": "code",
   "execution_count": 174,
   "id": "4c572628",
   "metadata": {
    "colab": {
     "base_uri": "https://localhost:8080/"
    },
    "id": "g4Tlk_QOFBIt",
    "outputId": "85d4263f-d532-42fd-ae64-98f3a99f4d1b"
   },
   "outputs": [
    {
     "data": {
      "text/plain": [
       "Midage Singles/Couples    171542\n",
       "Older Families            199215\n",
       "New Families              209163\n",
       "Young Singles/Couples     233924\n",
       "Retirees                  266508\n",
       "Older Singles/Couples     349667\n",
       "Young Families            397573\n",
       "Name: lifstage_segment, dtype: int64"
      ]
     },
     "execution_count": 174,
     "metadata": {},
     "output_type": "execute_result"
    }
   ],
   "source": [
    "final_train['lifstage_segment'].value_counts().sort_values(ascending = True)"
   ]
  },
  {
   "cell_type": "code",
   "execution_count": 176,
   "id": "e0a28496",
   "metadata": {
    "id": "HsHK47mXFBLA"
   },
   "outputs": [],
   "source": [
    "# To avoid duplicate and explore more detailed segment, delete the price_lifestage_segment!!!先不删\n",
    "final_train.drop(columns=['price_lifestage_segment'], inplace = True)\n",
    "final_test.drop(columns=['price_lifestage_segment'], inplace = True)"
   ]
  },
  {
   "cell_type": "code",
   "execution_count": 177,
   "id": "e0b9cbc7",
   "metadata": {
    "colab": {
     "base_uri": "https://localhost:8080/"
    },
    "id": "Gp8tX12NFBNT",
    "outputId": "7df791f3-b0bb-4b57-dc63-9cf5f2b402f1"
   },
   "outputs": [
    {
     "data": {
      "text/plain": [
       "0          2023\n",
       "1          2022\n",
       "2          2023\n",
       "3          2023\n",
       "4          2021\n",
       "           ... \n",
       "1827587    2021\n",
       "1827588    2022\n",
       "1827589    2022\n",
       "1827590    2022\n",
       "1827591    2023\n",
       "Name: year, Length: 1827592, dtype: object"
      ]
     },
     "execution_count": 177,
     "metadata": {},
     "output_type": "execute_result"
    }
   ],
   "source": [
    "#reference: https://sparkbyexamples.com/pandas/pandas-extract-month-and-year-separately-from-datetime-column/\n",
    "final_train['year'] = final_train['financial_week_end_date'].dt.strftime('%Y')\n",
    "final_train['year']"
   ]
  },
  {
   "cell_type": "code",
   "execution_count": 178,
   "id": "03a0857f",
   "metadata": {
    "colab": {
     "base_uri": "https://localhost:8080/"
    },
    "id": "RqkWjFSjFBPo",
    "outputId": "f63c8c01-e04e-4c7b-fc0a-a464c1aaf003"
   },
   "outputs": [
    {
     "data": {
      "text/plain": [
       "0          03\n",
       "1          01\n",
       "2          03\n",
       "3          01\n",
       "4          11\n",
       "           ..\n",
       "1827587    07\n",
       "1827588    12\n",
       "1827589    02\n",
       "1827590    12\n",
       "1827591    01\n",
       "Name: month, Length: 1827592, dtype: object"
      ]
     },
     "execution_count": 178,
     "metadata": {},
     "output_type": "execute_result"
    }
   ],
   "source": [
    "final_train['month'] = final_train['financial_week_end_date'].dt.strftime('%m')\n",
    "final_train['month']"
   ]
  },
  {
   "cell_type": "code",
   "execution_count": 180,
   "id": "3dce8ccd",
   "metadata": {
    "colab": {
     "base_uri": "https://localhost:8080/"
    },
    "id": "DNsv7gE7Ilwe",
    "outputId": "31f8cf9a-c3c8-42f9-9fd8-c281f7109c49"
   },
   "outputs": [
    {
     "data": {
      "text/plain": [
       "Index(['sales_channel', 'customer_state', 'total_sale_value_x',\n",
       "       'price_segment', 'lifstage_segment', 'log_totalvalue', 'store_state',\n",
       "       'co_location_flag', 'distance_to_kmart', 'distance_to_target',\n",
       "       'media_amount_spend', 'Median income', 'population_2021',\n",
       "       'same_area_shopping', 'year', 'month'],\n",
       "      dtype='object')"
      ]
     },
     "execution_count": 180,
     "metadata": {},
     "output_type": "execute_result"
    }
   ],
   "source": [
    "final_train.drop(columns=['financial_week_end_date'], inplace = True)\n",
    "final_train.columns"
   ]
  },
  {
   "cell_type": "code",
   "execution_count": 181,
   "id": "b3648beb",
   "metadata": {
    "colab": {
     "base_uri": "https://localhost:8080/"
    },
    "id": "iUdZiuZTIdRD",
    "outputId": "cecd4c51-1ee6-42b5-b615-062009041712"
   },
   "outputs": [
    {
     "data": {
      "text/plain": [
       "0         2022\n",
       "1         2022\n",
       "2         2023\n",
       "3         2021\n",
       "4         2022\n",
       "          ... \n",
       "365513    2021\n",
       "365514    2023\n",
       "365515    2022\n",
       "365516    2023\n",
       "365517    2023\n",
       "Name: year, Length: 365518, dtype: object"
      ]
     },
     "execution_count": 181,
     "metadata": {},
     "output_type": "execute_result"
    }
   ],
   "source": [
    "final_test['year'] = final_test['financial_week_end_date'].dt.strftime('%Y')\n",
    "final_test['year']"
   ]
  },
  {
   "cell_type": "code",
   "execution_count": 182,
   "id": "edf69442",
   "metadata": {
    "colab": {
     "base_uri": "https://localhost:8080/"
    },
    "id": "JpqWSIydIdTy",
    "outputId": "a93530d3-c922-4912-ac59-948f749c07a7"
   },
   "outputs": [
    {
     "data": {
      "text/plain": [
       "0         07\n",
       "1         04\n",
       "2         01\n",
       "3         11\n",
       "4         10\n",
       "          ..\n",
       "365513    12\n",
       "365514    04\n",
       "365515    03\n",
       "365516    03\n",
       "365517    01\n",
       "Name: month, Length: 365518, dtype: object"
      ]
     },
     "execution_count": 182,
     "metadata": {},
     "output_type": "execute_result"
    }
   ],
   "source": [
    "final_test['month'] = final_test['financial_week_end_date'].dt.strftime('%m')\n",
    "final_test['month']"
   ]
  },
  {
   "cell_type": "code",
   "execution_count": 183,
   "id": "42acd47a",
   "metadata": {
    "colab": {
     "base_uri": "https://localhost:8080/"
    },
    "id": "RFwHSX8LZSDk",
    "outputId": "6e2598ff-3592-4e4b-f1e1-fdb962f113bd"
   },
   "outputs": [
    {
     "data": {
      "text/plain": [
       "Index(['sales_channel', 'customer_state', 'total_sale_value_x',\n",
       "       'price_segment', 'lifstage_segment', 'store_state', 'co_location_flag',\n",
       "       'distance_to_kmart', 'distance_to_target', 'media_amount_spend',\n",
       "       'Median income', 'population_2021', 'same_area_shopping', 'year',\n",
       "       'month'],\n",
       "      dtype='object')"
      ]
     },
     "execution_count": 183,
     "metadata": {},
     "output_type": "execute_result"
    }
   ],
   "source": [
    "final_test.drop(columns=['financial_week_end_date'], inplace = True)\n",
    "final_test.columns"
   ]
  },
  {
   "cell_type": "code",
   "execution_count": 184,
   "id": "61ccd487",
   "metadata": {
    "colab": {
     "base_uri": "https://localhost:8080/"
    },
    "id": "sKugrWzoI4p5",
    "outputId": "af3790b1-2c06-4ee9-a63d-e9dafd4df57d"
   },
   "outputs": [
    {
     "name": "stdout",
     "output_type": "stream",
     "text": [
      "<class 'pandas.core.frame.DataFrame'>\n",
      "Int64Index: 1827592 entries, 0 to 1827591\n",
      "Data columns (total 16 columns):\n",
      " #   Column              Dtype  \n",
      "---  ------              -----  \n",
      " 0   sales_channel       object \n",
      " 1   customer_state      object \n",
      " 2   total_sale_value_x  float64\n",
      " 3   price_segment       object \n",
      " 4   lifstage_segment    object \n",
      " 5   log_totalvalue      float64\n",
      " 6   store_state         object \n",
      " 7   co_location_flag    bool   \n",
      " 8   distance_to_kmart   object \n",
      " 9   distance_to_target  object \n",
      " 10  media_amount_spend  float64\n",
      " 11  Median income       float64\n",
      " 12  population_2021     float64\n",
      " 13  same_area_shopping  bool   \n",
      " 14  year                object \n",
      " 15  month               object \n",
      "dtypes: bool(2), float64(5), object(9)\n",
      "memory usage: 212.6+ MB\n"
     ]
    }
   ],
   "source": [
    "final_train.info()"
   ]
  },
  {
   "cell_type": "code",
   "execution_count": 185,
   "id": "b14f1264",
   "metadata": {
    "id": "NhiDKdZFI4sV"
   },
   "outputs": [],
   "source": [
    "final_train['year'] = final_train['year'].astype(int)\n",
    "final_train['month'] = final_train['month'].astype(int)\n",
    "final_test['year'] = final_test['year'].astype(int)\n",
    "final_test['month'] = final_test['month'].astype(int)"
   ]
  },
  {
   "cell_type": "code",
   "execution_count": 186,
   "id": "6dabf9fb",
   "metadata": {
    "colab": {
     "base_uri": "https://localhost:8080/"
    },
    "id": "0iH4wPOwI4uy",
    "outputId": "1ee9536d-9d6e-4a8e-c8b6-a07283ace83f"
   },
   "outputs": [
    {
     "name": "stdout",
     "output_type": "stream",
     "text": [
      "<class 'pandas.core.frame.DataFrame'>\n",
      "Int64Index: 1827592 entries, 0 to 1827591\n",
      "Data columns (total 16 columns):\n",
      " #   Column              Dtype  \n",
      "---  ------              -----  \n",
      " 0   sales_channel       object \n",
      " 1   customer_state      object \n",
      " 2   total_sale_value_x  float64\n",
      " 3   price_segment       object \n",
      " 4   lifstage_segment    object \n",
      " 5   log_totalvalue      float64\n",
      " 6   store_state         object \n",
      " 7   co_location_flag    bool   \n",
      " 8   distance_to_kmart   object \n",
      " 9   distance_to_target  object \n",
      " 10  media_amount_spend  float64\n",
      " 11  Median income       float64\n",
      " 12  population_2021     float64\n",
      " 13  same_area_shopping  bool   \n",
      " 14  year                int32  \n",
      " 15  month               int32  \n",
      "dtypes: bool(2), float64(5), int32(2), object(7)\n",
      "memory usage: 198.7+ MB\n"
     ]
    }
   ],
   "source": [
    "final_train.info()"
   ]
  },
  {
   "cell_type": "code",
   "execution_count": 187,
   "id": "bc313673",
   "metadata": {
    "colab": {
     "base_uri": "https://localhost:8080/"
    },
    "id": "DmJVASXMI4w8",
    "outputId": "2785bde9-45a5-4beb-da7d-3bb84f5fc493"
   },
   "outputs": [
    {
     "name": "stdout",
     "output_type": "stream",
     "text": [
      "<class 'pandas.core.frame.DataFrame'>\n",
      "Int64Index: 365518 entries, 0 to 365517\n",
      "Data columns (total 15 columns):\n",
      " #   Column              Non-Null Count   Dtype  \n",
      "---  ------              --------------   -----  \n",
      " 0   sales_channel       365518 non-null  object \n",
      " 1   customer_state      365518 non-null  object \n",
      " 2   total_sale_value_x  365518 non-null  float64\n",
      " 3   price_segment       365518 non-null  object \n",
      " 4   lifstage_segment    365518 non-null  object \n",
      " 5   store_state         365518 non-null  object \n",
      " 6   co_location_flag    365518 non-null  bool   \n",
      " 7   distance_to_kmart   365518 non-null  object \n",
      " 8   distance_to_target  365518 non-null  object \n",
      " 9   media_amount_spend  365518 non-null  float64\n",
      " 10  Median income       365518 non-null  float64\n",
      " 11  population_2021     365518 non-null  float64\n",
      " 12  same_area_shopping  365518 non-null  bool   \n",
      " 13  year                365518 non-null  int32  \n",
      " 14  month               365518 non-null  int32  \n",
      "dtypes: bool(2), float64(4), int32(2), object(7)\n",
      "memory usage: 37.0+ MB\n"
     ]
    }
   ],
   "source": [
    "final_test.info()"
   ]
  },
  {
   "cell_type": "markdown",
   "id": "2c4c9936",
   "metadata": {
    "id": "pWh9vpI6JpQP"
   },
   "source": [
    "### 3.4 Dealing with Categorical Variables"
   ]
  },
  {
   "cell_type": "code",
   "execution_count": 188,
   "id": "2d0a434e",
   "metadata": {
    "id": "56V7caDYUbCs"
   },
   "outputs": [],
   "source": [
    "cate_col = ['sales_channel', 'customer_state','price_segment', 'lifstage_segment','store_state', 'distance_to_kmart','distance_to_target']"
   ]
  },
  {
   "cell_type": "code",
   "execution_count": 189,
   "id": "b8bdcae7",
   "metadata": {
    "id": "T482HAH9Nh9M"
   },
   "outputs": [],
   "source": [
    "final_train.replace\n",
    "final_train.replace({True: 1, False: 0}, inplace = True)\n",
    "final_test.replace({True: 1, False: 0}, inplace = True)"
   ]
  },
  {
   "cell_type": "code",
   "execution_count": 190,
   "id": "017621bc",
   "metadata": {
    "colab": {
     "base_uri": "https://localhost:8080/",
     "height": 461
    },
    "id": "pTTW_SXmJ3eo",
    "outputId": "8a8b6567-391b-4566-addd-ff60555750db"
   },
   "outputs": [
    {
     "data": {
      "text/html": [
       "<div>\n",
       "<style scoped>\n",
       "    .dataframe tbody tr th:only-of-type {\n",
       "        vertical-align: middle;\n",
       "    }\n",
       "\n",
       "    .dataframe tbody tr th {\n",
       "        vertical-align: top;\n",
       "    }\n",
       "\n",
       "    .dataframe thead th {\n",
       "        text-align: right;\n",
       "    }\n",
       "</style>\n",
       "<table border=\"1\" class=\"dataframe\">\n",
       "  <thead>\n",
       "    <tr style=\"text-align: right;\">\n",
       "      <th></th>\n",
       "      <th>total_sale_value_x</th>\n",
       "      <th>log_totalvalue</th>\n",
       "      <th>co_location_flag</th>\n",
       "      <th>media_amount_spend</th>\n",
       "      <th>Median income</th>\n",
       "      <th>population_2021</th>\n",
       "      <th>same_area_shopping</th>\n",
       "      <th>year</th>\n",
       "      <th>month</th>\n",
       "      <th>sales_channel_Digital - Delivery</th>\n",
       "      <th>...</th>\n",
       "      <th>store_state_VIC</th>\n",
       "      <th>store_state_WA</th>\n",
       "      <th>distance_to_kmart_3-5 KM</th>\n",
       "      <th>distance_to_kmart_&lt;1 KM</th>\n",
       "      <th>distance_to_kmart_&gt;5 KM</th>\n",
       "      <th>distance_to_kmart_Same Centre</th>\n",
       "      <th>distance_to_target_3-5 KM</th>\n",
       "      <th>distance_to_target_&lt;1 KM</th>\n",
       "      <th>distance_to_target_&gt;5 KM</th>\n",
       "      <th>distance_to_target_Same Centre</th>\n",
       "    </tr>\n",
       "  </thead>\n",
       "  <tbody>\n",
       "    <tr>\n",
       "      <th>0</th>\n",
       "      <td>6691.29</td>\n",
       "      <td>8.808562</td>\n",
       "      <td>1</td>\n",
       "      <td>0.000000e+00</td>\n",
       "      <td>813.0</td>\n",
       "      <td>8072163.0</td>\n",
       "      <td>1</td>\n",
       "      <td>2023</td>\n",
       "      <td>3</td>\n",
       "      <td>0</td>\n",
       "      <td>...</td>\n",
       "      <td>0</td>\n",
       "      <td>0</td>\n",
       "      <td>0</td>\n",
       "      <td>0</td>\n",
       "      <td>1</td>\n",
       "      <td>0</td>\n",
       "      <td>0</td>\n",
       "      <td>0</td>\n",
       "      <td>1</td>\n",
       "      <td>0</td>\n",
       "    </tr>\n",
       "    <tr>\n",
       "      <th>1</th>\n",
       "      <td>364.53</td>\n",
       "      <td>5.898609</td>\n",
       "      <td>0</td>\n",
       "      <td>7.206251e+05</td>\n",
       "      <td>803.0</td>\n",
       "      <td>6503491.0</td>\n",
       "      <td>0</td>\n",
       "      <td>2022</td>\n",
       "      <td>1</td>\n",
       "      <td>0</td>\n",
       "      <td>...</td>\n",
       "      <td>1</td>\n",
       "      <td>0</td>\n",
       "      <td>0</td>\n",
       "      <td>0</td>\n",
       "      <td>0</td>\n",
       "      <td>0</td>\n",
       "      <td>0</td>\n",
       "      <td>0</td>\n",
       "      <td>0</td>\n",
       "      <td>1</td>\n",
       "    </tr>\n",
       "    <tr>\n",
       "      <th>2</th>\n",
       "      <td>446.25</td>\n",
       "      <td>6.100879</td>\n",
       "      <td>1</td>\n",
       "      <td>0.000000e+00</td>\n",
       "      <td>787.0</td>\n",
       "      <td>5156138.0</td>\n",
       "      <td>0</td>\n",
       "      <td>2023</td>\n",
       "      <td>3</td>\n",
       "      <td>0</td>\n",
       "      <td>...</td>\n",
       "      <td>0</td>\n",
       "      <td>0</td>\n",
       "      <td>0</td>\n",
       "      <td>0</td>\n",
       "      <td>0</td>\n",
       "      <td>1</td>\n",
       "      <td>0</td>\n",
       "      <td>0</td>\n",
       "      <td>0</td>\n",
       "      <td>1</td>\n",
       "    </tr>\n",
       "    <tr>\n",
       "      <th>3</th>\n",
       "      <td>7479.89</td>\n",
       "      <td>8.919973</td>\n",
       "      <td>1</td>\n",
       "      <td>3.469235e+04</td>\n",
       "      <td>734.0</td>\n",
       "      <td>1781516.0</td>\n",
       "      <td>1</td>\n",
       "      <td>2023</td>\n",
       "      <td>1</td>\n",
       "      <td>0</td>\n",
       "      <td>...</td>\n",
       "      <td>0</td>\n",
       "      <td>0</td>\n",
       "      <td>0</td>\n",
       "      <td>0</td>\n",
       "      <td>1</td>\n",
       "      <td>0</td>\n",
       "      <td>0</td>\n",
       "      <td>0</td>\n",
       "      <td>1</td>\n",
       "      <td>0</td>\n",
       "    </tr>\n",
       "    <tr>\n",
       "      <th>4</th>\n",
       "      <td>6172.44</td>\n",
       "      <td>8.727850</td>\n",
       "      <td>1</td>\n",
       "      <td>5.625606e+06</td>\n",
       "      <td>803.0</td>\n",
       "      <td>6503491.0</td>\n",
       "      <td>1</td>\n",
       "      <td>2021</td>\n",
       "      <td>11</td>\n",
       "      <td>0</td>\n",
       "      <td>...</td>\n",
       "      <td>1</td>\n",
       "      <td>0</td>\n",
       "      <td>0</td>\n",
       "      <td>0</td>\n",
       "      <td>0</td>\n",
       "      <td>1</td>\n",
       "      <td>0</td>\n",
       "      <td>0</td>\n",
       "      <td>1</td>\n",
       "      <td>0</td>\n",
       "    </tr>\n",
       "    <tr>\n",
       "      <th>...</th>\n",
       "      <td>...</td>\n",
       "      <td>...</td>\n",
       "      <td>...</td>\n",
       "      <td>...</td>\n",
       "      <td>...</td>\n",
       "      <td>...</td>\n",
       "      <td>...</td>\n",
       "      <td>...</td>\n",
       "      <td>...</td>\n",
       "      <td>...</td>\n",
       "      <td>...</td>\n",
       "      <td>...</td>\n",
       "      <td>...</td>\n",
       "      <td>...</td>\n",
       "      <td>...</td>\n",
       "      <td>...</td>\n",
       "      <td>...</td>\n",
       "      <td>...</td>\n",
       "      <td>...</td>\n",
       "      <td>...</td>\n",
       "      <td>...</td>\n",
       "    </tr>\n",
       "    <tr>\n",
       "      <th>1827587</th>\n",
       "      <td>710.79</td>\n",
       "      <td>6.566377</td>\n",
       "      <td>1</td>\n",
       "      <td>8.355683e+04</td>\n",
       "      <td>787.0</td>\n",
       "      <td>5156138.0</td>\n",
       "      <td>0</td>\n",
       "      <td>2021</td>\n",
       "      <td>7</td>\n",
       "      <td>0</td>\n",
       "      <td>...</td>\n",
       "      <td>0</td>\n",
       "      <td>0</td>\n",
       "      <td>0</td>\n",
       "      <td>0</td>\n",
       "      <td>0</td>\n",
       "      <td>1</td>\n",
       "      <td>0</td>\n",
       "      <td>0</td>\n",
       "      <td>0</td>\n",
       "      <td>1</td>\n",
       "    </tr>\n",
       "    <tr>\n",
       "      <th>1827588</th>\n",
       "      <td>2064.05</td>\n",
       "      <td>7.632425</td>\n",
       "      <td>1</td>\n",
       "      <td>1.130241e+05</td>\n",
       "      <td>848.0</td>\n",
       "      <td>2660026.0</td>\n",
       "      <td>0</td>\n",
       "      <td>2022</td>\n",
       "      <td>12</td>\n",
       "      <td>0</td>\n",
       "      <td>...</td>\n",
       "      <td>0</td>\n",
       "      <td>1</td>\n",
       "      <td>0</td>\n",
       "      <td>0</td>\n",
       "      <td>0</td>\n",
       "      <td>1</td>\n",
       "      <td>1</td>\n",
       "      <td>0</td>\n",
       "      <td>0</td>\n",
       "      <td>0</td>\n",
       "    </tr>\n",
       "    <tr>\n",
       "      <th>1827589</th>\n",
       "      <td>1795.17</td>\n",
       "      <td>7.492855</td>\n",
       "      <td>1</td>\n",
       "      <td>7.852145e+04</td>\n",
       "      <td>848.0</td>\n",
       "      <td>2660026.0</td>\n",
       "      <td>0</td>\n",
       "      <td>2022</td>\n",
       "      <td>2</td>\n",
       "      <td>0</td>\n",
       "      <td>...</td>\n",
       "      <td>0</td>\n",
       "      <td>1</td>\n",
       "      <td>0</td>\n",
       "      <td>0</td>\n",
       "      <td>1</td>\n",
       "      <td>0</td>\n",
       "      <td>0</td>\n",
       "      <td>0</td>\n",
       "      <td>1</td>\n",
       "      <td>0</td>\n",
       "    </tr>\n",
       "    <tr>\n",
       "      <th>1827590</th>\n",
       "      <td>2141.80</td>\n",
       "      <td>7.669402</td>\n",
       "      <td>1</td>\n",
       "      <td>3.766215e+05</td>\n",
       "      <td>813.0</td>\n",
       "      <td>8072163.0</td>\n",
       "      <td>0</td>\n",
       "      <td>2022</td>\n",
       "      <td>12</td>\n",
       "      <td>0</td>\n",
       "      <td>...</td>\n",
       "      <td>0</td>\n",
       "      <td>0</td>\n",
       "      <td>0</td>\n",
       "      <td>0</td>\n",
       "      <td>0</td>\n",
       "      <td>1</td>\n",
       "      <td>0</td>\n",
       "      <td>0</td>\n",
       "      <td>1</td>\n",
       "      <td>0</td>\n",
       "    </tr>\n",
       "    <tr>\n",
       "      <th>1827591</th>\n",
       "      <td>1408.87</td>\n",
       "      <td>7.250543</td>\n",
       "      <td>1</td>\n",
       "      <td>2.920422e+05</td>\n",
       "      <td>813.0</td>\n",
       "      <td>8072163.0</td>\n",
       "      <td>0</td>\n",
       "      <td>2023</td>\n",
       "      <td>1</td>\n",
       "      <td>0</td>\n",
       "      <td>...</td>\n",
       "      <td>0</td>\n",
       "      <td>0</td>\n",
       "      <td>0</td>\n",
       "      <td>0</td>\n",
       "      <td>0</td>\n",
       "      <td>1</td>\n",
       "      <td>0</td>\n",
       "      <td>0</td>\n",
       "      <td>0</td>\n",
       "      <td>1</td>\n",
       "    </tr>\n",
       "  </tbody>\n",
       "</table>\n",
       "<p>1827592 rows × 42 columns</p>\n",
       "</div>"
      ],
      "text/plain": [
       "         total_sale_value_x  log_totalvalue  co_location_flag  \\\n",
       "0                   6691.29        8.808562                 1   \n",
       "1                    364.53        5.898609                 0   \n",
       "2                    446.25        6.100879                 1   \n",
       "3                   7479.89        8.919973                 1   \n",
       "4                   6172.44        8.727850                 1   \n",
       "...                     ...             ...               ...   \n",
       "1827587              710.79        6.566377                 1   \n",
       "1827588             2064.05        7.632425                 1   \n",
       "1827589             1795.17        7.492855                 1   \n",
       "1827590             2141.80        7.669402                 1   \n",
       "1827591             1408.87        7.250543                 1   \n",
       "\n",
       "         media_amount_spend  Median income  population_2021  \\\n",
       "0              0.000000e+00          813.0        8072163.0   \n",
       "1              7.206251e+05          803.0        6503491.0   \n",
       "2              0.000000e+00          787.0        5156138.0   \n",
       "3              3.469235e+04          734.0        1781516.0   \n",
       "4              5.625606e+06          803.0        6503491.0   \n",
       "...                     ...            ...              ...   \n",
       "1827587        8.355683e+04          787.0        5156138.0   \n",
       "1827588        1.130241e+05          848.0        2660026.0   \n",
       "1827589        7.852145e+04          848.0        2660026.0   \n",
       "1827590        3.766215e+05          813.0        8072163.0   \n",
       "1827591        2.920422e+05          813.0        8072163.0   \n",
       "\n",
       "         same_area_shopping  year  month  sales_channel_Digital - Delivery  \\\n",
       "0                         1  2023      3                                 0   \n",
       "1                         0  2022      1                                 0   \n",
       "2                         0  2023      3                                 0   \n",
       "3                         1  2023      1                                 0   \n",
       "4                         1  2021     11                                 0   \n",
       "...                     ...   ...    ...                               ...   \n",
       "1827587                   0  2021      7                                 0   \n",
       "1827588                   0  2022     12                                 0   \n",
       "1827589                   0  2022      2                                 0   \n",
       "1827590                   0  2022     12                                 0   \n",
       "1827591                   0  2023      1                                 0   \n",
       "\n",
       "         ...  store_state_VIC  store_state_WA  distance_to_kmart_3-5 KM  \\\n",
       "0        ...                0               0                         0   \n",
       "1        ...                1               0                         0   \n",
       "2        ...                0               0                         0   \n",
       "3        ...                0               0                         0   \n",
       "4        ...                1               0                         0   \n",
       "...      ...              ...             ...                       ...   \n",
       "1827587  ...                0               0                         0   \n",
       "1827588  ...                0               1                         0   \n",
       "1827589  ...                0               1                         0   \n",
       "1827590  ...                0               0                         0   \n",
       "1827591  ...                0               0                         0   \n",
       "\n",
       "         distance_to_kmart_<1 KM  distance_to_kmart_>5 KM  \\\n",
       "0                              0                        1   \n",
       "1                              0                        0   \n",
       "2                              0                        0   \n",
       "3                              0                        1   \n",
       "4                              0                        0   \n",
       "...                          ...                      ...   \n",
       "1827587                        0                        0   \n",
       "1827588                        0                        0   \n",
       "1827589                        0                        1   \n",
       "1827590                        0                        0   \n",
       "1827591                        0                        0   \n",
       "\n",
       "         distance_to_kmart_Same Centre  distance_to_target_3-5 KM  \\\n",
       "0                                    0                          0   \n",
       "1                                    0                          0   \n",
       "2                                    1                          0   \n",
       "3                                    0                          0   \n",
       "4                                    1                          0   \n",
       "...                                ...                        ...   \n",
       "1827587                              1                          0   \n",
       "1827588                              1                          1   \n",
       "1827589                              0                          0   \n",
       "1827590                              1                          0   \n",
       "1827591                              1                          0   \n",
       "\n",
       "         distance_to_target_<1 KM  distance_to_target_>5 KM  \\\n",
       "0                               0                         1   \n",
       "1                               0                         0   \n",
       "2                               0                         0   \n",
       "3                               0                         1   \n",
       "4                               0                         1   \n",
       "...                           ...                       ...   \n",
       "1827587                         0                         0   \n",
       "1827588                         0                         0   \n",
       "1827589                         0                         1   \n",
       "1827590                         0                         1   \n",
       "1827591                         0                         0   \n",
       "\n",
       "         distance_to_target_Same Centre  \n",
       "0                                     0  \n",
       "1                                     1  \n",
       "2                                     1  \n",
       "3                                     0  \n",
       "4                                     0  \n",
       "...                                 ...  \n",
       "1827587                               1  \n",
       "1827588                               0  \n",
       "1827589                               0  \n",
       "1827590                               0  \n",
       "1827591                               1  \n",
       "\n",
       "[1827592 rows x 42 columns]"
      ]
     },
     "execution_count": 190,
     "metadata": {},
     "output_type": "execute_result"
    }
   ],
   "source": [
    "#get dummy table\n",
    "dummy_train = pd.get_dummies(final_train, columns = cate_col, drop_first = True)\n",
    "dummy_train"
   ]
  },
  {
   "cell_type": "code",
   "execution_count": 191,
   "id": "afd02b08",
   "metadata": {
    "colab": {
     "base_uri": "https://localhost:8080/",
     "height": 461
    },
    "id": "52Ub7hI7J3gz",
    "outputId": "a028165d-cfcf-46e3-a666-7c2a8c770682"
   },
   "outputs": [
    {
     "data": {
      "text/html": [
       "<div>\n",
       "<style scoped>\n",
       "    .dataframe tbody tr th:only-of-type {\n",
       "        vertical-align: middle;\n",
       "    }\n",
       "\n",
       "    .dataframe tbody tr th {\n",
       "        vertical-align: top;\n",
       "    }\n",
       "\n",
       "    .dataframe thead th {\n",
       "        text-align: right;\n",
       "    }\n",
       "</style>\n",
       "<table border=\"1\" class=\"dataframe\">\n",
       "  <thead>\n",
       "    <tr style=\"text-align: right;\">\n",
       "      <th></th>\n",
       "      <th>total_sale_value_x</th>\n",
       "      <th>co_location_flag</th>\n",
       "      <th>media_amount_spend</th>\n",
       "      <th>Median income</th>\n",
       "      <th>population_2021</th>\n",
       "      <th>same_area_shopping</th>\n",
       "      <th>year</th>\n",
       "      <th>month</th>\n",
       "      <th>sales_channel_Digital - Delivery</th>\n",
       "      <th>sales_channel_Store</th>\n",
       "      <th>...</th>\n",
       "      <th>store_state_VIC</th>\n",
       "      <th>store_state_WA</th>\n",
       "      <th>distance_to_kmart_3-5 KM</th>\n",
       "      <th>distance_to_kmart_&lt;1 KM</th>\n",
       "      <th>distance_to_kmart_&gt;5 KM</th>\n",
       "      <th>distance_to_kmart_Same Centre</th>\n",
       "      <th>distance_to_target_3-5 KM</th>\n",
       "      <th>distance_to_target_&lt;1 KM</th>\n",
       "      <th>distance_to_target_&gt;5 KM</th>\n",
       "      <th>distance_to_target_Same Centre</th>\n",
       "    </tr>\n",
       "  </thead>\n",
       "  <tbody>\n",
       "    <tr>\n",
       "      <th>0</th>\n",
       "      <td>599.62</td>\n",
       "      <td>1</td>\n",
       "      <td>2.799378e+04</td>\n",
       "      <td>734.0</td>\n",
       "      <td>1781516.0</td>\n",
       "      <td>0</td>\n",
       "      <td>2022</td>\n",
       "      <td>7</td>\n",
       "      <td>0</td>\n",
       "      <td>1</td>\n",
       "      <td>...</td>\n",
       "      <td>0</td>\n",
       "      <td>0</td>\n",
       "      <td>0</td>\n",
       "      <td>0</td>\n",
       "      <td>0</td>\n",
       "      <td>1</td>\n",
       "      <td>0</td>\n",
       "      <td>0</td>\n",
       "      <td>0</td>\n",
       "      <td>1</td>\n",
       "    </tr>\n",
       "    <tr>\n",
       "      <th>1</th>\n",
       "      <td>1733.01</td>\n",
       "      <td>1</td>\n",
       "      <td>3.981080e+05</td>\n",
       "      <td>734.0</td>\n",
       "      <td>1781516.0</td>\n",
       "      <td>0</td>\n",
       "      <td>2022</td>\n",
       "      <td>4</td>\n",
       "      <td>0</td>\n",
       "      <td>1</td>\n",
       "      <td>...</td>\n",
       "      <td>0</td>\n",
       "      <td>0</td>\n",
       "      <td>0</td>\n",
       "      <td>0</td>\n",
       "      <td>0</td>\n",
       "      <td>0</td>\n",
       "      <td>0</td>\n",
       "      <td>0</td>\n",
       "      <td>0</td>\n",
       "      <td>0</td>\n",
       "    </tr>\n",
       "    <tr>\n",
       "      <th>2</th>\n",
       "      <td>894.80</td>\n",
       "      <td>1</td>\n",
       "      <td>6.042893e+04</td>\n",
       "      <td>734.0</td>\n",
       "      <td>1781516.0</td>\n",
       "      <td>0</td>\n",
       "      <td>2023</td>\n",
       "      <td>1</td>\n",
       "      <td>0</td>\n",
       "      <td>1</td>\n",
       "      <td>...</td>\n",
       "      <td>0</td>\n",
       "      <td>0</td>\n",
       "      <td>0</td>\n",
       "      <td>0</td>\n",
       "      <td>0</td>\n",
       "      <td>1</td>\n",
       "      <td>1</td>\n",
       "      <td>0</td>\n",
       "      <td>0</td>\n",
       "      <td>0</td>\n",
       "    </tr>\n",
       "    <tr>\n",
       "      <th>3</th>\n",
       "      <td>2687.72</td>\n",
       "      <td>1</td>\n",
       "      <td>5.625606e+06</td>\n",
       "      <td>803.0</td>\n",
       "      <td>6503491.0</td>\n",
       "      <td>1</td>\n",
       "      <td>2021</td>\n",
       "      <td>11</td>\n",
       "      <td>0</td>\n",
       "      <td>1</td>\n",
       "      <td>...</td>\n",
       "      <td>1</td>\n",
       "      <td>0</td>\n",
       "      <td>0</td>\n",
       "      <td>0</td>\n",
       "      <td>0</td>\n",
       "      <td>1</td>\n",
       "      <td>0</td>\n",
       "      <td>0</td>\n",
       "      <td>1</td>\n",
       "      <td>0</td>\n",
       "    </tr>\n",
       "    <tr>\n",
       "      <th>4</th>\n",
       "      <td>530.78</td>\n",
       "      <td>1</td>\n",
       "      <td>1.836416e+05</td>\n",
       "      <td>787.0</td>\n",
       "      <td>5156138.0</td>\n",
       "      <td>0</td>\n",
       "      <td>2022</td>\n",
       "      <td>10</td>\n",
       "      <td>0</td>\n",
       "      <td>1</td>\n",
       "      <td>...</td>\n",
       "      <td>0</td>\n",
       "      <td>0</td>\n",
       "      <td>0</td>\n",
       "      <td>0</td>\n",
       "      <td>0</td>\n",
       "      <td>1</td>\n",
       "      <td>0</td>\n",
       "      <td>0</td>\n",
       "      <td>0</td>\n",
       "      <td>1</td>\n",
       "    </tr>\n",
       "    <tr>\n",
       "      <th>...</th>\n",
       "      <td>...</td>\n",
       "      <td>...</td>\n",
       "      <td>...</td>\n",
       "      <td>...</td>\n",
       "      <td>...</td>\n",
       "      <td>...</td>\n",
       "      <td>...</td>\n",
       "      <td>...</td>\n",
       "      <td>...</td>\n",
       "      <td>...</td>\n",
       "      <td>...</td>\n",
       "      <td>...</td>\n",
       "      <td>...</td>\n",
       "      <td>...</td>\n",
       "      <td>...</td>\n",
       "      <td>...</td>\n",
       "      <td>...</td>\n",
       "      <td>...</td>\n",
       "      <td>...</td>\n",
       "      <td>...</td>\n",
       "      <td>...</td>\n",
       "    </tr>\n",
       "    <tr>\n",
       "      <th>365513</th>\n",
       "      <td>15227.36</td>\n",
       "      <td>0</td>\n",
       "      <td>4.383520e+05</td>\n",
       "      <td>813.0</td>\n",
       "      <td>8072163.0</td>\n",
       "      <td>1</td>\n",
       "      <td>2021</td>\n",
       "      <td>12</td>\n",
       "      <td>0</td>\n",
       "      <td>1</td>\n",
       "      <td>...</td>\n",
       "      <td>0</td>\n",
       "      <td>0</td>\n",
       "      <td>0</td>\n",
       "      <td>0</td>\n",
       "      <td>1</td>\n",
       "      <td>0</td>\n",
       "      <td>0</td>\n",
       "      <td>0</td>\n",
       "      <td>1</td>\n",
       "      <td>0</td>\n",
       "    </tr>\n",
       "    <tr>\n",
       "      <th>365514</th>\n",
       "      <td>1210.86</td>\n",
       "      <td>1</td>\n",
       "      <td>0.000000e+00</td>\n",
       "      <td>848.0</td>\n",
       "      <td>2660026.0</td>\n",
       "      <td>0</td>\n",
       "      <td>2023</td>\n",
       "      <td>4</td>\n",
       "      <td>0</td>\n",
       "      <td>1</td>\n",
       "      <td>...</td>\n",
       "      <td>0</td>\n",
       "      <td>1</td>\n",
       "      <td>0</td>\n",
       "      <td>0</td>\n",
       "      <td>0</td>\n",
       "      <td>1</td>\n",
       "      <td>0</td>\n",
       "      <td>0</td>\n",
       "      <td>0</td>\n",
       "      <td>1</td>\n",
       "    </tr>\n",
       "    <tr>\n",
       "      <th>365515</th>\n",
       "      <td>3031.11</td>\n",
       "      <td>1</td>\n",
       "      <td>7.402553e+03</td>\n",
       "      <td>1203.0</td>\n",
       "      <td>454499.0</td>\n",
       "      <td>0</td>\n",
       "      <td>2022</td>\n",
       "      <td>3</td>\n",
       "      <td>0</td>\n",
       "      <td>1</td>\n",
       "      <td>...</td>\n",
       "      <td>0</td>\n",
       "      <td>0</td>\n",
       "      <td>0</td>\n",
       "      <td>0</td>\n",
       "      <td>0</td>\n",
       "      <td>1</td>\n",
       "      <td>0</td>\n",
       "      <td>0</td>\n",
       "      <td>1</td>\n",
       "      <td>0</td>\n",
       "    </tr>\n",
       "    <tr>\n",
       "      <th>365516</th>\n",
       "      <td>8690.64</td>\n",
       "      <td>1</td>\n",
       "      <td>6.013005e+04</td>\n",
       "      <td>803.0</td>\n",
       "      <td>6503491.0</td>\n",
       "      <td>1</td>\n",
       "      <td>2023</td>\n",
       "      <td>3</td>\n",
       "      <td>0</td>\n",
       "      <td>1</td>\n",
       "      <td>...</td>\n",
       "      <td>1</td>\n",
       "      <td>0</td>\n",
       "      <td>0</td>\n",
       "      <td>0</td>\n",
       "      <td>0</td>\n",
       "      <td>1</td>\n",
       "      <td>0</td>\n",
       "      <td>0</td>\n",
       "      <td>1</td>\n",
       "      <td>0</td>\n",
       "    </tr>\n",
       "    <tr>\n",
       "      <th>365517</th>\n",
       "      <td>701.85</td>\n",
       "      <td>1</td>\n",
       "      <td>1.245761e+06</td>\n",
       "      <td>813.0</td>\n",
       "      <td>8072163.0</td>\n",
       "      <td>0</td>\n",
       "      <td>2023</td>\n",
       "      <td>1</td>\n",
       "      <td>0</td>\n",
       "      <td>1</td>\n",
       "      <td>...</td>\n",
       "      <td>0</td>\n",
       "      <td>0</td>\n",
       "      <td>0</td>\n",
       "      <td>0</td>\n",
       "      <td>1</td>\n",
       "      <td>0</td>\n",
       "      <td>0</td>\n",
       "      <td>0</td>\n",
       "      <td>1</td>\n",
       "      <td>0</td>\n",
       "    </tr>\n",
       "  </tbody>\n",
       "</table>\n",
       "<p>365518 rows × 41 columns</p>\n",
       "</div>"
      ],
      "text/plain": [
       "        total_sale_value_x  co_location_flag  media_amount_spend  \\\n",
       "0                   599.62                 1        2.799378e+04   \n",
       "1                  1733.01                 1        3.981080e+05   \n",
       "2                   894.80                 1        6.042893e+04   \n",
       "3                  2687.72                 1        5.625606e+06   \n",
       "4                   530.78                 1        1.836416e+05   \n",
       "...                    ...               ...                 ...   \n",
       "365513            15227.36                 0        4.383520e+05   \n",
       "365514             1210.86                 1        0.000000e+00   \n",
       "365515             3031.11                 1        7.402553e+03   \n",
       "365516             8690.64                 1        6.013005e+04   \n",
       "365517              701.85                 1        1.245761e+06   \n",
       "\n",
       "        Median income  population_2021  same_area_shopping  year  month  \\\n",
       "0               734.0        1781516.0                   0  2022      7   \n",
       "1               734.0        1781516.0                   0  2022      4   \n",
       "2               734.0        1781516.0                   0  2023      1   \n",
       "3               803.0        6503491.0                   1  2021     11   \n",
       "4               787.0        5156138.0                   0  2022     10   \n",
       "...               ...              ...                 ...   ...    ...   \n",
       "365513          813.0        8072163.0                   1  2021     12   \n",
       "365514          848.0        2660026.0                   0  2023      4   \n",
       "365515         1203.0         454499.0                   0  2022      3   \n",
       "365516          803.0        6503491.0                   1  2023      3   \n",
       "365517          813.0        8072163.0                   0  2023      1   \n",
       "\n",
       "        sales_channel_Digital - Delivery  sales_channel_Store  ...  \\\n",
       "0                                      0                    1  ...   \n",
       "1                                      0                    1  ...   \n",
       "2                                      0                    1  ...   \n",
       "3                                      0                    1  ...   \n",
       "4                                      0                    1  ...   \n",
       "...                                  ...                  ...  ...   \n",
       "365513                                 0                    1  ...   \n",
       "365514                                 0                    1  ...   \n",
       "365515                                 0                    1  ...   \n",
       "365516                                 0                    1  ...   \n",
       "365517                                 0                    1  ...   \n",
       "\n",
       "        store_state_VIC  store_state_WA  distance_to_kmart_3-5 KM  \\\n",
       "0                     0               0                         0   \n",
       "1                     0               0                         0   \n",
       "2                     0               0                         0   \n",
       "3                     1               0                         0   \n",
       "4                     0               0                         0   \n",
       "...                 ...             ...                       ...   \n",
       "365513                0               0                         0   \n",
       "365514                0               1                         0   \n",
       "365515                0               0                         0   \n",
       "365516                1               0                         0   \n",
       "365517                0               0                         0   \n",
       "\n",
       "        distance_to_kmart_<1 KM  distance_to_kmart_>5 KM  \\\n",
       "0                             0                        0   \n",
       "1                             0                        0   \n",
       "2                             0                        0   \n",
       "3                             0                        0   \n",
       "4                             0                        0   \n",
       "...                         ...                      ...   \n",
       "365513                        0                        1   \n",
       "365514                        0                        0   \n",
       "365515                        0                        0   \n",
       "365516                        0                        0   \n",
       "365517                        0                        1   \n",
       "\n",
       "        distance_to_kmart_Same Centre  distance_to_target_3-5 KM  \\\n",
       "0                                   1                          0   \n",
       "1                                   0                          0   \n",
       "2                                   1                          1   \n",
       "3                                   1                          0   \n",
       "4                                   1                          0   \n",
       "...                               ...                        ...   \n",
       "365513                              0                          0   \n",
       "365514                              1                          0   \n",
       "365515                              1                          0   \n",
       "365516                              1                          0   \n",
       "365517                              0                          0   \n",
       "\n",
       "        distance_to_target_<1 KM  distance_to_target_>5 KM  \\\n",
       "0                              0                         0   \n",
       "1                              0                         0   \n",
       "2                              0                         0   \n",
       "3                              0                         1   \n",
       "4                              0                         0   \n",
       "...                          ...                       ...   \n",
       "365513                         0                         1   \n",
       "365514                         0                         0   \n",
       "365515                         0                         1   \n",
       "365516                         0                         1   \n",
       "365517                         0                         1   \n",
       "\n",
       "        distance_to_target_Same Centre  \n",
       "0                                    1  \n",
       "1                                    0  \n",
       "2                                    0  \n",
       "3                                    0  \n",
       "4                                    1  \n",
       "...                                ...  \n",
       "365513                               0  \n",
       "365514                               1  \n",
       "365515                               0  \n",
       "365516                               0  \n",
       "365517                               0  \n",
       "\n",
       "[365518 rows x 41 columns]"
      ]
     },
     "execution_count": 191,
     "metadata": {},
     "output_type": "execute_result"
    }
   ],
   "source": [
    "#get dummy table\n",
    "dummy_test = pd.get_dummies(final_test, columns = cate_col, drop_first = True)\n",
    "dummy_test"
   ]
  },
  {
   "cell_type": "code",
   "execution_count": 193,
   "id": "afef5b7e",
   "metadata": {
    "id": "c1mzMPN8J3lA"
   },
   "outputs": [],
   "source": [
    "#dummy_train['log_sale'] = np.log(dummy_train['total_sale_value_x'])\n",
    "dummy_test['log_totalvalue'] = np.log(dummy_test['total_sale_value_x'])"
   ]
  },
  {
   "cell_type": "code",
   "execution_count": 195,
   "id": "7421da1b",
   "metadata": {
    "colab": {
     "base_uri": "https://localhost:8080/"
    },
    "id": "Ct3dO-iZceId",
    "outputId": "e8958e78-98de-41a5-9a5a-206fc303cc35"
   },
   "outputs": [
    {
     "data": {
      "text/plain": [
       "same_area_shopping                 0.42\n",
       "lifstage_segment_Young Families    0.15\n",
       "distance_to_kmart_>5 KM            0.12\n",
       "month                              0.08\n",
       "store_state_NSW                    0.08\n",
       "customer_state_NSW                 0.07\n",
       "population_2021                    0.07\n",
       "distance_to_target_>5 KM           0.06\n",
       "lifstage_segment_New Families      0.04\n",
       "distance_to_target_<1 KM           0.03\n",
       "Name: log_totalvalue, dtype: float64"
      ]
     },
     "execution_count": 195,
     "metadata": {},
     "output_type": "execute_result"
    }
   ],
   "source": [
    "dummy_train.corr()['log_totalvalue'].sort_values(ascending = False).round(2).iloc[2:,].head(10)"
   ]
  },
  {
   "cell_type": "markdown",
   "id": "113370e5",
   "metadata": {
    "id": "i39dpbTcpRve"
   },
   "source": []
  },
  {
   "cell_type": "markdown",
   "id": "f19fe1f0",
   "metadata": {
    "id": "C-CHUOma5KaJ"
   },
   "source": [
    "## 4. Model Building"
   ]
  },
  {
   "cell_type": "markdown",
   "id": "7c9df166",
   "metadata": {
    "id": "6TxRuKu35VW6"
   },
   "source": [
    "### 4.1 Train Valid Split"
   ]
  },
  {
   "cell_type": "code",
   "execution_count": 196,
   "id": "eac8ea83",
   "metadata": {
    "colab": {
     "base_uri": "https://localhost:8080/"
    },
    "id": "mfefq1tL5TGj",
    "outputId": "47a21051-5742-4027-ab2f-c485d24c061f"
   },
   "outputs": [
    {
     "name": "stdout",
     "output_type": "stream",
     "text": [
      "Train: (1462073, 40)\n",
      "Test: (365519, 40)\n"
     ]
    }
   ],
   "source": [
    "# Randomly split indexes\n",
    "index_train, index_valid  = train_test_split(np.array(dummy_train.index), train_size = 0.8, random_state = 42)\n",
    "\n",
    "# Write training and validation sets\n",
    "train = dummy_train.loc[index_train,:].copy()\n",
    "valid =  dummy_train.loc[index_valid,:].copy()\n",
    "\n",
    "X_train = train.drop(['total_sale_value_x', 'log_totalvalue'], axis = 1)\n",
    "X_valid = valid.drop(['total_sale_value_x', 'log_totalvalue'], axis = 1)\n",
    "\n",
    "y_train= train['log_totalvalue']\n",
    "y_valid = valid['log_totalvalue']\n",
    "y_valid_original =  valid['total_sale_value_x']\n",
    "\n",
    "\n",
    "print('Train:', X_train.shape)\n",
    "print('Test:', X_valid.shape)"
   ]
  },
  {
   "cell_type": "markdown",
   "id": "aae09dd7",
   "metadata": {
    "id": "l5PZQz665p_0"
   },
   "source": [
    "### 4.2 Models"
   ]
  },
  {
   "cell_type": "code",
   "execution_count": 197,
   "id": "ae1e70a8",
   "metadata": {
    "id": "wlYa8jOjTBwU"
   },
   "outputs": [],
   "source": [
    "rmse_list = []\n",
    "rmsle_list = []\n",
    "models = []"
   ]
  },
  {
   "cell_type": "markdown",
   "id": "34b4ac50",
   "metadata": {
    "id": "1QBlhzNM5bkS"
   },
   "source": [
    "### 4.2.1 Linear Model"
   ]
  },
  {
   "cell_type": "markdown",
   "id": "741fb103",
   "metadata": {
    "id": "zoBSVPtGStIa"
   },
   "source": [
    "#### 4.2.1.1 Linear Regression"
   ]
  },
  {
   "cell_type": "code",
   "execution_count": 198,
   "id": "35fb5114",
   "metadata": {
    "colab": {
     "base_uri": "https://localhost:8080/",
     "height": 74
    },
    "id": "WSD696G55OkI",
    "outputId": "79620c32-ae57-4eaf-88a0-47bf6d206d9f"
   },
   "outputs": [
    {
     "data": {
      "text/html": [
       "<style>#sk-container-id-1 {color: black;background-color: white;}#sk-container-id-1 pre{padding: 0;}#sk-container-id-1 div.sk-toggleable {background-color: white;}#sk-container-id-1 label.sk-toggleable__label {cursor: pointer;display: block;width: 100%;margin-bottom: 0;padding: 0.3em;box-sizing: border-box;text-align: center;}#sk-container-id-1 label.sk-toggleable__label-arrow:before {content: \"▸\";float: left;margin-right: 0.25em;color: #696969;}#sk-container-id-1 label.sk-toggleable__label-arrow:hover:before {color: black;}#sk-container-id-1 div.sk-estimator:hover label.sk-toggleable__label-arrow:before {color: black;}#sk-container-id-1 div.sk-toggleable__content {max-height: 0;max-width: 0;overflow: hidden;text-align: left;background-color: #f0f8ff;}#sk-container-id-1 div.sk-toggleable__content pre {margin: 0.2em;color: black;border-radius: 0.25em;background-color: #f0f8ff;}#sk-container-id-1 input.sk-toggleable__control:checked~div.sk-toggleable__content {max-height: 200px;max-width: 100%;overflow: auto;}#sk-container-id-1 input.sk-toggleable__control:checked~label.sk-toggleable__label-arrow:before {content: \"▾\";}#sk-container-id-1 div.sk-estimator input.sk-toggleable__control:checked~label.sk-toggleable__label {background-color: #d4ebff;}#sk-container-id-1 div.sk-label input.sk-toggleable__control:checked~label.sk-toggleable__label {background-color: #d4ebff;}#sk-container-id-1 input.sk-hidden--visually {border: 0;clip: rect(1px 1px 1px 1px);clip: rect(1px, 1px, 1px, 1px);height: 1px;margin: -1px;overflow: hidden;padding: 0;position: absolute;width: 1px;}#sk-container-id-1 div.sk-estimator {font-family: monospace;background-color: #f0f8ff;border: 1px dotted black;border-radius: 0.25em;box-sizing: border-box;margin-bottom: 0.5em;}#sk-container-id-1 div.sk-estimator:hover {background-color: #d4ebff;}#sk-container-id-1 div.sk-parallel-item::after {content: \"\";width: 100%;border-bottom: 1px solid gray;flex-grow: 1;}#sk-container-id-1 div.sk-label:hover label.sk-toggleable__label {background-color: #d4ebff;}#sk-container-id-1 div.sk-serial::before {content: \"\";position: absolute;border-left: 1px solid gray;box-sizing: border-box;top: 0;bottom: 0;left: 50%;z-index: 0;}#sk-container-id-1 div.sk-serial {display: flex;flex-direction: column;align-items: center;background-color: white;padding-right: 0.2em;padding-left: 0.2em;position: relative;}#sk-container-id-1 div.sk-item {position: relative;z-index: 1;}#sk-container-id-1 div.sk-parallel {display: flex;align-items: stretch;justify-content: center;background-color: white;position: relative;}#sk-container-id-1 div.sk-item::before, #sk-container-id-1 div.sk-parallel-item::before {content: \"\";position: absolute;border-left: 1px solid gray;box-sizing: border-box;top: 0;bottom: 0;left: 50%;z-index: -1;}#sk-container-id-1 div.sk-parallel-item {display: flex;flex-direction: column;z-index: 1;position: relative;background-color: white;}#sk-container-id-1 div.sk-parallel-item:first-child::after {align-self: flex-end;width: 50%;}#sk-container-id-1 div.sk-parallel-item:last-child::after {align-self: flex-start;width: 50%;}#sk-container-id-1 div.sk-parallel-item:only-child::after {width: 0;}#sk-container-id-1 div.sk-dashed-wrapped {border: 1px dashed gray;margin: 0 0.4em 0.5em 0.4em;box-sizing: border-box;padding-bottom: 0.4em;background-color: white;}#sk-container-id-1 div.sk-label label {font-family: monospace;font-weight: bold;display: inline-block;line-height: 1.2em;}#sk-container-id-1 div.sk-label-container {text-align: center;}#sk-container-id-1 div.sk-container {/* jupyter's `normalize.less` sets `[hidden] { display: none; }` but bootstrap.min.css set `[hidden] { display: none !important; }` so we also need the `!important` here to be able to override the default hidden behavior on the sphinx rendered scikit-learn.org. See: https://github.com/scikit-learn/scikit-learn/issues/21755 */display: inline-block !important;position: relative;}#sk-container-id-1 div.sk-text-repr-fallback {display: none;}</style><div id=\"sk-container-id-1\" class=\"sk-top-container\"><div class=\"sk-text-repr-fallback\"><pre>LinearRegression()</pre><b>In a Jupyter environment, please rerun this cell to show the HTML representation or trust the notebook. <br />On GitHub, the HTML representation is unable to render, please try loading this page with nbviewer.org.</b></div><div class=\"sk-container\" hidden><div class=\"sk-item\"><div class=\"sk-estimator sk-toggleable\"><input class=\"sk-toggleable__control sk-hidden--visually\" id=\"sk-estimator-id-1\" type=\"checkbox\" checked><label for=\"sk-estimator-id-1\" class=\"sk-toggleable__label sk-toggleable__label-arrow\">LinearRegression</label><div class=\"sk-toggleable__content\"><pre>LinearRegression()</pre></div></div></div></div></div>"
      ],
      "text/plain": [
       "LinearRegression()"
      ]
     },
     "execution_count": 198,
     "metadata": {},
     "output_type": "execute_result"
    }
   ],
   "source": [
    "# basic model\n",
    "\n",
    "ols_full = LinearRegression()\n",
    "ols_full.fit(X_train, y_train)"
   ]
  },
  {
   "cell_type": "code",
   "execution_count": 199,
   "id": "335e494e",
   "metadata": {
    "colab": {
     "base_uri": "https://localhost:8080/"
    },
    "id": "Tr7FJZmc5Oma",
    "outputId": "a0b9820e-611c-499c-c9ee-e4f9494a3da7"
   },
   "outputs": [
    {
     "data": {
      "text/plain": [
       "array([ 8.03605160e-03, -1.04482005e-08, -1.25841513e-03, -6.09851262e-08,\n",
       "        1.17135295e+00,  6.08727505e-02,  3.21507910e-02,  7.37140055e-02,\n",
       "        8.20172732e-01, -8.61768666e-02, -2.39271788e-01,  1.61359958e-01,\n",
       "       -3.95718820e-01, -5.22665242e-01,  9.94594621e-01, -1.75191416e-01,\n",
       "        3.89116461e-02, -5.27738926e-02, -3.58453043e-01,  3.68265969e-01,\n",
       "        2.11950803e-01,  3.67117736e-01,  1.39712238e-01,  5.98230603e-01,\n",
       "        3.89624988e-02,  3.14006890e-01,  1.23095938e-01,  3.63809101e-01,\n",
       "        1.84515877e-02, -1.48929077e+00,  1.16087727e-01, -1.65799000e-01,\n",
       "       -7.58481861e-02, -5.57309515e-02,  2.27841568e-02, -1.59107059e-01,\n",
       "       -4.45759104e-03,  4.38709464e-02,  1.37910761e-02, -4.06151659e-02])"
      ]
     },
     "execution_count": 199,
     "metadata": {},
     "output_type": "execute_result"
    }
   ],
   "source": [
    "ols_full.coef_"
   ]
  },
  {
   "cell_type": "code",
   "execution_count": 200,
   "id": "38092dac",
   "metadata": {
    "colab": {
     "base_uri": "https://localhost:8080/"
    },
    "id": "pzZ3l6mHoO-_",
    "outputId": "501a992f-357c-4b9b-cf62-0dd6748db15c"
   },
   "outputs": [
    {
     "data": {
      "text/plain": [
       "Index(['co_location_flag', 'media_amount_spend', 'Median income',\n",
       "       'population_2021', 'same_area_shopping', 'year', 'month',\n",
       "       'sales_channel_Digital - Delivery', 'sales_channel_Store',\n",
       "       'customer_state_NSW', 'customer_state_NT', 'customer_state_Other',\n",
       "       'customer_state_QLD', 'customer_state_SA', 'customer_state_TAS',\n",
       "       'customer_state_VIC', 'customer_state_WA', 'price_segment_Mainstream',\n",
       "       'price_segment_Premium', 'lifstage_segment_New Families',\n",
       "       'lifstage_segment_Older Families',\n",
       "       'lifstage_segment_Older Singles/Couples', 'lifstage_segment_Retirees',\n",
       "       'lifstage_segment_Young Families',\n",
       "       'lifstage_segment_Young Singles/Couples', 'store_state_NSW',\n",
       "       'store_state_NT', 'store_state_QLD', 'store_state_SA',\n",
       "       'store_state_TAS', 'store_state_VIC', 'store_state_WA',\n",
       "       'distance_to_kmart_3-5 KM', 'distance_to_kmart_<1 KM',\n",
       "       'distance_to_kmart_>5 KM', 'distance_to_kmart_Same Centre',\n",
       "       'distance_to_target_3-5 KM', 'distance_to_target_<1 KM',\n",
       "       'distance_to_target_>5 KM', 'distance_to_target_Same Centre'],\n",
       "      dtype='object')"
      ]
     },
     "execution_count": 200,
     "metadata": {},
     "output_type": "execute_result"
    }
   ],
   "source": [
    "X_train.columns"
   ]
  },
  {
   "cell_type": "code",
   "execution_count": 201,
   "id": "731064f5",
   "metadata": {
    "id": "w7nWcOCfVedB"
   },
   "outputs": [
    {
     "data": {
      "text/html": [
       "<div>\n",
       "<style scoped>\n",
       "    .dataframe tbody tr th:only-of-type {\n",
       "        vertical-align: middle;\n",
       "    }\n",
       "\n",
       "    .dataframe tbody tr th {\n",
       "        vertical-align: top;\n",
       "    }\n",
       "\n",
       "    .dataframe thead th {\n",
       "        text-align: right;\n",
       "    }\n",
       "</style>\n",
       "<table border=\"1\" class=\"dataframe\">\n",
       "  <thead>\n",
       "    <tr style=\"text-align: right;\">\n",
       "      <th></th>\n",
       "      <th>coef</th>\n",
       "    </tr>\n",
       "  </thead>\n",
       "  <tbody>\n",
       "    <tr>\n",
       "      <th>co_location_flag</th>\n",
       "      <td>0.008</td>\n",
       "    </tr>\n",
       "    <tr>\n",
       "      <th>media_amount_spend</th>\n",
       "      <td>-0.0</td>\n",
       "    </tr>\n",
       "    <tr>\n",
       "      <th>Median income</th>\n",
       "      <td>-0.001</td>\n",
       "    </tr>\n",
       "    <tr>\n",
       "      <th>population_2021</th>\n",
       "      <td>-0.0</td>\n",
       "    </tr>\n",
       "    <tr>\n",
       "      <th>same_area_shopping</th>\n",
       "      <td>1.171</td>\n",
       "    </tr>\n",
       "    <tr>\n",
       "      <th>year</th>\n",
       "      <td>0.061</td>\n",
       "    </tr>\n",
       "    <tr>\n",
       "      <th>month</th>\n",
       "      <td>0.032</td>\n",
       "    </tr>\n",
       "    <tr>\n",
       "      <th>sales_channel_Digital - Delivery</th>\n",
       "      <td>0.074</td>\n",
       "    </tr>\n",
       "    <tr>\n",
       "      <th>sales_channel_Store</th>\n",
       "      <td>0.82</td>\n",
       "    </tr>\n",
       "    <tr>\n",
       "      <th>customer_state_NSW</th>\n",
       "      <td>-0.086</td>\n",
       "    </tr>\n",
       "    <tr>\n",
       "      <th>customer_state_NT</th>\n",
       "      <td>-0.239</td>\n",
       "    </tr>\n",
       "    <tr>\n",
       "      <th>customer_state_Other</th>\n",
       "      <td>0.161</td>\n",
       "    </tr>\n",
       "    <tr>\n",
       "      <th>customer_state_QLD</th>\n",
       "      <td>-0.396</td>\n",
       "    </tr>\n",
       "    <tr>\n",
       "      <th>customer_state_SA</th>\n",
       "      <td>-0.523</td>\n",
       "    </tr>\n",
       "    <tr>\n",
       "      <th>customer_state_TAS</th>\n",
       "      <td>0.995</td>\n",
       "    </tr>\n",
       "    <tr>\n",
       "      <th>customer_state_VIC</th>\n",
       "      <td>-0.175</td>\n",
       "    </tr>\n",
       "    <tr>\n",
       "      <th>customer_state_WA</th>\n",
       "      <td>0.039</td>\n",
       "    </tr>\n",
       "    <tr>\n",
       "      <th>price_segment_Mainstream</th>\n",
       "      <td>-0.053</td>\n",
       "    </tr>\n",
       "    <tr>\n",
       "      <th>price_segment_Premium</th>\n",
       "      <td>-0.358</td>\n",
       "    </tr>\n",
       "    <tr>\n",
       "      <th>lifstage_segment_New Families</th>\n",
       "      <td>0.368</td>\n",
       "    </tr>\n",
       "    <tr>\n",
       "      <th>lifstage_segment_Older Families</th>\n",
       "      <td>0.212</td>\n",
       "    </tr>\n",
       "    <tr>\n",
       "      <th>lifstage_segment_Older Singles/Couples</th>\n",
       "      <td>0.367</td>\n",
       "    </tr>\n",
       "    <tr>\n",
       "      <th>lifstage_segment_Retirees</th>\n",
       "      <td>0.14</td>\n",
       "    </tr>\n",
       "    <tr>\n",
       "      <th>lifstage_segment_Young Families</th>\n",
       "      <td>0.598</td>\n",
       "    </tr>\n",
       "    <tr>\n",
       "      <th>lifstage_segment_Young Singles/Couples</th>\n",
       "      <td>0.039</td>\n",
       "    </tr>\n",
       "    <tr>\n",
       "      <th>store_state_NSW</th>\n",
       "      <td>0.314</td>\n",
       "    </tr>\n",
       "    <tr>\n",
       "      <th>store_state_NT</th>\n",
       "      <td>0.123</td>\n",
       "    </tr>\n",
       "    <tr>\n",
       "      <th>store_state_QLD</th>\n",
       "      <td>0.364</td>\n",
       "    </tr>\n",
       "    <tr>\n",
       "      <th>store_state_SA</th>\n",
       "      <td>0.018</td>\n",
       "    </tr>\n",
       "    <tr>\n",
       "      <th>store_state_TAS</th>\n",
       "      <td>-1.489</td>\n",
       "    </tr>\n",
       "    <tr>\n",
       "      <th>store_state_VIC</th>\n",
       "      <td>0.116</td>\n",
       "    </tr>\n",
       "    <tr>\n",
       "      <th>store_state_WA</th>\n",
       "      <td>-0.166</td>\n",
       "    </tr>\n",
       "    <tr>\n",
       "      <th>distance_to_kmart_3-5 KM</th>\n",
       "      <td>-0.076</td>\n",
       "    </tr>\n",
       "    <tr>\n",
       "      <th>distance_to_kmart_&lt;1 KM</th>\n",
       "      <td>-0.056</td>\n",
       "    </tr>\n",
       "    <tr>\n",
       "      <th>distance_to_kmart_&gt;5 KM</th>\n",
       "      <td>0.023</td>\n",
       "    </tr>\n",
       "    <tr>\n",
       "      <th>distance_to_kmart_Same Centre</th>\n",
       "      <td>-0.159</td>\n",
       "    </tr>\n",
       "    <tr>\n",
       "      <th>distance_to_target_3-5 KM</th>\n",
       "      <td>-0.004</td>\n",
       "    </tr>\n",
       "    <tr>\n",
       "      <th>distance_to_target_&lt;1 KM</th>\n",
       "      <td>0.044</td>\n",
       "    </tr>\n",
       "    <tr>\n",
       "      <th>distance_to_target_&gt;5 KM</th>\n",
       "      <td>0.014</td>\n",
       "    </tr>\n",
       "    <tr>\n",
       "      <th>distance_to_target_Same Centre</th>\n",
       "      <td>-0.041</td>\n",
       "    </tr>\n",
       "  </tbody>\n",
       "</table>\n",
       "</div>"
      ],
      "text/plain": [
       "                                         coef\n",
       "co_location_flag                        0.008\n",
       "media_amount_spend                       -0.0\n",
       "Median income                          -0.001\n",
       "population_2021                          -0.0\n",
       "same_area_shopping                      1.171\n",
       "year                                    0.061\n",
       "month                                   0.032\n",
       "sales_channel_Digital - Delivery        0.074\n",
       "sales_channel_Store                      0.82\n",
       "customer_state_NSW                     -0.086\n",
       "customer_state_NT                      -0.239\n",
       "customer_state_Other                    0.161\n",
       "customer_state_QLD                     -0.396\n",
       "customer_state_SA                      -0.523\n",
       "customer_state_TAS                      0.995\n",
       "customer_state_VIC                     -0.175\n",
       "customer_state_WA                       0.039\n",
       "price_segment_Mainstream               -0.053\n",
       "price_segment_Premium                  -0.358\n",
       "lifstage_segment_New Families           0.368\n",
       "lifstage_segment_Older Families         0.212\n",
       "lifstage_segment_Older Singles/Couples  0.367\n",
       "lifstage_segment_Retirees                0.14\n",
       "lifstage_segment_Young Families         0.598\n",
       "lifstage_segment_Young Singles/Couples  0.039\n",
       "store_state_NSW                         0.314\n",
       "store_state_NT                          0.123\n",
       "store_state_QLD                         0.364\n",
       "store_state_SA                          0.018\n",
       "store_state_TAS                        -1.489\n",
       "store_state_VIC                         0.116\n",
       "store_state_WA                         -0.166\n",
       "distance_to_kmart_3-5 KM               -0.076\n",
       "distance_to_kmart_<1 KM                -0.056\n",
       "distance_to_kmart_>5 KM                 0.023\n",
       "distance_to_kmart_Same Centre          -0.159\n",
       "distance_to_target_3-5 KM              -0.004\n",
       "distance_to_target_<1 KM                0.044\n",
       "distance_to_target_>5 KM                0.014\n",
       "distance_to_target_Same Centre         -0.041"
      ]
     },
     "execution_count": 201,
     "metadata": {},
     "output_type": "execute_result"
    }
   ],
   "source": [
    "ols_table_c = coef_table(ols_full, X_train.columns)\n",
    "ols_table_c"
   ]
  },
  {
   "cell_type": "code",
   "execution_count": 202,
   "id": "7eec234b",
   "metadata": {
    "colab": {
     "base_uri": "https://localhost:8080/",
     "height": 546
    },
    "id": "69gtBzNu5Ooj",
    "outputId": "50b2cd1e-cff4-4a65-e42d-923ad8f8276f"
   },
   "outputs": [
    {
     "data": {
      "image/png": "[encoded data removed]",
      "text/plain": [
       "<Figure size 900x600 with 1 Axes>"
      ]
     },
     "metadata": {},
     "output_type": "display_data"
    }
   ],
   "source": [
    "#predictors = cate_col + ['media_amount_spend',\t'Median income',\t'population_2021',\t'year',\t'month']\n",
    "coefplot(ols_full, X_train.columns)\n",
    "plt.savefig('lr_c.png')\n",
    "plt.show()"
   ]
  },
  {
   "cell_type": "code",
   "execution_count": 203,
   "id": "2cdb7a3b",
   "metadata": {
    "id": "Cvu_lWv0egRq"
   },
   "outputs": [],
   "source": [
    "ols_predict = ols_full.predict(X_valid)"
   ]
  },
  {
   "cell_type": "code",
   "execution_count": 204,
   "id": "8fa52a45",
   "metadata": {
    "colab": {
     "base_uri": "https://localhost:8080/"
    },
    "id": "EIMZRYTMegW6",
    "outputId": "df6dccad-ecda-47f3-c605-81f4f451fa0a"
   },
   "outputs": [
    {
     "name": "stdout",
     "output_type": "stream",
     "text": [
      "RMSE: 2503.524\n",
      "RMSLE: 0.105\n"
     ]
    }
   ],
   "source": [
    "ols_rmse = np.sqrt(mse(y_valid_original, np.exp(ols_predict)))\n",
    "ols_rmsle = np.sqrt(msle(y_valid, ols_predict))\n",
    "\n",
    "models.append('LinearRegression')\n",
    "rmse_list.append(ols_rmse)\n",
    "rmsle_list.append(ols_rmsle)\n",
    "\n",
    "print('RMSE: {:.3f}'.format(ols_rmse))\n",
    "print('RMSLE: {:.3f}'.format(ols_rmsle))"
   ]
  },
  {
   "cell_type": "code",
   "execution_count": 205,
   "id": "299a2d3e",
   "metadata": {
    "id": "z0y0XtSJm4ca"
   },
   "outputs": [
    {
     "data": {
      "text/html": [
       "<div>\n",
       "<style scoped>\n",
       "    .dataframe tbody tr th:only-of-type {\n",
       "        vertical-align: middle;\n",
       "    }\n",
       "\n",
       "    .dataframe tbody tr th {\n",
       "        vertical-align: top;\n",
       "    }\n",
       "\n",
       "    .dataframe thead th {\n",
       "        text-align: right;\n",
       "    }\n",
       "</style>\n",
       "<table border=\"1\" class=\"dataframe\">\n",
       "  <thead>\n",
       "    <tr style=\"text-align: right;\">\n",
       "      <th></th>\n",
       "      <th>RMSE</th>\n",
       "      <th>RMSLE</th>\n",
       "    </tr>\n",
       "  </thead>\n",
       "  <tbody>\n",
       "    <tr>\n",
       "      <th>LinearRegression</th>\n",
       "      <td>2503.524</td>\n",
       "      <td>0.105</td>\n",
       "    </tr>\n",
       "  </tbody>\n",
       "</table>\n",
       "</div>"
      ],
      "text/plain": [
       "                      RMSE  RMSLE\n",
       "LinearRegression  2503.524  0.105"
      ]
     },
     "execution_count": 205,
     "metadata": {},
     "output_type": "execute_result"
    }
   ],
   "source": [
    "ols_table =eva_metric(models, rmse_list, rmsle_list)\n",
    "ols_table"
   ]
  },
  {
   "cell_type": "markdown",
   "id": "8e372d48",
   "metadata": {
    "id": "GJ4w1aJajyD9"
   },
   "source": [
    "#### 4.2.1.2 Lasso Regression"
   ]
  },
  {
   "cell_type": "code",
   "execution_count": 206,
   "id": "dd64bb1b",
   "metadata": {
    "colab": {
     "base_uri": "https://localhost:8080/"
    },
    "id": "T6zCu8dsgfjT",
    "outputId": "10f12ed3-2c8d-46a9-a885-e19ed4a12dbf"
   },
   "outputs": [],
   "source": [
    "#tutorial7\n",
    "\n",
    "X_train_l = X_train.to_numpy()\n",
    "y_train_l = X_train.to_numpy()\n",
    "\n",
    "X_valid_l = X_valid.to_numpy()\n",
    "y_valid_l = y_valid.to_numpy()\n",
    "y_valid_l_original = y_valid_original.to_numpy()\n",
    "\n",
    "scaler = StandardScaler()\n",
    "scaler.fit(X_train_l)\n",
    "\n",
    "X_train_l = scaler.transform(X_train_l)\n",
    "X_valid_l = scaler.transform(X_valid_l)\n"
   ]
  },
  {
   "cell_type": "code",
   "execution_count": 207,
   "id": "ef22b2cb",
   "metadata": {
    "id": "ctZCjTC2n5qF"
   },
   "outputs": [],
   "source": [
    "alphas_l = np.linspace(0, 50, 10)"
   ]
  },
  {
   "cell_type": "code",
   "execution_count": 208,
   "id": "586be833",
   "metadata": {
    "colab": {
     "base_uri": "https://localhost:8080/",
     "height": 459
    },
    "id": "bPngslvHgflh",
    "outputId": "bec16b47-8468-4541-e288-94b4dadb57a2"
   },
   "outputs": [
    {
     "name": "stdout",
     "output_type": "stream",
     "text": [
      "Alpha: 0.000\n",
      "RMSE: 2503.519\n",
      "RMSLE: 0.105\n",
      "CPU times: total: 32min 40s\n",
      "Wall time: 6min 35s\n"
     ]
    },
    {
     "data": {
      "image/png": "[encoded data removed]",
      "text/plain": [
       "<Figure size 900x600 with 1 Axes>"
      ]
     },
     "metadata": {},
     "output_type": "display_data"
    }
   ],
   "source": [
    "\n",
    "%%time\n",
    "neg_mse = []\n",
    "for alpha in alphas_l:\n",
    "    model = Lasso(alpha = alpha)\n",
    "    scores_mse = cross_val_score(model, X_train, y_train, cv = 5, scoring = 'neg_mean_squared_error')\n",
    "    neg_mse.append(scores_mse.mean())\n",
    "\n",
    "plt.figure()\n",
    "plt.plot(alphas_l, neg_mse)\n",
    "plt.title('Hyperparameter Sweep')\n",
    "plt.xlabel(r'$\\alpha$')\n",
    "plt.ylabel('Negative MSE')\n",
    "plt.tight_layout()\n",
    "plt.savefig('plot.png', dpi = 200)\n",
    "\n",
    "best_alpha = alphas_l[np.argmax(neg_mse)]\n",
    "\n",
    "final_model_lasso = Lasso(alpha = best_alpha)\n",
    "final_model_lasso.fit(X_train, y_train)\n",
    "\n",
    "y_pred_l = final_model_lasso.predict(X_valid)\n",
    "#y_pred_l[y_pred_l<0] = 0\n",
    "\n",
    "rmse_lasso = np.sqrt(mse(y_valid_original, np.exp(y_pred_l)))\n",
    "rmsle_lasso = np.sqrt(msle(y_valid, y_pred_l))\n",
    "\n",
    "print('Alpha: {:.3f}'.format(best_alpha))\n",
    "print('RMSE: {:.3f}'.format(rmse_lasso))\n",
    "print('RMSLE: {:.3f}'.format(rmsle_lasso))"
   ]
  },
  {
   "cell_type": "code",
   "execution_count": 209,
   "id": "3f031763",
   "metadata": {
    "id": "ZmTBGSugSZ_A"
   },
   "outputs": [
    {
     "data": {
      "image/png": "[encoded data removed]",
      "text/plain": [
       "<Figure size 900x600 with 1 Axes>"
      ]
     },
     "metadata": {},
     "output_type": "display_data"
    }
   ],
   "source": [
    "coefplot(final_model_lasso, X_train.columns)\n",
    "#plt.savefig('la_c.png')\n",
    "plt.show()"
   ]
  },
  {
   "cell_type": "code",
   "execution_count": 210,
   "id": "1947c8cb",
   "metadata": {
    "id": "JOwBT9xXSaGp"
   },
   "outputs": [
    {
     "data": {
      "text/html": [
       "<div>\n",
       "<style scoped>\n",
       "    .dataframe tbody tr th:only-of-type {\n",
       "        vertical-align: middle;\n",
       "    }\n",
       "\n",
       "    .dataframe tbody tr th {\n",
       "        vertical-align: top;\n",
       "    }\n",
       "\n",
       "    .dataframe thead th {\n",
       "        text-align: right;\n",
       "    }\n",
       "</style>\n",
       "<table border=\"1\" class=\"dataframe\">\n",
       "  <thead>\n",
       "    <tr style=\"text-align: right;\">\n",
       "      <th></th>\n",
       "      <th>coef</th>\n",
       "    </tr>\n",
       "  </thead>\n",
       "  <tbody>\n",
       "    <tr>\n",
       "      <th>co_location_flag</th>\n",
       "      <td>0.008</td>\n",
       "    </tr>\n",
       "    <tr>\n",
       "      <th>media_amount_spend</th>\n",
       "      <td>-0.0</td>\n",
       "    </tr>\n",
       "    <tr>\n",
       "      <th>Median income</th>\n",
       "      <td>0.0</td>\n",
       "    </tr>\n",
       "    <tr>\n",
       "      <th>population_2021</th>\n",
       "      <td>-0.0</td>\n",
       "    </tr>\n",
       "    <tr>\n",
       "      <th>same_area_shopping</th>\n",
       "      <td>1.171</td>\n",
       "    </tr>\n",
       "    <tr>\n",
       "      <th>year</th>\n",
       "      <td>0.061</td>\n",
       "    </tr>\n",
       "    <tr>\n",
       "      <th>month</th>\n",
       "      <td>0.032</td>\n",
       "    </tr>\n",
       "    <tr>\n",
       "      <th>sales_channel_Digital - Delivery</th>\n",
       "      <td>0.074</td>\n",
       "    </tr>\n",
       "    <tr>\n",
       "      <th>sales_channel_Store</th>\n",
       "      <td>0.82</td>\n",
       "    </tr>\n",
       "    <tr>\n",
       "      <th>customer_state_NSW</th>\n",
       "      <td>0.007</td>\n",
       "    </tr>\n",
       "    <tr>\n",
       "      <th>customer_state_NT</th>\n",
       "      <td>0.162</td>\n",
       "    </tr>\n",
       "    <tr>\n",
       "      <th>customer_state_Other</th>\n",
       "      <td>-0.761</td>\n",
       "    </tr>\n",
       "    <tr>\n",
       "      <th>customer_state_QLD</th>\n",
       "      <td>-0.094</td>\n",
       "    </tr>\n",
       "    <tr>\n",
       "      <th>customer_state_SA</th>\n",
       "      <td>0.039</td>\n",
       "    </tr>\n",
       "    <tr>\n",
       "      <th>customer_state_TAS</th>\n",
       "      <td>0.049</td>\n",
       "    </tr>\n",
       "    <tr>\n",
       "      <th>customer_state_VIC</th>\n",
       "      <td>0.023</td>\n",
       "    </tr>\n",
       "    <tr>\n",
       "      <th>customer_state_WA</th>\n",
       "      <td>-0.005</td>\n",
       "    </tr>\n",
       "    <tr>\n",
       "      <th>price_segment_Mainstream</th>\n",
       "      <td>-0.053</td>\n",
       "    </tr>\n",
       "    <tr>\n",
       "      <th>price_segment_Premium</th>\n",
       "      <td>-0.358</td>\n",
       "    </tr>\n",
       "    <tr>\n",
       "      <th>lifstage_segment_New Families</th>\n",
       "      <td>0.368</td>\n",
       "    </tr>\n",
       "    <tr>\n",
       "      <th>lifstage_segment_Older Families</th>\n",
       "      <td>0.212</td>\n",
       "    </tr>\n",
       "    <tr>\n",
       "      <th>lifstage_segment_Older Singles/Couples</th>\n",
       "      <td>0.367</td>\n",
       "    </tr>\n",
       "    <tr>\n",
       "      <th>lifstage_segment_Retirees</th>\n",
       "      <td>0.14</td>\n",
       "    </tr>\n",
       "    <tr>\n",
       "      <th>lifstage_segment_Young Families</th>\n",
       "      <td>0.598</td>\n",
       "    </tr>\n",
       "    <tr>\n",
       "      <th>lifstage_segment_Young Singles/Couples</th>\n",
       "      <td>0.039</td>\n",
       "    </tr>\n",
       "    <tr>\n",
       "      <th>store_state_NSW</th>\n",
       "      <td>0.315</td>\n",
       "    </tr>\n",
       "    <tr>\n",
       "      <th>store_state_NT</th>\n",
       "      <td>0.107</td>\n",
       "    </tr>\n",
       "    <tr>\n",
       "      <th>store_state_QLD</th>\n",
       "      <td>0.364</td>\n",
       "    </tr>\n",
       "    <tr>\n",
       "      <th>store_state_SA</th>\n",
       "      <td>0.032</td>\n",
       "    </tr>\n",
       "    <tr>\n",
       "      <th>store_state_TAS</th>\n",
       "      <td>0.149</td>\n",
       "    </tr>\n",
       "    <tr>\n",
       "      <th>store_state_VIC</th>\n",
       "      <td>0.118</td>\n",
       "    </tr>\n",
       "    <tr>\n",
       "      <th>store_state_WA</th>\n",
       "      <td>0.242</td>\n",
       "    </tr>\n",
       "    <tr>\n",
       "      <th>distance_to_kmart_3-5 KM</th>\n",
       "      <td>-0.076</td>\n",
       "    </tr>\n",
       "    <tr>\n",
       "      <th>distance_to_kmart_&lt;1 KM</th>\n",
       "      <td>-0.056</td>\n",
       "    </tr>\n",
       "    <tr>\n",
       "      <th>distance_to_kmart_&gt;5 KM</th>\n",
       "      <td>0.023</td>\n",
       "    </tr>\n",
       "    <tr>\n",
       "      <th>distance_to_kmart_Same Centre</th>\n",
       "      <td>-0.159</td>\n",
       "    </tr>\n",
       "    <tr>\n",
       "      <th>distance_to_target_3-5 KM</th>\n",
       "      <td>-0.004</td>\n",
       "    </tr>\n",
       "    <tr>\n",
       "      <th>distance_to_target_&lt;1 KM</th>\n",
       "      <td>0.044</td>\n",
       "    </tr>\n",
       "    <tr>\n",
       "      <th>distance_to_target_&gt;5 KM</th>\n",
       "      <td>0.014</td>\n",
       "    </tr>\n",
       "    <tr>\n",
       "      <th>distance_to_target_Same Centre</th>\n",
       "      <td>-0.041</td>\n",
       "    </tr>\n",
       "  </tbody>\n",
       "</table>\n",
       "</div>"
      ],
      "text/plain": [
       "                                         coef\n",
       "co_location_flag                        0.008\n",
       "media_amount_spend                       -0.0\n",
       "Median income                             0.0\n",
       "population_2021                          -0.0\n",
       "same_area_shopping                      1.171\n",
       "year                                    0.061\n",
       "month                                   0.032\n",
       "sales_channel_Digital - Delivery        0.074\n",
       "sales_channel_Store                      0.82\n",
       "customer_state_NSW                      0.007\n",
       "customer_state_NT                       0.162\n",
       "customer_state_Other                   -0.761\n",
       "customer_state_QLD                     -0.094\n",
       "customer_state_SA                       0.039\n",
       "customer_state_TAS                      0.049\n",
       "customer_state_VIC                      0.023\n",
       "customer_state_WA                      -0.005\n",
       "price_segment_Mainstream               -0.053\n",
       "price_segment_Premium                  -0.358\n",
       "lifstage_segment_New Families           0.368\n",
       "lifstage_segment_Older Families         0.212\n",
       "lifstage_segment_Older Singles/Couples  0.367\n",
       "lifstage_segment_Retirees                0.14\n",
       "lifstage_segment_Young Families         0.598\n",
       "lifstage_segment_Young Singles/Couples  0.039\n",
       "store_state_NSW                         0.315\n",
       "store_state_NT                          0.107\n",
       "store_state_QLD                         0.364\n",
       "store_state_SA                          0.032\n",
       "store_state_TAS                         0.149\n",
       "store_state_VIC                         0.118\n",
       "store_state_WA                          0.242\n",
       "distance_to_kmart_3-5 KM               -0.076\n",
       "distance_to_kmart_<1 KM                -0.056\n",
       "distance_to_kmart_>5 KM                 0.023\n",
       "distance_to_kmart_Same Centre          -0.159\n",
       "distance_to_target_3-5 KM              -0.004\n",
       "distance_to_target_<1 KM                0.044\n",
       "distance_to_target_>5 KM                0.014\n",
       "distance_to_target_Same Centre         -0.041"
      ]
     },
     "execution_count": 210,
     "metadata": {},
     "output_type": "execute_result"
    }
   ],
   "source": [
    "lasso_table_c = coef_table(final_model_lasso, X_train.columns)\n",
    "lasso_table_c"
   ]
  },
  {
   "cell_type": "code",
   "execution_count": 211,
   "id": "eb7ab63c",
   "metadata": {
    "id": "Hr0hhD2_SaJj"
   },
   "outputs": [],
   "source": [
    "models.append('Lasso Regression')\n",
    "rmse_list.append(rmse_lasso)\n",
    "rmsle_list.append(rmsle_lasso)"
   ]
  },
  {
   "cell_type": "code",
   "execution_count": 212,
   "id": "94ad50bc",
   "metadata": {
    "id": "miLl-WiDSaMh"
   },
   "outputs": [
    {
     "data": {
      "text/html": [
       "<div>\n",
       "<style scoped>\n",
       "    .dataframe tbody tr th:only-of-type {\n",
       "        vertical-align: middle;\n",
       "    }\n",
       "\n",
       "    .dataframe tbody tr th {\n",
       "        vertical-align: top;\n",
       "    }\n",
       "\n",
       "    .dataframe thead th {\n",
       "        text-align: right;\n",
       "    }\n",
       "</style>\n",
       "<table border=\"1\" class=\"dataframe\">\n",
       "  <thead>\n",
       "    <tr style=\"text-align: right;\">\n",
       "      <th></th>\n",
       "      <th>RMSE</th>\n",
       "      <th>RMSLE</th>\n",
       "    </tr>\n",
       "  </thead>\n",
       "  <tbody>\n",
       "    <tr>\n",
       "      <th>Lasso</th>\n",
       "      <td>2503.519</td>\n",
       "      <td>0.105</td>\n",
       "    </tr>\n",
       "  </tbody>\n",
       "</table>\n",
       "</div>"
      ],
      "text/plain": [
       "           RMSE  RMSLE\n",
       "Lasso  2503.519  0.105"
      ]
     },
     "execution_count": 212,
     "metadata": {},
     "output_type": "execute_result"
    }
   ],
   "source": [
    "lasso_table = eva_metric(['Lasso'], [rmse_lasso], [rmsle_lasso])\n",
    "lasso_table"
   ]
  },
  {
   "cell_type": "markdown",
   "id": "a7f541f1",
   "metadata": {
    "id": "2yGmpWx5Siae"
   },
   "source": [
    "#### 4.2.1.3 Ridge Regression"
   ]
  },
  {
   "cell_type": "code",
   "execution_count": 213,
   "id": "bf1d062a",
   "metadata": {
    "id": "j6V918uiSaPJ"
   },
   "outputs": [
    {
     "name": "stdout",
     "output_type": "stream",
     "text": [
      "Alpha: 8.859\n",
      "RMSE: 2503.555\n",
      "RMSLE: 0.105\n"
     ]
    },
    {
     "data": {
      "image/png": "[encoded data removed]",
      "text/plain": [
       "<Figure size 900x600 with 1 Axes>"
      ]
     },
     "metadata": {},
     "output_type": "display_data"
    }
   ],
   "source": [
    "\n",
    "\n",
    "neg_mse_r = []\n",
    "alphas = np.logspace(-6, 6, 20)\n",
    "for alpha in alphas:\n",
    "    model_r = Ridge(alpha = alpha)\n",
    "    scores_mse_r = cross_val_score(model_r, X_train, y_train, cv = 5, scoring = 'neg_mean_squared_error')\n",
    "    neg_mse_r.append(scores_mse_r.mean())\n",
    "\n",
    "plt.figure()\n",
    "plt.plot(alphas, neg_mse_r)\n",
    "plt.title('Hyperparameter Sweep')\n",
    "plt.xlabel(r'$\\alpha$')\n",
    "plt.ylabel('Negative MSE')\n",
    "plt.xscale('log')\n",
    "plt.savefig('plot.png')\n",
    "\n",
    "best_alpha = alphas[np.argmax(neg_mse_r)]\n",
    "\n",
    "final_model = Ridge(alpha = best_alpha)\n",
    "final_model.fit(X_train, y_train)\n",
    "\n",
    "#y_pred_r = np.exp(final_model.predict(X_valid_l))\n",
    "#rmse_ridge = np.sqrt(mse(y_valid_l_original, y_pred_r))\n",
    "y_pred_r = final_model.predict(X_valid)\n",
    "#y_pred_r[y_pred_r<0] = 0\n",
    "rmse_ridge = np.sqrt(mse(y_valid_original, np.exp(y_pred_r)))\n",
    "rmsle_ridge = np.sqrt(msle(y_valid, y_pred_r))\n",
    "\n",
    "print('Alpha: {:.3f}'.format(best_alpha))\n",
    "print('RMSE: {:.3f}'.format(rmse_ridge))\n",
    "print('RMSLE: {:.3f}'.format(rmsle_ridge))"
   ]
  },
  {
   "cell_type": "code",
   "execution_count": 214,
   "id": "e1d80e1b",
   "metadata": {
    "id": "A4CUC8nISaSy"
   },
   "outputs": [
    {
     "data": {
      "image/png": "[encoded data removed]",
      "text/plain": [
       "<Figure size 900x600 with 1 Axes>"
      ]
     },
     "metadata": {},
     "output_type": "display_data"
    }
   ],
   "source": [
    "coefplot(final_model, X_train.columns)\n",
    "#plt.savefig('rr_c.png')\n",
    "plt.show()"
   ]
  },
  {
   "cell_type": "code",
   "execution_count": 215,
   "id": "d4758520",
   "metadata": {
    "id": "LA_vhy_7uqtS"
   },
   "outputs": [
    {
     "data": {
      "text/html": [
       "<div>\n",
       "<style scoped>\n",
       "    .dataframe tbody tr th:only-of-type {\n",
       "        vertical-align: middle;\n",
       "    }\n",
       "\n",
       "    .dataframe tbody tr th {\n",
       "        vertical-align: top;\n",
       "    }\n",
       "\n",
       "    .dataframe thead th {\n",
       "        text-align: right;\n",
       "    }\n",
       "</style>\n",
       "<table border=\"1\" class=\"dataframe\">\n",
       "  <thead>\n",
       "    <tr style=\"text-align: right;\">\n",
       "      <th></th>\n",
       "      <th>coef</th>\n",
       "    </tr>\n",
       "  </thead>\n",
       "  <tbody>\n",
       "    <tr>\n",
       "      <th>co_location_flag</th>\n",
       "      <td>0.008</td>\n",
       "    </tr>\n",
       "    <tr>\n",
       "      <th>media_amount_spend</th>\n",
       "      <td>-0.0</td>\n",
       "    </tr>\n",
       "    <tr>\n",
       "      <th>Median income</th>\n",
       "      <td>-0.0</td>\n",
       "    </tr>\n",
       "    <tr>\n",
       "      <th>population_2021</th>\n",
       "      <td>-0.0</td>\n",
       "    </tr>\n",
       "    <tr>\n",
       "      <th>same_area_shopping</th>\n",
       "      <td>1.171</td>\n",
       "    </tr>\n",
       "    <tr>\n",
       "      <th>year</th>\n",
       "      <td>0.061</td>\n",
       "    </tr>\n",
       "    <tr>\n",
       "      <th>month</th>\n",
       "      <td>0.032</td>\n",
       "    </tr>\n",
       "    <tr>\n",
       "      <th>sales_channel_Digital - Delivery</th>\n",
       "      <td>0.073</td>\n",
       "    </tr>\n",
       "    <tr>\n",
       "      <th>sales_channel_Store</th>\n",
       "      <td>0.82</td>\n",
       "    </tr>\n",
       "    <tr>\n",
       "      <th>customer_state_NSW</th>\n",
       "      <td>0.09</td>\n",
       "    </tr>\n",
       "    <tr>\n",
       "      <th>customer_state_NT</th>\n",
       "      <td>0.056</td>\n",
       "    </tr>\n",
       "    <tr>\n",
       "      <th>customer_state_Other</th>\n",
       "      <td>-0.014</td>\n",
       "    </tr>\n",
       "    <tr>\n",
       "      <th>customer_state_QLD</th>\n",
       "      <td>-0.129</td>\n",
       "    </tr>\n",
       "    <tr>\n",
       "      <th>customer_state_SA</th>\n",
       "      <td>-0.135</td>\n",
       "    </tr>\n",
       "    <tr>\n",
       "      <th>customer_state_TAS</th>\n",
       "      <td>0.051</td>\n",
       "    </tr>\n",
       "    <tr>\n",
       "      <th>customer_state_VIC</th>\n",
       "      <td>0.045</td>\n",
       "    </tr>\n",
       "    <tr>\n",
       "      <th>customer_state_WA</th>\n",
       "      <td>0.081</td>\n",
       "    </tr>\n",
       "    <tr>\n",
       "      <th>price_segment_Mainstream</th>\n",
       "      <td>-0.053</td>\n",
       "    </tr>\n",
       "    <tr>\n",
       "      <th>price_segment_Premium</th>\n",
       "      <td>-0.358</td>\n",
       "    </tr>\n",
       "    <tr>\n",
       "      <th>lifstage_segment_New Families</th>\n",
       "      <td>0.368</td>\n",
       "    </tr>\n",
       "    <tr>\n",
       "      <th>lifstage_segment_Older Families</th>\n",
       "      <td>0.212</td>\n",
       "    </tr>\n",
       "    <tr>\n",
       "      <th>lifstage_segment_Older Singles/Couples</th>\n",
       "      <td>0.367</td>\n",
       "    </tr>\n",
       "    <tr>\n",
       "      <th>lifstage_segment_Retirees</th>\n",
       "      <td>0.14</td>\n",
       "    </tr>\n",
       "    <tr>\n",
       "      <th>lifstage_segment_Young Families</th>\n",
       "      <td>0.598</td>\n",
       "    </tr>\n",
       "    <tr>\n",
       "      <th>lifstage_segment_Young Singles/Couples</th>\n",
       "      <td>0.039</td>\n",
       "    </tr>\n",
       "    <tr>\n",
       "      <th>store_state_NSW</th>\n",
       "      <td>0.313</td>\n",
       "    </tr>\n",
       "    <tr>\n",
       "      <th>store_state_NT</th>\n",
       "      <td>0.068</td>\n",
       "    </tr>\n",
       "    <tr>\n",
       "      <th>store_state_QLD</th>\n",
       "      <td>0.36</td>\n",
       "    </tr>\n",
       "    <tr>\n",
       "      <th>store_state_SA</th>\n",
       "      <td>0.015</td>\n",
       "    </tr>\n",
       "    <tr>\n",
       "      <th>store_state_TAS</th>\n",
       "      <td>-0.106</td>\n",
       "    </tr>\n",
       "    <tr>\n",
       "      <th>store_state_VIC</th>\n",
       "      <td>0.115</td>\n",
       "    </tr>\n",
       "    <tr>\n",
       "      <th>store_state_WA</th>\n",
       "      <td>0.056</td>\n",
       "    </tr>\n",
       "    <tr>\n",
       "      <th>distance_to_kmart_3-5 KM</th>\n",
       "      <td>-0.076</td>\n",
       "    </tr>\n",
       "    <tr>\n",
       "      <th>distance_to_kmart_&lt;1 KM</th>\n",
       "      <td>-0.056</td>\n",
       "    </tr>\n",
       "    <tr>\n",
       "      <th>distance_to_kmart_&gt;5 KM</th>\n",
       "      <td>0.023</td>\n",
       "    </tr>\n",
       "    <tr>\n",
       "      <th>distance_to_kmart_Same Centre</th>\n",
       "      <td>-0.159</td>\n",
       "    </tr>\n",
       "    <tr>\n",
       "      <th>distance_to_target_3-5 KM</th>\n",
       "      <td>-0.005</td>\n",
       "    </tr>\n",
       "    <tr>\n",
       "      <th>distance_to_target_&lt;1 KM</th>\n",
       "      <td>0.044</td>\n",
       "    </tr>\n",
       "    <tr>\n",
       "      <th>distance_to_target_&gt;5 KM</th>\n",
       "      <td>0.014</td>\n",
       "    </tr>\n",
       "    <tr>\n",
       "      <th>distance_to_target_Same Centre</th>\n",
       "      <td>-0.041</td>\n",
       "    </tr>\n",
       "  </tbody>\n",
       "</table>\n",
       "</div>"
      ],
      "text/plain": [
       "                                         coef\n",
       "co_location_flag                        0.008\n",
       "media_amount_spend                       -0.0\n",
       "Median income                            -0.0\n",
       "population_2021                          -0.0\n",
       "same_area_shopping                      1.171\n",
       "year                                    0.061\n",
       "month                                   0.032\n",
       "sales_channel_Digital - Delivery        0.073\n",
       "sales_channel_Store                      0.82\n",
       "customer_state_NSW                       0.09\n",
       "customer_state_NT                       0.056\n",
       "customer_state_Other                   -0.014\n",
       "customer_state_QLD                     -0.129\n",
       "customer_state_SA                      -0.135\n",
       "customer_state_TAS                      0.051\n",
       "customer_state_VIC                      0.045\n",
       "customer_state_WA                       0.081\n",
       "price_segment_Mainstream               -0.053\n",
       "price_segment_Premium                  -0.358\n",
       "lifstage_segment_New Families           0.368\n",
       "lifstage_segment_Older Families         0.212\n",
       "lifstage_segment_Older Singles/Couples  0.367\n",
       "lifstage_segment_Retirees                0.14\n",
       "lifstage_segment_Young Families         0.598\n",
       "lifstage_segment_Young Singles/Couples  0.039\n",
       "store_state_NSW                         0.313\n",
       "store_state_NT                          0.068\n",
       "store_state_QLD                          0.36\n",
       "store_state_SA                          0.015\n",
       "store_state_TAS                        -0.106\n",
       "store_state_VIC                         0.115\n",
       "store_state_WA                          0.056\n",
       "distance_to_kmart_3-5 KM               -0.076\n",
       "distance_to_kmart_<1 KM                -0.056\n",
       "distance_to_kmart_>5 KM                 0.023\n",
       "distance_to_kmart_Same Centre          -0.159\n",
       "distance_to_target_3-5 KM              -0.005\n",
       "distance_to_target_<1 KM                0.044\n",
       "distance_to_target_>5 KM                0.014\n",
       "distance_to_target_Same Centre         -0.041"
      ]
     },
     "execution_count": 215,
     "metadata": {},
     "output_type": "execute_result"
    }
   ],
   "source": [
    "ridge_table_c = coef_table(final_model, X_train.columns)\n",
    "ridge_table_c"
   ]
  },
  {
   "cell_type": "code",
   "execution_count": 216,
   "id": "3c1e8729",
   "metadata": {
    "id": "I-U5BcUN5OtF"
   },
   "outputs": [],
   "source": [
    "models.append('Ridge Regression')\n",
    "rmse_list.append(rmse_ridge)\n",
    "rmsle_list.append(rmsle_ridge)"
   ]
  },
  {
   "cell_type": "code",
   "execution_count": 217,
   "id": "73dd782a",
   "metadata": {
    "id": "eNFo0qxWugG5"
   },
   "outputs": [
    {
     "data": {
      "text/html": [
       "<div>\n",
       "<style scoped>\n",
       "    .dataframe tbody tr th:only-of-type {\n",
       "        vertical-align: middle;\n",
       "    }\n",
       "\n",
       "    .dataframe tbody tr th {\n",
       "        vertical-align: top;\n",
       "    }\n",
       "\n",
       "    .dataframe thead th {\n",
       "        text-align: right;\n",
       "    }\n",
       "</style>\n",
       "<table border=\"1\" class=\"dataframe\">\n",
       "  <thead>\n",
       "    <tr style=\"text-align: right;\">\n",
       "      <th></th>\n",
       "      <th>RMSE</th>\n",
       "      <th>RMSLE</th>\n",
       "    </tr>\n",
       "  </thead>\n",
       "  <tbody>\n",
       "    <tr>\n",
       "      <th>Ridge</th>\n",
       "      <td>2503.555</td>\n",
       "      <td>0.105</td>\n",
       "    </tr>\n",
       "  </tbody>\n",
       "</table>\n",
       "</div>"
      ],
      "text/plain": [
       "           RMSE  RMSLE\n",
       "Ridge  2503.555  0.105"
      ]
     },
     "execution_count": 217,
     "metadata": {},
     "output_type": "execute_result"
    }
   ],
   "source": [
    "ridge_table = eva_metric(['Ridge'], [rmse_ridge], [rmsle_ridge])\n",
    "ridge_table"
   ]
  },
  {
   "cell_type": "markdown",
   "id": "47a8b767",
   "metadata": {
    "id": "Tow6p1Z5vRgc"
   },
   "source": [
    "#### 4.2.1.4 Linear Model Summary"
   ]
  },
  {
   "cell_type": "code",
   "execution_count": 218,
   "id": "d7414f9b",
   "metadata": {
    "id": "2ItCwHZbvWgm"
   },
   "outputs": [
    {
     "data": {
      "text/html": [
       "<div>\n",
       "<style scoped>\n",
       "    .dataframe tbody tr th:only-of-type {\n",
       "        vertical-align: middle;\n",
       "    }\n",
       "\n",
       "    .dataframe tbody tr th {\n",
       "        vertical-align: top;\n",
       "    }\n",
       "\n",
       "    .dataframe thead th {\n",
       "        text-align: right;\n",
       "    }\n",
       "</style>\n",
       "<table border=\"1\" class=\"dataframe\">\n",
       "  <thead>\n",
       "    <tr style=\"text-align: right;\">\n",
       "      <th></th>\n",
       "      <th>RMSE</th>\n",
       "      <th>RMSLE</th>\n",
       "    </tr>\n",
       "  </thead>\n",
       "  <tbody>\n",
       "    <tr>\n",
       "      <th>LinearRegression</th>\n",
       "      <td>2503.524</td>\n",
       "      <td>0.105</td>\n",
       "    </tr>\n",
       "    <tr>\n",
       "      <th>Lasso Regression</th>\n",
       "      <td>2503.519</td>\n",
       "      <td>0.105</td>\n",
       "    </tr>\n",
       "    <tr>\n",
       "      <th>Ridge Regression</th>\n",
       "      <td>2503.555</td>\n",
       "      <td>0.105</td>\n",
       "    </tr>\n",
       "  </tbody>\n",
       "</table>\n",
       "</div>"
      ],
      "text/plain": [
       "                      RMSE  RMSLE\n",
       "LinearRegression  2503.524  0.105\n",
       "Lasso Regression  2503.519  0.105\n",
       "Ridge Regression  2503.555  0.105"
      ]
     },
     "execution_count": 218,
     "metadata": {},
     "output_type": "execute_result"
    }
   ],
   "source": [
    "linear_table = eva_metric(models, rmse_list, rmsle_list)\n",
    "linear_table"
   ]
  },
  {
   "cell_type": "markdown",
   "id": "3729d4e8",
   "metadata": {
    "id": "dRBaU2wZ5fz_"
   },
   "source": [
    "### 4.2.2 Tree-based Model"
   ]
  },
  {
   "cell_type": "markdown",
   "id": "3416383f",
   "metadata": {
    "id": "sNtNnrSHGD2S"
   },
   "source": [
    "#### 4.2.2.1 Decision Tree"
   ]
  },
  {
   "cell_type": "code",
   "execution_count": 219,
   "id": "90a6a17a",
   "metadata": {
    "colab": {
     "base_uri": "https://localhost:8080/"
    },
    "id": "uyrxpYlFGEC5",
    "outputId": "74bb74d2-99f6-45d4-cc1b-9f042261ee7f"
   },
   "outputs": [
    {
     "name": "stdout",
     "output_type": "stream",
     "text": [
      "Best parameters found by grid search: DecisionTreeRegressor(max_features=19, min_samples_leaf=21, random_state=0) \n",
      "\n",
      "CPU times: total: 20min 37s\n",
      "Wall time: 21min 32s\n"
     ]
    }
   ],
   "source": [
    "#Decision Tree hyperparamater search based on  train\n",
    "%%time\n",
    "\n",
    "decision_tree = DecisionTreeRegressor(random_state=0)\n",
    "\n",
    "parameters = {'min_samples_leaf': np.arange(1, 30, 10),\n",
    "              'max_features': np.arange(1, len(X_train.columns))}\n",
    "\n",
    "\n",
    "random_search = RandomizedSearchCV(decision_tree,\n",
    "                                   parameters, n_iter=30, cv=10,\n",
    "                                   scoring='neg_mean_squared_error', random_state=42)\n",
    "\n",
    "decision_tree_model = random_search.fit(X_train, y_train)\n",
    "\n",
    "dtree_para = decision_tree_model.best_estimator_\n",
    "\n",
    "print('Best parameters found by grid search:', dtree_para, '\\n')"
   ]
  },
  {
   "cell_type": "code",
   "execution_count": 220,
   "id": "08a284de",
   "metadata": {
    "colab": {
     "base_uri": "https://localhost:8080/",
     "height": 109
    },
    "id": "QWdaC5PKGEFR",
    "outputId": "4461db8a-5f25-46d6-fc18-41b7cedbd09c"
   },
   "outputs": [
    {
     "name": "stdout",
     "output_type": "stream",
     "text": [
      "CPU times: total: 4.2 s\n",
      "Wall time: 4.41 s\n"
     ]
    },
    {
     "data": {
      "text/html": [
       "<style>#sk-container-id-2 {color: black;background-color: white;}#sk-container-id-2 pre{padding: 0;}#sk-container-id-2 div.sk-toggleable {background-color: white;}#sk-container-id-2 label.sk-toggleable__label {cursor: pointer;display: block;width: 100%;margin-bottom: 0;padding: 0.3em;box-sizing: border-box;text-align: center;}#sk-container-id-2 label.sk-toggleable__label-arrow:before {content: \"▸\";float: left;margin-right: 0.25em;color: #696969;}#sk-container-id-2 label.sk-toggleable__label-arrow:hover:before {color: black;}#sk-container-id-2 div.sk-estimator:hover label.sk-toggleable__label-arrow:before {color: black;}#sk-container-id-2 div.sk-toggleable__content {max-height: 0;max-width: 0;overflow: hidden;text-align: left;background-color: #f0f8ff;}#sk-container-id-2 div.sk-toggleable__content pre {margin: 0.2em;color: black;border-radius: 0.25em;background-color: #f0f8ff;}#sk-container-id-2 input.sk-toggleable__control:checked~div.sk-toggleable__content {max-height: 200px;max-width: 100%;overflow: auto;}#sk-container-id-2 input.sk-toggleable__control:checked~label.sk-toggleable__label-arrow:before {content: \"▾\";}#sk-container-id-2 div.sk-estimator input.sk-toggleable__control:checked~label.sk-toggleable__label {background-color: #d4ebff;}#sk-container-id-2 div.sk-label input.sk-toggleable__control:checked~label.sk-toggleable__label {background-color: #d4ebff;}#sk-container-id-2 input.sk-hidden--visually {border: 0;clip: rect(1px 1px 1px 1px);clip: rect(1px, 1px, 1px, 1px);height: 1px;margin: -1px;overflow: hidden;padding: 0;position: absolute;width: 1px;}#sk-container-id-2 div.sk-estimator {font-family: monospace;background-color: #f0f8ff;border: 1px dotted black;border-radius: 0.25em;box-sizing: border-box;margin-bottom: 0.5em;}#sk-container-id-2 div.sk-estimator:hover {background-color: #d4ebff;}#sk-container-id-2 div.sk-parallel-item::after {content: \"\";width: 100%;border-bottom: 1px solid gray;flex-grow: 1;}#sk-container-id-2 div.sk-label:hover label.sk-toggleable__label {background-color: #d4ebff;}#sk-container-id-2 div.sk-serial::before {content: \"\";position: absolute;border-left: 1px solid gray;box-sizing: border-box;top: 0;bottom: 0;left: 50%;z-index: 0;}#sk-container-id-2 div.sk-serial {display: flex;flex-direction: column;align-items: center;background-color: white;padding-right: 0.2em;padding-left: 0.2em;position: relative;}#sk-container-id-2 div.sk-item {position: relative;z-index: 1;}#sk-container-id-2 div.sk-parallel {display: flex;align-items: stretch;justify-content: center;background-color: white;position: relative;}#sk-container-id-2 div.sk-item::before, #sk-container-id-2 div.sk-parallel-item::before {content: \"\";position: absolute;border-left: 1px solid gray;box-sizing: border-box;top: 0;bottom: 0;left: 50%;z-index: -1;}#sk-container-id-2 div.sk-parallel-item {display: flex;flex-direction: column;z-index: 1;position: relative;background-color: white;}#sk-container-id-2 div.sk-parallel-item:first-child::after {align-self: flex-end;width: 50%;}#sk-container-id-2 div.sk-parallel-item:last-child::after {align-self: flex-start;width: 50%;}#sk-container-id-2 div.sk-parallel-item:only-child::after {width: 0;}#sk-container-id-2 div.sk-dashed-wrapped {border: 1px dashed gray;margin: 0 0.4em 0.5em 0.4em;box-sizing: border-box;padding-bottom: 0.4em;background-color: white;}#sk-container-id-2 div.sk-label label {font-family: monospace;font-weight: bold;display: inline-block;line-height: 1.2em;}#sk-container-id-2 div.sk-label-container {text-align: center;}#sk-container-id-2 div.sk-container {/* jupyter's `normalize.less` sets `[hidden] { display: none; }` but bootstrap.min.css set `[hidden] { display: none !important; }` so we also need the `!important` here to be able to override the default hidden behavior on the sphinx rendered scikit-learn.org. See: https://github.com/scikit-learn/scikit-learn/issues/21755 */display: inline-block !important;position: relative;}#sk-container-id-2 div.sk-text-repr-fallback {display: none;}</style><div id=\"sk-container-id-2\" class=\"sk-top-container\"><div class=\"sk-text-repr-fallback\"><pre>DecisionTreeRegressor(max_features=19, min_samples_leaf=21, random_state=0)</pre><b>In a Jupyter environment, please rerun this cell to show the HTML representation or trust the notebook. <br />On GitHub, the HTML representation is unable to render, please try loading this page with nbviewer.org.</b></div><div class=\"sk-container\" hidden><div class=\"sk-item\"><div class=\"sk-estimator sk-toggleable\"><input class=\"sk-toggleable__control sk-hidden--visually\" id=\"sk-estimator-id-2\" type=\"checkbox\" checked><label for=\"sk-estimator-id-2\" class=\"sk-toggleable__label sk-toggleable__label-arrow\">DecisionTreeRegressor</label><div class=\"sk-toggleable__content\"><pre>DecisionTreeRegressor(max_features=19, min_samples_leaf=21, random_state=0)</pre></div></div></div></div></div>"
      ],
      "text/plain": [
       "DecisionTreeRegressor(max_features=19, min_samples_leaf=21, random_state=0)"
      ]
     },
     "execution_count": 220,
     "metadata": {},
     "output_type": "execute_result"
    }
   ],
   "source": [
    "#find the best para and fit with trainset\n",
    "%%time\n",
    "final_dt = DecisionTreeRegressor(max_features=19, min_samples_leaf=21, random_state=0)\n",
    "final_dt = final_dt.fit(X_train, y_train)\n",
    "final_dt"
   ]
  },
  {
   "cell_type": "code",
   "execution_count": 221,
   "id": "3ee30ce0",
   "metadata": {
    "colab": {
     "base_uri": "https://localhost:8080/"
    },
    "id": "99Ezc98bGEHy",
    "outputId": "2b7368e2-2bf7-43c0-af07-4723af2ce128"
   },
   "outputs": [
    {
     "name": "stdout",
     "output_type": "stream",
     "text": [
      "CPU times: total: 141 ms\n",
      "Wall time: 156 ms\n"
     ]
    },
    {
     "data": {
      "text/plain": [
       "array([6.39406049, 6.64801178, 6.09403993, ..., 6.34650876, 7.07348582,\n",
       "       6.31053681])"
      ]
     },
     "execution_count": 221,
     "metadata": {},
     "output_type": "execute_result"
    }
   ],
   "source": [
    "#predict based on valid set\n",
    "%%time\n",
    "dt_predict = final_dt.predict(np.array(X_valid))\n",
    "dt_predict"
   ]
  },
  {
   "cell_type": "code",
   "execution_count": 222,
   "id": "b3632ef6",
   "metadata": {
    "colab": {
     "base_uri": "https://localhost:8080/"
    },
    "id": "1zojmZL8LpXp",
    "outputId": "dae815e1-3c3a-42db-e53b-f05c8e975eec"
   },
   "outputs": [
    {
     "name": "stdout",
     "output_type": "stream",
     "text": [
      "RMSE: 2245.305\n",
      "RMSLE: 0.098\n",
      "CPU times: total: 31.2 ms\n",
      "Wall time: 18 ms\n"
     ]
    }
   ],
   "source": [
    "#caculate RMSE and RMSLE\n",
    "%%time\n",
    "dt_rmse = np.sqrt(mse(y_valid_original, np.exp(dt_predict)))\n",
    "dt_rmsle = np.sqrt(msle(y_valid, dt_predict))\n",
    "\n",
    "\n",
    "print('RMSE: {:.3f}'.format(dt_rmse))\n",
    "print('RMSLE: {:.3f}'.format(dt_rmsle))"
   ]
  },
  {
   "cell_type": "code",
   "execution_count": 223,
   "id": "30e5b537",
   "metadata": {
    "colab": {
     "base_uri": "https://localhost:8080/"
    },
    "id": "Kde395P7LpZ3",
    "outputId": "49cbc0e4-5adc-407e-d1cf-084e3d183fba"
   },
   "outputs": [
    {
     "name": "stdout",
     "output_type": "stream",
     "text": [
      "39\n"
     ]
    }
   ],
   "source": [
    "print(np.sum(final_dt.feature_importances_ != 0))"
   ]
  },
  {
   "cell_type": "code",
   "execution_count": 224,
   "id": "47d77f45",
   "metadata": {
    "colab": {
     "base_uri": "https://localhost:8080/"
    },
    "id": "6h1JwcWsLpce",
    "outputId": "dc4c101e-9c7f-494a-c213-bfee78b26d11"
   },
   "outputs": [
    {
     "name": "stdout",
     "output_type": "stream",
     "text": [
      "CPU times: total: 0 ns\n",
      "Wall time: 999 µs\n"
     ]
    },
    {
     "data": {
      "text/plain": [
       "Index(['co_location_flag', 'media_amount_spend', 'Median income',\n",
       "       'population_2021', 'same_area_shopping', 'year', 'month',\n",
       "       'sales_channel_Digital - Delivery', 'sales_channel_Store',\n",
       "       'customer_state_NSW', 'customer_state_NT', 'customer_state_QLD',\n",
       "       'customer_state_SA', 'customer_state_TAS', 'customer_state_VIC',\n",
       "       'customer_state_WA', 'price_segment_Mainstream',\n",
       "       'price_segment_Premium', 'lifstage_segment_New Families',\n",
       "       'lifstage_segment_Older Families',\n",
       "       'lifstage_segment_Older Singles/Couples', 'lifstage_segment_Retirees',\n",
       "       'lifstage_segment_Young Families',\n",
       "       'lifstage_segment_Young Singles/Couples', 'store_state_NSW',\n",
       "       'store_state_NT', 'store_state_QLD', 'store_state_SA',\n",
       "       'store_state_TAS', 'store_state_VIC', 'store_state_WA',\n",
       "       'distance_to_kmart_3-5 KM', 'distance_to_kmart_<1 KM',\n",
       "       'distance_to_kmart_>5 KM', 'distance_to_kmart_Same Centre',\n",
       "       'distance_to_target_3-5 KM', 'distance_to_target_<1 KM',\n",
       "       'distance_to_target_>5 KM', 'distance_to_target_Same Centre'],\n",
       "      dtype='object')"
      ]
     },
     "execution_count": 224,
     "metadata": {},
     "output_type": "execute_result"
    }
   ],
   "source": [
    "%%time\n",
    "X_train.columns[final_dt.feature_importances_ != 0]"
   ]
  },
  {
   "cell_type": "code",
   "execution_count": 225,
   "id": "c847bc25",
   "metadata": {
    "colab": {
     "base_uri": "https://localhost:8080/"
    },
    "id": "3OfjXv2QnACS",
    "outputId": "8d8f19ce-48e6-4588-9e85-5ed5182c6697"
   },
   "outputs": [
    {
     "data": {
      "text/plain": [
       "Index(['customer_state_Other'], dtype='object')"
      ]
     },
     "execution_count": 225,
     "metadata": {},
     "output_type": "execute_result"
    }
   ],
   "source": [
    "X_train.columns[final_dt.feature_importances_ == 0]"
   ]
  },
  {
   "cell_type": "code",
   "execution_count": 226,
   "id": "b54e8ea9",
   "metadata": {
    "colab": {
     "base_uri": "https://localhost:8080/",
     "height": 580
    },
    "id": "ur2VmarjNORg",
    "outputId": "de78b783-aa22-481d-a062-2745c3032b05"
   },
   "outputs": [
    {
     "data": {
      "image/png": "[encoded data removed]",
      "text/plain": [
       "<Figure size 900x600 with 1 Axes>"
      ]
     },
     "metadata": {},
     "output_type": "display_data"
    }
   ],
   "source": [
    "plot_feature_importance(final_dt, X_train.columns)\n",
    "plt.savefig('dt_vi.png')\n",
    "plt.show()"
   ]
  },
  {
   "cell_type": "code",
   "execution_count": 229,
   "id": "06e7295f",
   "metadata": {
    "colab": {
     "base_uri": "https://localhost:8080/",
     "height": 70
    },
    "id": "1FGT6jX8NOUO",
    "outputId": "75fc5ff5-9437-4c7d-e2d8-1f2c6aeea2d6"
   },
   "outputs": [
    {
     "data": {
      "text/plain": [
       "'DTTree.pdf.pdf'"
      ]
     },
     "execution_count": 229,
     "metadata": {},
     "output_type": "execute_result"
    }
   ],
   "source": [
    "#display the tree\n",
    "dot_data = export_graphviz(final_dt, max_depth = 4, impurity=False, feature_names=list(X_train.columns),rounded=True,filled=True)\n",
    "dt_graph = graphviz.Source(dot_data)\n",
    "dt_graph.render('DTTree.pdf')"
   ]
  },
  {
   "cell_type": "code",
   "execution_count": 230,
   "id": "ee9143ce",
   "metadata": {
    "id": "N3ZmZgpgwflP"
   },
   "outputs": [],
   "source": [
    "models.append('Decision Tree')\n",
    "rmse_list.append(dt_rmse)\n",
    "rmsle_list.append(dt_rmsle)"
   ]
  },
  {
   "cell_type": "code",
   "execution_count": 231,
   "id": "68abb535",
   "metadata": {
    "id": "x_FaV4xPwW2s"
   },
   "outputs": [
    {
     "data": {
      "text/html": [
       "<div>\n",
       "<style scoped>\n",
       "    .dataframe tbody tr th:only-of-type {\n",
       "        vertical-align: middle;\n",
       "    }\n",
       "\n",
       "    .dataframe tbody tr th {\n",
       "        vertical-align: top;\n",
       "    }\n",
       "\n",
       "    .dataframe thead th {\n",
       "        text-align: right;\n",
       "    }\n",
       "</style>\n",
       "<table border=\"1\" class=\"dataframe\">\n",
       "  <thead>\n",
       "    <tr style=\"text-align: right;\">\n",
       "      <th></th>\n",
       "      <th>RMSE</th>\n",
       "      <th>RMSLE</th>\n",
       "    </tr>\n",
       "  </thead>\n",
       "  <tbody>\n",
       "    <tr>\n",
       "      <th>Decision Tree</th>\n",
       "      <td>2245.305</td>\n",
       "      <td>0.098</td>\n",
       "    </tr>\n",
       "  </tbody>\n",
       "</table>\n",
       "</div>"
      ],
      "text/plain": [
       "                   RMSE  RMSLE\n",
       "Decision Tree  2245.305  0.098"
      ]
     },
     "execution_count": 231,
     "metadata": {},
     "output_type": "execute_result"
    }
   ],
   "source": [
    "dt_table = eva_metric(['Decision Tree'], [dt_rmse], [dt_rmsle])\n",
    "dt_table"
   ]
  },
  {
   "cell_type": "markdown",
   "id": "06643b95",
   "metadata": {
    "id": "0tHoaiNhln7x"
   },
   "source": [
    "#### 4.2.2.2 Bagging"
   ]
  },
  {
   "cell_type": "code",
   "execution_count": 232,
   "id": "be2b119f",
   "metadata": {
    "colab": {
     "base_uri": "https://localhost:8080/",
     "height": 192
    },
    "id": "-9QK7lGLjP2x",
    "outputId": "54d42343-b89e-47c4-e53c-0e162c0ea4cf"
   },
   "outputs": [
    {
     "name": "stdout",
     "output_type": "stream",
     "text": [
      "CPU times: total: 45min 3s\n",
      "Wall time: 49min 55s\n"
     ]
    },
    {
     "data": {
      "text/html": [
       "<style>#sk-container-id-3 {color: black;background-color: white;}#sk-container-id-3 pre{padding: 0;}#sk-container-id-3 div.sk-toggleable {background-color: white;}#sk-container-id-3 label.sk-toggleable__label {cursor: pointer;display: block;width: 100%;margin-bottom: 0;padding: 0.3em;box-sizing: border-box;text-align: center;}#sk-container-id-3 label.sk-toggleable__label-arrow:before {content: \"▸\";float: left;margin-right: 0.25em;color: #696969;}#sk-container-id-3 label.sk-toggleable__label-arrow:hover:before {color: black;}#sk-container-id-3 div.sk-estimator:hover label.sk-toggleable__label-arrow:before {color: black;}#sk-container-id-3 div.sk-toggleable__content {max-height: 0;max-width: 0;overflow: hidden;text-align: left;background-color: #f0f8ff;}#sk-container-id-3 div.sk-toggleable__content pre {margin: 0.2em;color: black;border-radius: 0.25em;background-color: #f0f8ff;}#sk-container-id-3 input.sk-toggleable__control:checked~div.sk-toggleable__content {max-height: 200px;max-width: 100%;overflow: auto;}#sk-container-id-3 input.sk-toggleable__control:checked~label.sk-toggleable__label-arrow:before {content: \"▾\";}#sk-container-id-3 div.sk-estimator input.sk-toggleable__control:checked~label.sk-toggleable__label {background-color: #d4ebff;}#sk-container-id-3 div.sk-label input.sk-toggleable__control:checked~label.sk-toggleable__label {background-color: #d4ebff;}#sk-container-id-3 input.sk-hidden--visually {border: 0;clip: rect(1px 1px 1px 1px);clip: rect(1px, 1px, 1px, 1px);height: 1px;margin: -1px;overflow: hidden;padding: 0;position: absolute;width: 1px;}#sk-container-id-3 div.sk-estimator {font-family: monospace;background-color: #f0f8ff;border: 1px dotted black;border-radius: 0.25em;box-sizing: border-box;margin-bottom: 0.5em;}#sk-container-id-3 div.sk-estimator:hover {background-color: #d4ebff;}#sk-container-id-3 div.sk-parallel-item::after {content: \"\";width: 100%;border-bottom: 1px solid gray;flex-grow: 1;}#sk-container-id-3 div.sk-label:hover label.sk-toggleable__label {background-color: #d4ebff;}#sk-container-id-3 div.sk-serial::before {content: \"\";position: absolute;border-left: 1px solid gray;box-sizing: border-box;top: 0;bottom: 0;left: 50%;z-index: 0;}#sk-container-id-3 div.sk-serial {display: flex;flex-direction: column;align-items: center;background-color: white;padding-right: 0.2em;padding-left: 0.2em;position: relative;}#sk-container-id-3 div.sk-item {position: relative;z-index: 1;}#sk-container-id-3 div.sk-parallel {display: flex;align-items: stretch;justify-content: center;background-color: white;position: relative;}#sk-container-id-3 div.sk-item::before, #sk-container-id-3 div.sk-parallel-item::before {content: \"\";position: absolute;border-left: 1px solid gray;box-sizing: border-box;top: 0;bottom: 0;left: 50%;z-index: -1;}#sk-container-id-3 div.sk-parallel-item {display: flex;flex-direction: column;z-index: 1;position: relative;background-color: white;}#sk-container-id-3 div.sk-parallel-item:first-child::after {align-self: flex-end;width: 50%;}#sk-container-id-3 div.sk-parallel-item:last-child::after {align-self: flex-start;width: 50%;}#sk-container-id-3 div.sk-parallel-item:only-child::after {width: 0;}#sk-container-id-3 div.sk-dashed-wrapped {border: 1px dashed gray;margin: 0 0.4em 0.5em 0.4em;box-sizing: border-box;padding-bottom: 0.4em;background-color: white;}#sk-container-id-3 div.sk-label label {font-family: monospace;font-weight: bold;display: inline-block;line-height: 1.2em;}#sk-container-id-3 div.sk-label-container {text-align: center;}#sk-container-id-3 div.sk-container {/* jupyter's `normalize.less` sets `[hidden] { display: none; }` but bootstrap.min.css set `[hidden] { display: none !important; }` so we also need the `!important` here to be able to override the default hidden behavior on the sphinx rendered scikit-learn.org. See: https://github.com/scikit-learn/scikit-learn/issues/21755 */display: inline-block !important;position: relative;}#sk-container-id-3 div.sk-text-repr-fallback {display: none;}</style><div id=\"sk-container-id-3\" class=\"sk-top-container\"><div class=\"sk-text-repr-fallback\"><pre>RandomizedSearchCV(cv=5,\n",
       "                   estimator=BaggingRegressor(estimator=DecisionTreeRegressor(max_depth=20,\n",
       "                                                                              random_state=42),\n",
       "                                              n_estimators=array([ 1, 11, 21, 31, 41]),\n",
       "                                              random_state=42),\n",
       "                   param_distributions={&#x27;n_estimators&#x27;: array([ 1, 11, 21, 31, 41])},\n",
       "                   random_state=42, scoring=&#x27;neg_mean_squared_error&#x27;)</pre><b>In a Jupyter environment, please rerun this cell to show the HTML representation or trust the notebook. <br />On GitHub, the HTML representation is unable to render, please try loading this page with nbviewer.org.</b></div><div class=\"sk-container\" hidden><div class=\"sk-item sk-dashed-wrapped\"><div class=\"sk-label-container\"><div class=\"sk-label sk-toggleable\"><input class=\"sk-toggleable__control sk-hidden--visually\" id=\"sk-estimator-id-3\" type=\"checkbox\" ><label for=\"sk-estimator-id-3\" class=\"sk-toggleable__label sk-toggleable__label-arrow\">RandomizedSearchCV</label><div class=\"sk-toggleable__content\"><pre>RandomizedSearchCV(cv=5,\n",
       "                   estimator=BaggingRegressor(estimator=DecisionTreeRegressor(max_depth=20,\n",
       "                                                                              random_state=42),\n",
       "                                              n_estimators=array([ 1, 11, 21, 31, 41]),\n",
       "                                              random_state=42),\n",
       "                   param_distributions={&#x27;n_estimators&#x27;: array([ 1, 11, 21, 31, 41])},\n",
       "                   random_state=42, scoring=&#x27;neg_mean_squared_error&#x27;)</pre></div></div></div><div class=\"sk-parallel\"><div class=\"sk-parallel-item\"><div class=\"sk-item\"><div class=\"sk-label-container\"><div class=\"sk-label sk-toggleable\"><input class=\"sk-toggleable__control sk-hidden--visually\" id=\"sk-estimator-id-4\" type=\"checkbox\" ><label for=\"sk-estimator-id-4\" class=\"sk-toggleable__label sk-toggleable__label-arrow\">estimator: BaggingRegressor</label><div class=\"sk-toggleable__content\"><pre>BaggingRegressor(estimator=DecisionTreeRegressor(max_depth=20, random_state=42),\n",
       "                 n_estimators=array([ 1, 11, 21, 31, 41]), random_state=42)</pre></div></div></div><div class=\"sk-serial\"><div class=\"sk-item sk-dashed-wrapped\"><div class=\"sk-parallel\"><div class=\"sk-parallel-item\"><div class=\"sk-item\"><div class=\"sk-label-container\"><div class=\"sk-label sk-toggleable\"><input class=\"sk-toggleable__control sk-hidden--visually\" id=\"sk-estimator-id-5\" type=\"checkbox\" ><label for=\"sk-estimator-id-5\" class=\"sk-toggleable__label sk-toggleable__label-arrow\">estimator: DecisionTreeRegressor</label><div class=\"sk-toggleable__content\"><pre>DecisionTreeRegressor(max_depth=20, random_state=42)</pre></div></div></div><div class=\"sk-serial\"><div class=\"sk-item\"><div class=\"sk-estimator sk-toggleable\"><input class=\"sk-toggleable__control sk-hidden--visually\" id=\"sk-estimator-id-6\" type=\"checkbox\" ><label for=\"sk-estimator-id-6\" class=\"sk-toggleable__label sk-toggleable__label-arrow\">DecisionTreeRegressor</label><div class=\"sk-toggleable__content\"><pre>DecisionTreeRegressor(max_depth=20, random_state=42)</pre></div></div></div></div></div></div></div></div></div></div></div></div></div></div></div>"
      ],
      "text/plain": [
       "RandomizedSearchCV(cv=5,\n",
       "                   estimator=BaggingRegressor(estimator=DecisionTreeRegressor(max_depth=20,\n",
       "                                                                              random_state=42),\n",
       "                                              n_estimators=array([ 1, 11, 21, 31, 41]),\n",
       "                                              random_state=42),\n",
       "                   param_distributions={'n_estimators': array([ 1, 11, 21, 31, 41])},\n",
       "                   random_state=42, scoring='neg_mean_squared_error')"
      ]
     },
     "execution_count": 232,
     "metadata": {},
     "output_type": "execute_result"
    }
   ],
   "source": [
    "#Bagging model hyperparamater search and fit by train\n",
    "%%time\n",
    "\n",
    "bag_para = {'n_estimators':np.arange(1, 51, 10)}\n",
    "\n",
    "bag = BaggingRegressor(DecisionTreeRegressor(max_depth = 20, random_state = 42), n_estimators=np.arange(1, 51, 10), random_state=42)\n",
    "bag_rs = RandomizedSearchCV(bag, bag_para, n_iter = 10, cv = 5, scoring='neg_mean_squared_error', random_state = 42)\n",
    "bag_rs.fit(X_train, y_train)\n",
    "\n"
   ]
  },
  {
   "cell_type": "code",
   "execution_count": 233,
   "id": "8ee447c2",
   "metadata": {
    "colab": {
     "base_uri": "https://localhost:8080/"
    },
    "id": "UxbUmY0djP40",
    "outputId": "936aab27-9cff-4f00-8f92-380c974cae81"
   },
   "outputs": [
    {
     "name": "stdout",
     "output_type": "stream",
     "text": [
      "CPU times: total: 0 ns\n",
      "Wall time: 0 ns\n"
     ]
    }
   ],
   "source": [
    "%%time\n",
    "best_bag = bag_rs.best_params_"
   ]
  },
  {
   "cell_type": "code",
   "execution_count": 234,
   "id": "ed23c9aa",
   "metadata": {
    "colab": {
     "base_uri": "https://localhost:8080/",
     "height": 151
    },
    "id": "YJrVgrH7jP8Q",
    "outputId": "027b1fa5-857e-4ee5-fcd4-d1af6a4dd82e"
   },
   "outputs": [
    {
     "name": "stdout",
     "output_type": "stream",
     "text": [
      "CPU times: total: 3min 48s\n",
      "Wall time: 4min 20s\n"
     ]
    },
    {
     "data": {
      "text/html": [
       "<style>#sk-container-id-4 {color: black;background-color: white;}#sk-container-id-4 pre{padding: 0;}#sk-container-id-4 div.sk-toggleable {background-color: white;}#sk-container-id-4 label.sk-toggleable__label {cursor: pointer;display: block;width: 100%;margin-bottom: 0;padding: 0.3em;box-sizing: border-box;text-align: center;}#sk-container-id-4 label.sk-toggleable__label-arrow:before {content: \"▸\";float: left;margin-right: 0.25em;color: #696969;}#sk-container-id-4 label.sk-toggleable__label-arrow:hover:before {color: black;}#sk-container-id-4 div.sk-estimator:hover label.sk-toggleable__label-arrow:before {color: black;}#sk-container-id-4 div.sk-toggleable__content {max-height: 0;max-width: 0;overflow: hidden;text-align: left;background-color: #f0f8ff;}#sk-container-id-4 div.sk-toggleable__content pre {margin: 0.2em;color: black;border-radius: 0.25em;background-color: #f0f8ff;}#sk-container-id-4 input.sk-toggleable__control:checked~div.sk-toggleable__content {max-height: 200px;max-width: 100%;overflow: auto;}#sk-container-id-4 input.sk-toggleable__control:checked~label.sk-toggleable__label-arrow:before {content: \"▾\";}#sk-container-id-4 div.sk-estimator input.sk-toggleable__control:checked~label.sk-toggleable__label {background-color: #d4ebff;}#sk-container-id-4 div.sk-label input.sk-toggleable__control:checked~label.sk-toggleable__label {background-color: #d4ebff;}#sk-container-id-4 input.sk-hidden--visually {border: 0;clip: rect(1px 1px 1px 1px);clip: rect(1px, 1px, 1px, 1px);height: 1px;margin: -1px;overflow: hidden;padding: 0;position: absolute;width: 1px;}#sk-container-id-4 div.sk-estimator {font-family: monospace;background-color: #f0f8ff;border: 1px dotted black;border-radius: 0.25em;box-sizing: border-box;margin-bottom: 0.5em;}#sk-container-id-4 div.sk-estimator:hover {background-color: #d4ebff;}#sk-container-id-4 div.sk-parallel-item::after {content: \"\";width: 100%;border-bottom: 1px solid gray;flex-grow: 1;}#sk-container-id-4 div.sk-label:hover label.sk-toggleable__label {background-color: #d4ebff;}#sk-container-id-4 div.sk-serial::before {content: \"\";position: absolute;border-left: 1px solid gray;box-sizing: border-box;top: 0;bottom: 0;left: 50%;z-index: 0;}#sk-container-id-4 div.sk-serial {display: flex;flex-direction: column;align-items: center;background-color: white;padding-right: 0.2em;padding-left: 0.2em;position: relative;}#sk-container-id-4 div.sk-item {position: relative;z-index: 1;}#sk-container-id-4 div.sk-parallel {display: flex;align-items: stretch;justify-content: center;background-color: white;position: relative;}#sk-container-id-4 div.sk-item::before, #sk-container-id-4 div.sk-parallel-item::before {content: \"\";position: absolute;border-left: 1px solid gray;box-sizing: border-box;top: 0;bottom: 0;left: 50%;z-index: -1;}#sk-container-id-4 div.sk-parallel-item {display: flex;flex-direction: column;z-index: 1;position: relative;background-color: white;}#sk-container-id-4 div.sk-parallel-item:first-child::after {align-self: flex-end;width: 50%;}#sk-container-id-4 div.sk-parallel-item:last-child::after {align-self: flex-start;width: 50%;}#sk-container-id-4 div.sk-parallel-item:only-child::after {width: 0;}#sk-container-id-4 div.sk-dashed-wrapped {border: 1px dashed gray;margin: 0 0.4em 0.5em 0.4em;box-sizing: border-box;padding-bottom: 0.4em;background-color: white;}#sk-container-id-4 div.sk-label label {font-family: monospace;font-weight: bold;display: inline-block;line-height: 1.2em;}#sk-container-id-4 div.sk-label-container {text-align: center;}#sk-container-id-4 div.sk-container {/* jupyter's `normalize.less` sets `[hidden] { display: none; }` but bootstrap.min.css set `[hidden] { display: none !important; }` so we also need the `!important` here to be able to override the default hidden behavior on the sphinx rendered scikit-learn.org. See: https://github.com/scikit-learn/scikit-learn/issues/21755 */display: inline-block !important;position: relative;}#sk-container-id-4 div.sk-text-repr-fallback {display: none;}</style><div id=\"sk-container-id-4\" class=\"sk-top-container\"><div class=\"sk-text-repr-fallback\"><pre>BaggingRegressor(estimator=DecisionTreeRegressor(max_depth=20, random_state=42),\n",
       "                 n_estimators=41, random_state=42)</pre><b>In a Jupyter environment, please rerun this cell to show the HTML representation or trust the notebook. <br />On GitHub, the HTML representation is unable to render, please try loading this page with nbviewer.org.</b></div><div class=\"sk-container\" hidden><div class=\"sk-item sk-dashed-wrapped\"><div class=\"sk-label-container\"><div class=\"sk-label sk-toggleable\"><input class=\"sk-toggleable__control sk-hidden--visually\" id=\"sk-estimator-id-7\" type=\"checkbox\" ><label for=\"sk-estimator-id-7\" class=\"sk-toggleable__label sk-toggleable__label-arrow\">BaggingRegressor</label><div class=\"sk-toggleable__content\"><pre>BaggingRegressor(estimator=DecisionTreeRegressor(max_depth=20, random_state=42),\n",
       "                 n_estimators=41, random_state=42)</pre></div></div></div><div class=\"sk-parallel\"><div class=\"sk-parallel-item\"><div class=\"sk-item\"><div class=\"sk-label-container\"><div class=\"sk-label sk-toggleable\"><input class=\"sk-toggleable__control sk-hidden--visually\" id=\"sk-estimator-id-8\" type=\"checkbox\" ><label for=\"sk-estimator-id-8\" class=\"sk-toggleable__label sk-toggleable__label-arrow\">estimator: DecisionTreeRegressor</label><div class=\"sk-toggleable__content\"><pre>DecisionTreeRegressor(max_depth=20, random_state=42)</pre></div></div></div><div class=\"sk-serial\"><div class=\"sk-item\"><div class=\"sk-estimator sk-toggleable\"><input class=\"sk-toggleable__control sk-hidden--visually\" id=\"sk-estimator-id-9\" type=\"checkbox\" ><label for=\"sk-estimator-id-9\" class=\"sk-toggleable__label sk-toggleable__label-arrow\">DecisionTreeRegressor</label><div class=\"sk-toggleable__content\"><pre>DecisionTreeRegressor(max_depth=20, random_state=42)</pre></div></div></div></div></div></div></div></div></div></div>"
      ],
      "text/plain": [
       "BaggingRegressor(estimator=DecisionTreeRegressor(max_depth=20, random_state=42),\n",
       "                 n_estimators=41, random_state=42)"
      ]
     },
     "execution_count": 234,
     "metadata": {},
     "output_type": "execute_result"
    }
   ],
   "source": [
    "%%time\n",
    "final_bag =  BaggingRegressor(DecisionTreeRegressor(max_depth = 20, random_state = 42), **best_bag, random_state=42)\n",
    "\n",
    "final_bag = final_bag.fit(X_train, y_train)\n",
    "final_bag"
   ]
  },
  {
   "cell_type": "code",
   "execution_count": 235,
   "id": "70850a28",
   "metadata": {
    "colab": {
     "base_uri": "https://localhost:8080/"
    },
    "id": "k91-8pSmWN8v",
    "outputId": "9798ae0e-ddc7-4366-93bd-742c770ebc56"
   },
   "outputs": [
    {
     "name": "stdout",
     "output_type": "stream",
     "text": [
      "CPU times: total: 4.64 s\n",
      "Wall time: 5.5 s\n"
     ]
    },
    {
     "data": {
      "text/plain": [
       "array([5.99842495, 6.48477832, 6.0905411 , ..., 6.33476409, 7.22433648,\n",
       "       6.22059125])"
      ]
     },
     "execution_count": 235,
     "metadata": {},
     "output_type": "execute_result"
    }
   ],
   "source": [
    "%%time\n",
    "bag_predict = final_bag.predict(np.array(X_valid))\n",
    "bag_predict"
   ]
  },
  {
   "cell_type": "code",
   "execution_count": 236,
   "id": "92baff4d",
   "metadata": {
    "colab": {
     "base_uri": "https://localhost:8080/"
    },
    "id": "xOBCWo1PWN_Y",
    "outputId": "03dc3a14-03f6-4997-dd5c-760c7a91e170"
   },
   "outputs": [
    {
     "name": "stdout",
     "output_type": "stream",
     "text": [
      "RMSE: 2264.917\n",
      "RMSLE: 0.099\n",
      "CPU times: total: 15.6 ms\n",
      "Wall time: 19.8 ms\n"
     ]
    }
   ],
   "source": [
    "%%time\n",
    "\n",
    "bag_rmse = np.sqrt(mse(y_valid_original, np.exp(bag_predict)))\n",
    "bag_rmsle = np.sqrt(msle(y_valid, bag_predict))\n",
    "\n",
    "print('RMSE: {:.3f}'.format(bag_rmse))\n",
    "print('RMSLE: {:.3f}'.format(bag_rmsle))"
   ]
  },
  {
   "cell_type": "code",
   "execution_count": 237,
   "id": "67423536",
   "metadata": {
    "id": "-r8WTBswzomb"
   },
   "outputs": [],
   "source": [
    "models.append('Bagging')\n",
    "rmse_list.append(bag_rmse)\n",
    "rmsle_list.append(bag_rmsle)"
   ]
  },
  {
   "cell_type": "code",
   "execution_count": 238,
   "id": "638fbf67",
   "metadata": {
    "id": "47tpX_BKWOCS"
   },
   "outputs": [
    {
     "data": {
      "text/html": [
       "<div>\n",
       "<style scoped>\n",
       "    .dataframe tbody tr th:only-of-type {\n",
       "        vertical-align: middle;\n",
       "    }\n",
       "\n",
       "    .dataframe tbody tr th {\n",
       "        vertical-align: top;\n",
       "    }\n",
       "\n",
       "    .dataframe thead th {\n",
       "        text-align: right;\n",
       "    }\n",
       "</style>\n",
       "<table border=\"1\" class=\"dataframe\">\n",
       "  <thead>\n",
       "    <tr style=\"text-align: right;\">\n",
       "      <th></th>\n",
       "      <th>RMSE</th>\n",
       "      <th>RMSLE</th>\n",
       "    </tr>\n",
       "  </thead>\n",
       "  <tbody>\n",
       "    <tr>\n",
       "      <th>Bagging</th>\n",
       "      <td>2264.917</td>\n",
       "      <td>0.099</td>\n",
       "    </tr>\n",
       "  </tbody>\n",
       "</table>\n",
       "</div>"
      ],
      "text/plain": [
       "             RMSE  RMSLE\n",
       "Bagging  2264.917  0.099"
      ]
     },
     "execution_count": 238,
     "metadata": {},
     "output_type": "execute_result"
    }
   ],
   "source": [
    "bag_table = eva_metric(['Bagging'], [bag_rmse], [bag_rmsle])\n",
    "bag_table"
   ]
  },
  {
   "cell_type": "markdown",
   "id": "7504372f",
   "metadata": {
    "id": "UCnLzW_ikS8h"
   },
   "source": [
    "#### 4.2.2.3 Random Forest"
   ]
  },
  {
   "cell_type": "code",
   "execution_count": 239,
   "id": "a5a3a48f",
   "metadata": {
    "colab": {
     "base_uri": "https://localhost:8080/",
     "height": 151
    },
    "id": "rLrRO1qK5O0B",
    "outputId": "43ce33c4-9382-4e27-fee5-00bdc84d2aa8"
   },
   "outputs": [
    {
     "name": "stdout",
     "output_type": "stream",
     "text": [
      "CPU times: total: 1h 35s\n",
      "Wall time: 1h 5min 29s\n"
     ]
    },
    {
     "data": {
      "text/html": [
       "<style>#sk-container-id-5 {color: black;background-color: white;}#sk-container-id-5 pre{padding: 0;}#sk-container-id-5 div.sk-toggleable {background-color: white;}#sk-container-id-5 label.sk-toggleable__label {cursor: pointer;display: block;width: 100%;margin-bottom: 0;padding: 0.3em;box-sizing: border-box;text-align: center;}#sk-container-id-5 label.sk-toggleable__label-arrow:before {content: \"▸\";float: left;margin-right: 0.25em;color: #696969;}#sk-container-id-5 label.sk-toggleable__label-arrow:hover:before {color: black;}#sk-container-id-5 div.sk-estimator:hover label.sk-toggleable__label-arrow:before {color: black;}#sk-container-id-5 div.sk-toggleable__content {max-height: 0;max-width: 0;overflow: hidden;text-align: left;background-color: #f0f8ff;}#sk-container-id-5 div.sk-toggleable__content pre {margin: 0.2em;color: black;border-radius: 0.25em;background-color: #f0f8ff;}#sk-container-id-5 input.sk-toggleable__control:checked~div.sk-toggleable__content {max-height: 200px;max-width: 100%;overflow: auto;}#sk-container-id-5 input.sk-toggleable__control:checked~label.sk-toggleable__label-arrow:before {content: \"▾\";}#sk-container-id-5 div.sk-estimator input.sk-toggleable__control:checked~label.sk-toggleable__label {background-color: #d4ebff;}#sk-container-id-5 div.sk-label input.sk-toggleable__control:checked~label.sk-toggleable__label {background-color: #d4ebff;}#sk-container-id-5 input.sk-hidden--visually {border: 0;clip: rect(1px 1px 1px 1px);clip: rect(1px, 1px, 1px, 1px);height: 1px;margin: -1px;overflow: hidden;padding: 0;position: absolute;width: 1px;}#sk-container-id-5 div.sk-estimator {font-family: monospace;background-color: #f0f8ff;border: 1px dotted black;border-radius: 0.25em;box-sizing: border-box;margin-bottom: 0.5em;}#sk-container-id-5 div.sk-estimator:hover {background-color: #d4ebff;}#sk-container-id-5 div.sk-parallel-item::after {content: \"\";width: 100%;border-bottom: 1px solid gray;flex-grow: 1;}#sk-container-id-5 div.sk-label:hover label.sk-toggleable__label {background-color: #d4ebff;}#sk-container-id-5 div.sk-serial::before {content: \"\";position: absolute;border-left: 1px solid gray;box-sizing: border-box;top: 0;bottom: 0;left: 50%;z-index: 0;}#sk-container-id-5 div.sk-serial {display: flex;flex-direction: column;align-items: center;background-color: white;padding-right: 0.2em;padding-left: 0.2em;position: relative;}#sk-container-id-5 div.sk-item {position: relative;z-index: 1;}#sk-container-id-5 div.sk-parallel {display: flex;align-items: stretch;justify-content: center;background-color: white;position: relative;}#sk-container-id-5 div.sk-item::before, #sk-container-id-5 div.sk-parallel-item::before {content: \"\";position: absolute;border-left: 1px solid gray;box-sizing: border-box;top: 0;bottom: 0;left: 50%;z-index: -1;}#sk-container-id-5 div.sk-parallel-item {display: flex;flex-direction: column;z-index: 1;position: relative;background-color: white;}#sk-container-id-5 div.sk-parallel-item:first-child::after {align-self: flex-end;width: 50%;}#sk-container-id-5 div.sk-parallel-item:last-child::after {align-self: flex-start;width: 50%;}#sk-container-id-5 div.sk-parallel-item:only-child::after {width: 0;}#sk-container-id-5 div.sk-dashed-wrapped {border: 1px dashed gray;margin: 0 0.4em 0.5em 0.4em;box-sizing: border-box;padding-bottom: 0.4em;background-color: white;}#sk-container-id-5 div.sk-label label {font-family: monospace;font-weight: bold;display: inline-block;line-height: 1.2em;}#sk-container-id-5 div.sk-label-container {text-align: center;}#sk-container-id-5 div.sk-container {/* jupyter's `normalize.less` sets `[hidden] { display: none; }` but bootstrap.min.css set `[hidden] { display: none !important; }` so we also need the `!important` here to be able to override the default hidden behavior on the sphinx rendered scikit-learn.org. See: https://github.com/scikit-learn/scikit-learn/issues/21755 */display: inline-block !important;position: relative;}#sk-container-id-5 div.sk-text-repr-fallback {display: none;}</style><div id=\"sk-container-id-5\" class=\"sk-top-container\"><div class=\"sk-text-repr-fallback\"><pre>RandomizedSearchCV(cv=5, estimator=RandomForestRegressor(random_state=42),\n",
       "                   param_distributions={&#x27;max_features&#x27;: array([ 1,  2,  3,  4,  5,  6,  7,  8,  9, 10, 11, 12, 13, 14, 15, 16, 17,\n",
       "       18, 19, 20, 21, 22, 23, 24, 25, 26, 27, 28, 29, 30, 31, 32, 33, 34,\n",
       "       35, 36, 37, 38, 39]),\n",
       "                                        &#x27;min_samples_leaf&#x27;: array([10, 20, 30, 40]),\n",
       "                                        &#x27;n_estimators&#x27;: array([ 1, 11, 21, 31, 41])},\n",
       "                   random_state=42, scoring=&#x27;neg_mean_squared_error&#x27;)</pre><b>In a Jupyter environment, please rerun this cell to show the HTML representation or trust the notebook. <br />On GitHub, the HTML representation is unable to render, please try loading this page with nbviewer.org.</b></div><div class=\"sk-container\" hidden><div class=\"sk-item sk-dashed-wrapped\"><div class=\"sk-label-container\"><div class=\"sk-label sk-toggleable\"><input class=\"sk-toggleable__control sk-hidden--visually\" id=\"sk-estimator-id-10\" type=\"checkbox\" ><label for=\"sk-estimator-id-10\" class=\"sk-toggleable__label sk-toggleable__label-arrow\">RandomizedSearchCV</label><div class=\"sk-toggleable__content\"><pre>RandomizedSearchCV(cv=5, estimator=RandomForestRegressor(random_state=42),\n",
       "                   param_distributions={&#x27;max_features&#x27;: array([ 1,  2,  3,  4,  5,  6,  7,  8,  9, 10, 11, 12, 13, 14, 15, 16, 17,\n",
       "       18, 19, 20, 21, 22, 23, 24, 25, 26, 27, 28, 29, 30, 31, 32, 33, 34,\n",
       "       35, 36, 37, 38, 39]),\n",
       "                                        &#x27;min_samples_leaf&#x27;: array([10, 20, 30, 40]),\n",
       "                                        &#x27;n_estimators&#x27;: array([ 1, 11, 21, 31, 41])},\n",
       "                   random_state=42, scoring=&#x27;neg_mean_squared_error&#x27;)</pre></div></div></div><div class=\"sk-parallel\"><div class=\"sk-parallel-item\"><div class=\"sk-item\"><div class=\"sk-label-container\"><div class=\"sk-label sk-toggleable\"><input class=\"sk-toggleable__control sk-hidden--visually\" id=\"sk-estimator-id-11\" type=\"checkbox\" ><label for=\"sk-estimator-id-11\" class=\"sk-toggleable__label sk-toggleable__label-arrow\">estimator: RandomForestRegressor</label><div class=\"sk-toggleable__content\"><pre>RandomForestRegressor(random_state=42)</pre></div></div></div><div class=\"sk-serial\"><div class=\"sk-item\"><div class=\"sk-estimator sk-toggleable\"><input class=\"sk-toggleable__control sk-hidden--visually\" id=\"sk-estimator-id-12\" type=\"checkbox\" ><label for=\"sk-estimator-id-12\" class=\"sk-toggleable__label sk-toggleable__label-arrow\">RandomForestRegressor</label><div class=\"sk-toggleable__content\"><pre>RandomForestRegressor(random_state=42)</pre></div></div></div></div></div></div></div></div></div></div>"
      ],
      "text/plain": [
       "RandomizedSearchCV(cv=5, estimator=RandomForestRegressor(random_state=42),\n",
       "                   param_distributions={'max_features': array([ 1,  2,  3,  4,  5,  6,  7,  8,  9, 10, 11, 12, 13, 14, 15, 16, 17,\n",
       "       18, 19, 20, 21, 22, 23, 24, 25, 26, 27, 28, 29, 30, 31, 32, 33, 34,\n",
       "       35, 36, 37, 38, 39]),\n",
       "                                        'min_samples_leaf': array([10, 20, 30, 40]),\n",
       "                                        'n_estimators': array([ 1, 11, 21, 31, 41])},\n",
       "                   random_state=42, scoring='neg_mean_squared_error')"
      ]
     },
     "execution_count": 239,
     "metadata": {},
     "output_type": "execute_result"
    }
   ],
   "source": [
    "%%time\n",
    "\n",
    "rf_para = {'n_estimators': np.arange(1,50,10),\n",
    "           'min_samples_leaf':np.arange(10, 50, 10),\n",
    "           'max_features' : np.arange(1,len(X_train.columns))\n",
    "           }\n",
    "\n",
    "random_forest = RandomForestRegressor(random_state = 42)\n",
    "rf_rs = RandomizedSearchCV(random_forest, rf_para, n_iter = 10, cv = 5, scoring = 'neg_mean_squared_error', random_state = 42)\n",
    "\n",
    "rf_rs.fit(X_train, y_train)"
   ]
  },
  {
   "cell_type": "code",
   "execution_count": 240,
   "id": "b32ba77d",
   "metadata": {
    "id": "MOWWzf8mjPvp"
   },
   "outputs": [],
   "source": [
    "best_rf = rf_rs.best_params_"
   ]
  },
  {
   "cell_type": "code",
   "execution_count": 241,
   "id": "26fcf55b",
   "metadata": {
    "colab": {
     "base_uri": "https://localhost:8080/",
     "height": 126
    },
    "id": "n_dJUlE2jPyC",
    "outputId": "d473d1f7-3e9f-4a12-f57b-d09d8af22657"
   },
   "outputs": [
    {
     "name": "stdout",
     "output_type": "stream",
     "text": [
      "CPU times: total: 1min 34s\n",
      "Wall time: 1min 44s\n"
     ]
    },
    {
     "data": {
      "text/html": [
       "<style>#sk-container-id-6 {color: black;background-color: white;}#sk-container-id-6 pre{padding: 0;}#sk-container-id-6 div.sk-toggleable {background-color: white;}#sk-container-id-6 label.sk-toggleable__label {cursor: pointer;display: block;width: 100%;margin-bottom: 0;padding: 0.3em;box-sizing: border-box;text-align: center;}#sk-container-id-6 label.sk-toggleable__label-arrow:before {content: \"▸\";float: left;margin-right: 0.25em;color: #696969;}#sk-container-id-6 label.sk-toggleable__label-arrow:hover:before {color: black;}#sk-container-id-6 div.sk-estimator:hover label.sk-toggleable__label-arrow:before {color: black;}#sk-container-id-6 div.sk-toggleable__content {max-height: 0;max-width: 0;overflow: hidden;text-align: left;background-color: #f0f8ff;}#sk-container-id-6 div.sk-toggleable__content pre {margin: 0.2em;color: black;border-radius: 0.25em;background-color: #f0f8ff;}#sk-container-id-6 input.sk-toggleable__control:checked~div.sk-toggleable__content {max-height: 200px;max-width: 100%;overflow: auto;}#sk-container-id-6 input.sk-toggleable__control:checked~label.sk-toggleable__label-arrow:before {content: \"▾\";}#sk-container-id-6 div.sk-estimator input.sk-toggleable__control:checked~label.sk-toggleable__label {background-color: #d4ebff;}#sk-container-id-6 div.sk-label input.sk-toggleable__control:checked~label.sk-toggleable__label {background-color: #d4ebff;}#sk-container-id-6 input.sk-hidden--visually {border: 0;clip: rect(1px 1px 1px 1px);clip: rect(1px, 1px, 1px, 1px);height: 1px;margin: -1px;overflow: hidden;padding: 0;position: absolute;width: 1px;}#sk-container-id-6 div.sk-estimator {font-family: monospace;background-color: #f0f8ff;border: 1px dotted black;border-radius: 0.25em;box-sizing: border-box;margin-bottom: 0.5em;}#sk-container-id-6 div.sk-estimator:hover {background-color: #d4ebff;}#sk-container-id-6 div.sk-parallel-item::after {content: \"\";width: 100%;border-bottom: 1px solid gray;flex-grow: 1;}#sk-container-id-6 div.sk-label:hover label.sk-toggleable__label {background-color: #d4ebff;}#sk-container-id-6 div.sk-serial::before {content: \"\";position: absolute;border-left: 1px solid gray;box-sizing: border-box;top: 0;bottom: 0;left: 50%;z-index: 0;}#sk-container-id-6 div.sk-serial {display: flex;flex-direction: column;align-items: center;background-color: white;padding-right: 0.2em;padding-left: 0.2em;position: relative;}#sk-container-id-6 div.sk-item {position: relative;z-index: 1;}#sk-container-id-6 div.sk-parallel {display: flex;align-items: stretch;justify-content: center;background-color: white;position: relative;}#sk-container-id-6 div.sk-item::before, #sk-container-id-6 div.sk-parallel-item::before {content: \"\";position: absolute;border-left: 1px solid gray;box-sizing: border-box;top: 0;bottom: 0;left: 50%;z-index: -1;}#sk-container-id-6 div.sk-parallel-item {display: flex;flex-direction: column;z-index: 1;position: relative;background-color: white;}#sk-container-id-6 div.sk-parallel-item:first-child::after {align-self: flex-end;width: 50%;}#sk-container-id-6 div.sk-parallel-item:last-child::after {align-self: flex-start;width: 50%;}#sk-container-id-6 div.sk-parallel-item:only-child::after {width: 0;}#sk-container-id-6 div.sk-dashed-wrapped {border: 1px dashed gray;margin: 0 0.4em 0.5em 0.4em;box-sizing: border-box;padding-bottom: 0.4em;background-color: white;}#sk-container-id-6 div.sk-label label {font-family: monospace;font-weight: bold;display: inline-block;line-height: 1.2em;}#sk-container-id-6 div.sk-label-container {text-align: center;}#sk-container-id-6 div.sk-container {/* jupyter's `normalize.less` sets `[hidden] { display: none; }` but bootstrap.min.css set `[hidden] { display: none !important; }` so we also need the `!important` here to be able to override the default hidden behavior on the sphinx rendered scikit-learn.org. See: https://github.com/scikit-learn/scikit-learn/issues/21755 */display: inline-block !important;position: relative;}#sk-container-id-6 div.sk-text-repr-fallback {display: none;}</style><div id=\"sk-container-id-6\" class=\"sk-top-container\"><div class=\"sk-text-repr-fallback\"><pre>RandomForestRegressor(max_features=20, min_samples_leaf=20, n_estimators=31,\n",
       "                      random_state=42)</pre><b>In a Jupyter environment, please rerun this cell to show the HTML representation or trust the notebook. <br />On GitHub, the HTML representation is unable to render, please try loading this page with nbviewer.org.</b></div><div class=\"sk-container\" hidden><div class=\"sk-item\"><div class=\"sk-estimator sk-toggleable\"><input class=\"sk-toggleable__control sk-hidden--visually\" id=\"sk-estimator-id-13\" type=\"checkbox\" checked><label for=\"sk-estimator-id-13\" class=\"sk-toggleable__label sk-toggleable__label-arrow\">RandomForestRegressor</label><div class=\"sk-toggleable__content\"><pre>RandomForestRegressor(max_features=20, min_samples_leaf=20, n_estimators=31,\n",
       "                      random_state=42)</pre></div></div></div></div></div>"
      ],
      "text/plain": [
       "RandomForestRegressor(max_features=20, min_samples_leaf=20, n_estimators=31,\n",
       "                      random_state=42)"
      ]
     },
     "execution_count": 241,
     "metadata": {},
     "output_type": "execute_result"
    }
   ],
   "source": [
    "%%time\n",
    "final_rf = RandomForestRegressor(random_state=42, **best_rf)\n",
    "final_rf = final_rf.fit(X_train, y_train)\n",
    "final_rf"
   ]
  },
  {
   "cell_type": "code",
   "execution_count": 242,
   "id": "ae5abe55",
   "metadata": {
    "colab": {
     "base_uri": "https://localhost:8080/"
    },
    "id": "pbmsbDccjP0b",
    "outputId": "e3af1cff-edaf-4b79-d0e8-173df87d4056"
   },
   "outputs": [
    {
     "name": "stdout",
     "output_type": "stream",
     "text": [
      "CPU times: total: 1.97 s\n",
      "Wall time: 2.51 s\n"
     ]
    },
    {
     "data": {
      "text/plain": [
       "array([6.21737514, 6.4534618 , 6.14643025, ..., 6.39435199, 7.06256778,\n",
       "       6.17797693])"
      ]
     },
     "execution_count": 242,
     "metadata": {},
     "output_type": "execute_result"
    }
   ],
   "source": [
    "%%time\n",
    "rf_predict = final_rf.predict(np.array(X_valid))\n",
    "rf_predict"
   ]
  },
  {
   "cell_type": "code",
   "execution_count": 243,
   "id": "18ad675f",
   "metadata": {
    "colab": {
     "base_uri": "https://localhost:8080/"
    },
    "id": "9nfavqnHgmHQ",
    "outputId": "f968a81e-c6ee-4a18-e228-6b765eb0d3bb"
   },
   "outputs": [
    {
     "name": "stdout",
     "output_type": "stream",
     "text": [
      "RMSE: 2232.248\n",
      "RMSLE: 0.097\n",
      "CPU times: total: 15.6 ms\n",
      "Wall time: 19.6 ms\n"
     ]
    }
   ],
   "source": [
    "%%time\n",
    "\n",
    "rf_rmse = np.sqrt(mse(y_valid_original, np.exp(rf_predict)))\n",
    "rf_rmsle = np.sqrt(msle(y_valid, rf_predict))\n",
    "\n",
    "\n",
    "print('RMSE: {:.3f}'.format(rf_rmse))\n",
    "print('RMSLE: {:.3f}'.format(rf_rmsle))"
   ]
  },
  {
   "cell_type": "code",
   "execution_count": 244,
   "id": "f07f6c26",
   "metadata": {
    "id": "1ixQpTKXhU7L"
   },
   "outputs": [
    {
     "name": "stdout",
     "output_type": "stream",
     "text": [
      "39\n",
      "CPU times: total: 15.6 ms\n",
      "Wall time: 29 ms\n"
     ]
    },
    {
     "data": {
      "text/plain": [
       "Index(['co_location_flag', 'media_amount_spend', 'Median income',\n",
       "       'population_2021', 'same_area_shopping', 'year', 'month',\n",
       "       'sales_channel_Digital - Delivery', 'sales_channel_Store',\n",
       "       'customer_state_NSW', 'customer_state_NT', 'customer_state_QLD',\n",
       "       'customer_state_SA', 'customer_state_TAS', 'customer_state_VIC',\n",
       "       'customer_state_WA', 'price_segment_Mainstream',\n",
       "       'price_segment_Premium', 'lifstage_segment_New Families',\n",
       "       'lifstage_segment_Older Families',\n",
       "       'lifstage_segment_Older Singles/Couples', 'lifstage_segment_Retirees',\n",
       "       'lifstage_segment_Young Families',\n",
       "       'lifstage_segment_Young Singles/Couples', 'store_state_NSW',\n",
       "       'store_state_NT', 'store_state_QLD', 'store_state_SA',\n",
       "       'store_state_TAS', 'store_state_VIC', 'store_state_WA',\n",
       "       'distance_to_kmart_3-5 KM', 'distance_to_kmart_<1 KM',\n",
       "       'distance_to_kmart_>5 KM', 'distance_to_kmart_Same Centre',\n",
       "       'distance_to_target_3-5 KM', 'distance_to_target_<1 KM',\n",
       "       'distance_to_target_>5 KM', 'distance_to_target_Same Centre'],\n",
       "      dtype='object')"
      ]
     },
     "execution_count": 244,
     "metadata": {},
     "output_type": "execute_result"
    }
   ],
   "source": [
    "%%time\n",
    "print(np.sum(final_rf.feature_importances_ != 0))\n",
    "X_train.columns[final_rf.feature_importances_ != 0]"
   ]
  },
  {
   "cell_type": "code",
   "execution_count": 245,
   "id": "e5593758",
   "metadata": {
    "id": "l2GonM3qx32t"
   },
   "outputs": [
    {
     "data": {
      "text/plain": [
       "Index(['customer_state_Other'], dtype='object')"
      ]
     },
     "execution_count": 245,
     "metadata": {},
     "output_type": "execute_result"
    }
   ],
   "source": [
    "X_train.columns[final_rf.feature_importances_ == 0]"
   ]
  },
  {
   "cell_type": "code",
   "execution_count": 246,
   "id": "dcbb6543",
   "metadata": {},
   "outputs": [
    {
     "data": {
      "text/plain": [
       "0.4246863691171125"
      ]
     },
     "execution_count": 246,
     "metadata": {},
     "output_type": "execute_result"
    }
   ],
   "source": [
    "final_rf.feature_importances_.max()"
   ]
  },
  {
   "cell_type": "code",
   "execution_count": 247,
   "id": "e64d9f5d",
   "metadata": {},
   "outputs": [
    {
     "data": {
      "text/plain": [
       "array([1.19953736e-02, 3.98444561e-02, 2.47903170e-02, 1.68842707e-02,\n",
       "       4.24686369e-01, 9.55500034e-03, 5.64287737e-02, 3.32090153e-04,\n",
       "       3.86774376e-02, 2.89614869e-03, 8.28313197e-04, 0.00000000e+00,\n",
       "       4.94073601e-03, 4.37825767e-03, 1.21498608e-03, 4.56907049e-03,\n",
       "       2.60211234e-03, 2.17657089e-02, 5.77562121e-02, 1.54494923e-02,\n",
       "       9.34556449e-03, 2.51917766e-02, 1.28841039e-02, 5.94112699e-02,\n",
       "       1.30631595e-02, 5.02408312e-03, 8.65451944e-04, 5.10031942e-03,\n",
       "       4.22038022e-03, 1.13796065e-03, 5.19483097e-03, 2.76523042e-03,\n",
       "       1.52455564e-02, 8.26784242e-03, 1.77158617e-02, 2.15140843e-02,\n",
       "       1.43095502e-02, 1.07498322e-02, 1.59787632e-02, 1.24192523e-02])"
      ]
     },
     "execution_count": 247,
     "metadata": {},
     "output_type": "execute_result"
    }
   ],
   "source": [
    "final_rf.feature_importances_"
   ]
  },
  {
   "cell_type": "code",
   "execution_count": 248,
   "id": "8efa70ca",
   "metadata": {
    "colab": {
     "base_uri": "https://localhost:8080/",
     "height": 580
    },
    "id": "JfGPLwE1gmKH",
    "outputId": "a3478695-63a9-420f-e59a-6263e3b8407f"
   },
   "outputs": [
    {
     "data": {
      "image/png": "[encoded data removed]",
      "text/plain": [
       "<Figure size 900x600 with 1 Axes>"
      ]
     },
     "metadata": {},
     "output_type": "display_data"
    },
    {
     "name": "stdout",
     "output_type": "stream",
     "text": [
      "CPU times: total: 297 ms\n",
      "Wall time: 382 ms\n"
     ]
    }
   ],
   "source": [
    "%%time\n",
    "plot_feature_importance(final_rf, X_train.columns)\n",
    "plt.savefig('rf_vi.png')\n",
    "plt.show()"
   ]
  },
  {
   "cell_type": "code",
   "execution_count": 249,
   "id": "407c8a7f",
   "metadata": {
    "id": "C3pfSW4qgmMd"
   },
   "outputs": [],
   "source": [
    "models.append('Random Forest')\n",
    "rmse_list.append(rf_rmse)\n",
    "rmsle_list.append(rf_rmsle)"
   ]
  },
  {
   "cell_type": "code",
   "execution_count": 250,
   "id": "f3c6df27",
   "metadata": {
    "id": "IRnz5aFcgmPC"
   },
   "outputs": [
    {
     "data": {
      "text/html": [
       "<div>\n",
       "<style scoped>\n",
       "    .dataframe tbody tr th:only-of-type {\n",
       "        vertical-align: middle;\n",
       "    }\n",
       "\n",
       "    .dataframe tbody tr th {\n",
       "        vertical-align: top;\n",
       "    }\n",
       "\n",
       "    .dataframe thead th {\n",
       "        text-align: right;\n",
       "    }\n",
       "</style>\n",
       "<table border=\"1\" class=\"dataframe\">\n",
       "  <thead>\n",
       "    <tr style=\"text-align: right;\">\n",
       "      <th></th>\n",
       "      <th>RMSE</th>\n",
       "      <th>RMSLE</th>\n",
       "    </tr>\n",
       "  </thead>\n",
       "  <tbody>\n",
       "    <tr>\n",
       "      <th>Random Forest</th>\n",
       "      <td>2232.248</td>\n",
       "      <td>0.097</td>\n",
       "    </tr>\n",
       "  </tbody>\n",
       "</table>\n",
       "</div>"
      ],
      "text/plain": [
       "                   RMSE  RMSLE\n",
       "Random Forest  2232.248  0.097"
      ]
     },
     "execution_count": 250,
     "metadata": {},
     "output_type": "execute_result"
    }
   ],
   "source": [
    "rf_table = eva_metric(['Random Forest'], [rf_rmse], [rf_rmsle])\n",
    "rf_table"
   ]
  },
  {
   "cell_type": "code",
   "execution_count": null,
   "id": "d6fece5d",
   "metadata": {
    "id": "G9vQvxNdiAGU"
   },
   "outputs": [],
   "source": []
  },
  {
   "cell_type": "markdown",
   "id": "d50d95d2",
   "metadata": {
    "id": "q7_Y2-y4jlPI"
   },
   "source": [
    "#### 4.2.2.4 XGBoosting"
   ]
  },
  {
   "cell_type": "code",
   "execution_count": 251,
   "id": "87324035",
   "metadata": {
    "id": "8nXYd1rUjkBy"
   },
   "outputs": [
    {
     "name": "stdout",
     "output_type": "stream",
     "text": [
      "CPU times: total: 2h 39s\n",
      "Wall time: 8min 16s\n"
     ]
    },
    {
     "data": {
      "text/html": [
       "<style>#sk-container-id-7 {color: black;background-color: white;}#sk-container-id-7 pre{padding: 0;}#sk-container-id-7 div.sk-toggleable {background-color: white;}#sk-container-id-7 label.sk-toggleable__label {cursor: pointer;display: block;width: 100%;margin-bottom: 0;padding: 0.3em;box-sizing: border-box;text-align: center;}#sk-container-id-7 label.sk-toggleable__label-arrow:before {content: \"▸\";float: left;margin-right: 0.25em;color: #696969;}#sk-container-id-7 label.sk-toggleable__label-arrow:hover:before {color: black;}#sk-container-id-7 div.sk-estimator:hover label.sk-toggleable__label-arrow:before {color: black;}#sk-container-id-7 div.sk-toggleable__content {max-height: 0;max-width: 0;overflow: hidden;text-align: left;background-color: #f0f8ff;}#sk-container-id-7 div.sk-toggleable__content pre {margin: 0.2em;color: black;border-radius: 0.25em;background-color: #f0f8ff;}#sk-container-id-7 input.sk-toggleable__control:checked~div.sk-toggleable__content {max-height: 200px;max-width: 100%;overflow: auto;}#sk-container-id-7 input.sk-toggleable__control:checked~label.sk-toggleable__label-arrow:before {content: \"▾\";}#sk-container-id-7 div.sk-estimator input.sk-toggleable__control:checked~label.sk-toggleable__label {background-color: #d4ebff;}#sk-container-id-7 div.sk-label input.sk-toggleable__control:checked~label.sk-toggleable__label {background-color: #d4ebff;}#sk-container-id-7 input.sk-hidden--visually {border: 0;clip: rect(1px 1px 1px 1px);clip: rect(1px, 1px, 1px, 1px);height: 1px;margin: -1px;overflow: hidden;padding: 0;position: absolute;width: 1px;}#sk-container-id-7 div.sk-estimator {font-family: monospace;background-color: #f0f8ff;border: 1px dotted black;border-radius: 0.25em;box-sizing: border-box;margin-bottom: 0.5em;}#sk-container-id-7 div.sk-estimator:hover {background-color: #d4ebff;}#sk-container-id-7 div.sk-parallel-item::after {content: \"\";width: 100%;border-bottom: 1px solid gray;flex-grow: 1;}#sk-container-id-7 div.sk-label:hover label.sk-toggleable__label {background-color: #d4ebff;}#sk-container-id-7 div.sk-serial::before {content: \"\";position: absolute;border-left: 1px solid gray;box-sizing: border-box;top: 0;bottom: 0;left: 50%;z-index: 0;}#sk-container-id-7 div.sk-serial {display: flex;flex-direction: column;align-items: center;background-color: white;padding-right: 0.2em;padding-left: 0.2em;position: relative;}#sk-container-id-7 div.sk-item {position: relative;z-index: 1;}#sk-container-id-7 div.sk-parallel {display: flex;align-items: stretch;justify-content: center;background-color: white;position: relative;}#sk-container-id-7 div.sk-item::before, #sk-container-id-7 div.sk-parallel-item::before {content: \"\";position: absolute;border-left: 1px solid gray;box-sizing: border-box;top: 0;bottom: 0;left: 50%;z-index: -1;}#sk-container-id-7 div.sk-parallel-item {display: flex;flex-direction: column;z-index: 1;position: relative;background-color: white;}#sk-container-id-7 div.sk-parallel-item:first-child::after {align-self: flex-end;width: 50%;}#sk-container-id-7 div.sk-parallel-item:last-child::after {align-self: flex-start;width: 50%;}#sk-container-id-7 div.sk-parallel-item:only-child::after {width: 0;}#sk-container-id-7 div.sk-dashed-wrapped {border: 1px dashed gray;margin: 0 0.4em 0.5em 0.4em;box-sizing: border-box;padding-bottom: 0.4em;background-color: white;}#sk-container-id-7 div.sk-label label {font-family: monospace;font-weight: bold;display: inline-block;line-height: 1.2em;}#sk-container-id-7 div.sk-label-container {text-align: center;}#sk-container-id-7 div.sk-container {/* jupyter's `normalize.less` sets `[hidden] { display: none; }` but bootstrap.min.css set `[hidden] { display: none !important; }` so we also need the `!important` here to be able to override the default hidden behavior on the sphinx rendered scikit-learn.org. See: https://github.com/scikit-learn/scikit-learn/issues/21755 */display: inline-block !important;position: relative;}#sk-container-id-7 div.sk-text-repr-fallback {display: none;}</style><div id=\"sk-container-id-7\" class=\"sk-top-container\"><div class=\"sk-text-repr-fallback\"><pre>RandomizedSearchCV(cv=5,\n",
       "                   estimator=XGBRegressor(base_score=None, booster=None,\n",
       "                                          callbacks=None,\n",
       "                                          colsample_bylevel=None,\n",
       "                                          colsample_bynode=None,\n",
       "                                          colsample_bytree=None,\n",
       "                                          early_stopping_rounds=None,\n",
       "                                          enable_categorical=False,\n",
       "                                          eval_metric=None, feature_types=None,\n",
       "                                          gamma=None, gpu_id=None,\n",
       "                                          grow_policy=None,\n",
       "                                          importance_type=None,\n",
       "                                          interaction_constraints=None,\n",
       "                                          learning_rate=...\n",
       "                                          max_delta_step=None, max_depth=None,\n",
       "                                          max_leaves=None,\n",
       "                                          min_child_weight=None, missing=nan,\n",
       "                                          monotone_constraints=None,\n",
       "                                          n_estimators=100, n_jobs=None,\n",
       "                                          num_parallel_tree=None,\n",
       "                                          predictor=None, random_state=42, ...),\n",
       "                   param_distributions={&#x27;learning_rate&#x27;: [0.01, 0.05, 0.1],\n",
       "                                        &#x27;max_depth&#x27;: [3, 5, 7, 9],\n",
       "                                        &#x27;n_estimators&#x27;: [10, 20, 30, 50],\n",
       "                                        &#x27;subsample&#x27;: [0.5, 0.8]},\n",
       "                   random_state=42, scoring=&#x27;neg_mean_squared_error&#x27;)</pre><b>In a Jupyter environment, please rerun this cell to show the HTML representation or trust the notebook. <br />On GitHub, the HTML representation is unable to render, please try loading this page with nbviewer.org.</b></div><div class=\"sk-container\" hidden><div class=\"sk-item sk-dashed-wrapped\"><div class=\"sk-label-container\"><div class=\"sk-label sk-toggleable\"><input class=\"sk-toggleable__control sk-hidden--visually\" id=\"sk-estimator-id-14\" type=\"checkbox\" ><label for=\"sk-estimator-id-14\" class=\"sk-toggleable__label sk-toggleable__label-arrow\">RandomizedSearchCV</label><div class=\"sk-toggleable__content\"><pre>RandomizedSearchCV(cv=5,\n",
       "                   estimator=XGBRegressor(base_score=None, booster=None,\n",
       "                                          callbacks=None,\n",
       "                                          colsample_bylevel=None,\n",
       "                                          colsample_bynode=None,\n",
       "                                          colsample_bytree=None,\n",
       "                                          early_stopping_rounds=None,\n",
       "                                          enable_categorical=False,\n",
       "                                          eval_metric=None, feature_types=None,\n",
       "                                          gamma=None, gpu_id=None,\n",
       "                                          grow_policy=None,\n",
       "                                          importance_type=None,\n",
       "                                          interaction_constraints=None,\n",
       "                                          learning_rate=...\n",
       "                                          max_delta_step=None, max_depth=None,\n",
       "                                          max_leaves=None,\n",
       "                                          min_child_weight=None, missing=nan,\n",
       "                                          monotone_constraints=None,\n",
       "                                          n_estimators=100, n_jobs=None,\n",
       "                                          num_parallel_tree=None,\n",
       "                                          predictor=None, random_state=42, ...),\n",
       "                   param_distributions={&#x27;learning_rate&#x27;: [0.01, 0.05, 0.1],\n",
       "                                        &#x27;max_depth&#x27;: [3, 5, 7, 9],\n",
       "                                        &#x27;n_estimators&#x27;: [10, 20, 30, 50],\n",
       "                                        &#x27;subsample&#x27;: [0.5, 0.8]},\n",
       "                   random_state=42, scoring=&#x27;neg_mean_squared_error&#x27;)</pre></div></div></div><div class=\"sk-parallel\"><div class=\"sk-parallel-item\"><div class=\"sk-item\"><div class=\"sk-label-container\"><div class=\"sk-label sk-toggleable\"><input class=\"sk-toggleable__control sk-hidden--visually\" id=\"sk-estimator-id-15\" type=\"checkbox\" ><label for=\"sk-estimator-id-15\" class=\"sk-toggleable__label sk-toggleable__label-arrow\">estimator: XGBRegressor</label><div class=\"sk-toggleable__content\"><pre>XGBRegressor(base_score=None, booster=None, callbacks=None,\n",
       "             colsample_bylevel=None, colsample_bynode=None,\n",
       "             colsample_bytree=None, early_stopping_rounds=None,\n",
       "             enable_categorical=False, eval_metric=None, feature_types=None,\n",
       "             gamma=None, gpu_id=None, grow_policy=None, importance_type=None,\n",
       "             interaction_constraints=None, learning_rate=None, max_bin=None,\n",
       "             max_cat_threshold=None, max_cat_to_onehot=None,\n",
       "             max_delta_step=None, max_depth=None, max_leaves=None,\n",
       "             min_child_weight=None, missing=nan, monotone_constraints=None,\n",
       "             n_estimators=100, n_jobs=None, num_parallel_tree=None,\n",
       "             predictor=None, random_state=42, ...)</pre></div></div></div><div class=\"sk-serial\"><div class=\"sk-item\"><div class=\"sk-estimator sk-toggleable\"><input class=\"sk-toggleable__control sk-hidden--visually\" id=\"sk-estimator-id-16\" type=\"checkbox\" ><label for=\"sk-estimator-id-16\" class=\"sk-toggleable__label sk-toggleable__label-arrow\">XGBRegressor</label><div class=\"sk-toggleable__content\"><pre>XGBRegressor(base_score=None, booster=None, callbacks=None,\n",
       "             colsample_bylevel=None, colsample_bynode=None,\n",
       "             colsample_bytree=None, early_stopping_rounds=None,\n",
       "             enable_categorical=False, eval_metric=None, feature_types=None,\n",
       "             gamma=None, gpu_id=None, grow_policy=None, importance_type=None,\n",
       "             interaction_constraints=None, learning_rate=None, max_bin=None,\n",
       "             max_cat_threshold=None, max_cat_to_onehot=None,\n",
       "             max_delta_step=None, max_depth=None, max_leaves=None,\n",
       "             min_child_weight=None, missing=nan, monotone_constraints=None,\n",
       "             n_estimators=100, n_jobs=None, num_parallel_tree=None,\n",
       "             predictor=None, random_state=42, ...)</pre></div></div></div></div></div></div></div></div></div></div>"
      ],
      "text/plain": [
       "RandomizedSearchCV(cv=5,\n",
       "                   estimator=XGBRegressor(base_score=None, booster=None,\n",
       "                                          callbacks=None,\n",
       "                                          colsample_bylevel=None,\n",
       "                                          colsample_bynode=None,\n",
       "                                          colsample_bytree=None,\n",
       "                                          early_stopping_rounds=None,\n",
       "                                          enable_categorical=False,\n",
       "                                          eval_metric=None, feature_types=None,\n",
       "                                          gamma=None, gpu_id=None,\n",
       "                                          grow_policy=None,\n",
       "                                          importance_type=None,\n",
       "                                          interaction_constraints=None,\n",
       "                                          learning_rate=...\n",
       "                                          max_delta_step=None, max_depth=None,\n",
       "                                          max_leaves=None,\n",
       "                                          min_child_weight=None, missing=nan,\n",
       "                                          monotone_constraints=None,\n",
       "                                          n_estimators=100, n_jobs=None,\n",
       "                                          num_parallel_tree=None,\n",
       "                                          predictor=None, random_state=42, ...),\n",
       "                   param_distributions={'learning_rate': [0.01, 0.05, 0.1],\n",
       "                                        'max_depth': [3, 5, 7, 9],\n",
       "                                        'n_estimators': [10, 20, 30, 50],\n",
       "                                        'subsample': [0.5, 0.8]},\n",
       "                   random_state=42, scoring='neg_mean_squared_error')"
      ]
     },
     "execution_count": 251,
     "metadata": {},
     "output_type": "execute_result"
    }
   ],
   "source": [
    "%%time\n",
    "\n",
    "X_train_xgb = X_train.to_numpy()\n",
    "X_valid_xgb = X_valid.to_numpy()\n",
    "\n",
    "y_train_xgb = y_train.to_numpy()\n",
    "y_valid_xgb = y_valid.to_numpy()\n",
    "y_valid_x_original = y_valid_original.to_numpy()\n",
    "\n",
    "xgb_para={'learning_rate': [0.01, 0.05, 0.1],\n",
    "          'max_depth': [3,5,7,9],\n",
    "          'n_estimators': [10,20,30,50],\n",
    "          'subsample' : [0.5, 0.8]\n",
    "          }\n",
    "xgbst = xgb.XGBRegressor(objective='reg:squarederror',    reg_lambda=0.5, random_state = 42)\n",
    "xgbst_rs = RandomizedSearchCV(xgbst, xgb_para, n_iter = 10, cv = 5, random_state = 42, scoring='neg_mean_squared_error')\n",
    "\n",
    "# n_estimators: number of trees\n",
    "# subsample: fraction of observations used to fit each tree\n",
    "# reg_lambda: L2 regularisation penalty\n",
    "# reg_alpha: L1 regularisation penalty\n",
    "# colsample_bytree: fraction of features considered for each tree (alternatives: bylevel, bynode)\n",
    "# min_child_weight: approximately equal to the minimum number of samples in each node\n",
    "\n",
    "xgbst_rs.fit(X_train_xgb, y_train_xgb)"
   ]
  },
  {
   "cell_type": "code",
   "execution_count": 252,
   "id": "156e9c10",
   "metadata": {
    "id": "GllFVFr8ocaB"
   },
   "outputs": [
    {
     "name": "stdout",
     "output_type": "stream",
     "text": [
      "CPU times: total: 0 ns\n",
      "Wall time: 0 ns\n"
     ]
    },
    {
     "data": {
      "text/plain": [
       "{'subsample': 0.5, 'n_estimators': 50, 'max_depth': 9, 'learning_rate': 0.1}"
      ]
     },
     "execution_count": 252,
     "metadata": {},
     "output_type": "execute_result"
    }
   ],
   "source": [
    "%%time\n",
    "best_xgb = xgbst_rs.best_params_\n",
    "best_xgb"
   ]
  },
  {
   "cell_type": "code",
   "execution_count": 253,
   "id": "0d67cd4d",
   "metadata": {
    "id": "NPpjJvDaoccd"
   },
   "outputs": [
    {
     "data": {
      "text/html": [
       "<style>#sk-container-id-8 {color: black;background-color: white;}#sk-container-id-8 pre{padding: 0;}#sk-container-id-8 div.sk-toggleable {background-color: white;}#sk-container-id-8 label.sk-toggleable__label {cursor: pointer;display: block;width: 100%;margin-bottom: 0;padding: 0.3em;box-sizing: border-box;text-align: center;}#sk-container-id-8 label.sk-toggleable__label-arrow:before {content: \"▸\";float: left;margin-right: 0.25em;color: #696969;}#sk-container-id-8 label.sk-toggleable__label-arrow:hover:before {color: black;}#sk-container-id-8 div.sk-estimator:hover label.sk-toggleable__label-arrow:before {color: black;}#sk-container-id-8 div.sk-toggleable__content {max-height: 0;max-width: 0;overflow: hidden;text-align: left;background-color: #f0f8ff;}#sk-container-id-8 div.sk-toggleable__content pre {margin: 0.2em;color: black;border-radius: 0.25em;background-color: #f0f8ff;}#sk-container-id-8 input.sk-toggleable__control:checked~div.sk-toggleable__content {max-height: 200px;max-width: 100%;overflow: auto;}#sk-container-id-8 input.sk-toggleable__control:checked~label.sk-toggleable__label-arrow:before {content: \"▾\";}#sk-container-id-8 div.sk-estimator input.sk-toggleable__control:checked~label.sk-toggleable__label {background-color: #d4ebff;}#sk-container-id-8 div.sk-label input.sk-toggleable__control:checked~label.sk-toggleable__label {background-color: #d4ebff;}#sk-container-id-8 input.sk-hidden--visually {border: 0;clip: rect(1px 1px 1px 1px);clip: rect(1px, 1px, 1px, 1px);height: 1px;margin: -1px;overflow: hidden;padding: 0;position: absolute;width: 1px;}#sk-container-id-8 div.sk-estimator {font-family: monospace;background-color: #f0f8ff;border: 1px dotted black;border-radius: 0.25em;box-sizing: border-box;margin-bottom: 0.5em;}#sk-container-id-8 div.sk-estimator:hover {background-color: #d4ebff;}#sk-container-id-8 div.sk-parallel-item::after {content: \"\";width: 100%;border-bottom: 1px solid gray;flex-grow: 1;}#sk-container-id-8 div.sk-label:hover label.sk-toggleable__label {background-color: #d4ebff;}#sk-container-id-8 div.sk-serial::before {content: \"\";position: absolute;border-left: 1px solid gray;box-sizing: border-box;top: 0;bottom: 0;left: 50%;z-index: 0;}#sk-container-id-8 div.sk-serial {display: flex;flex-direction: column;align-items: center;background-color: white;padding-right: 0.2em;padding-left: 0.2em;position: relative;}#sk-container-id-8 div.sk-item {position: relative;z-index: 1;}#sk-container-id-8 div.sk-parallel {display: flex;align-items: stretch;justify-content: center;background-color: white;position: relative;}#sk-container-id-8 div.sk-item::before, #sk-container-id-8 div.sk-parallel-item::before {content: \"\";position: absolute;border-left: 1px solid gray;box-sizing: border-box;top: 0;bottom: 0;left: 50%;z-index: -1;}#sk-container-id-8 div.sk-parallel-item {display: flex;flex-direction: column;z-index: 1;position: relative;background-color: white;}#sk-container-id-8 div.sk-parallel-item:first-child::after {align-self: flex-end;width: 50%;}#sk-container-id-8 div.sk-parallel-item:last-child::after {align-self: flex-start;width: 50%;}#sk-container-id-8 div.sk-parallel-item:only-child::after {width: 0;}#sk-container-id-8 div.sk-dashed-wrapped {border: 1px dashed gray;margin: 0 0.4em 0.5em 0.4em;box-sizing: border-box;padding-bottom: 0.4em;background-color: white;}#sk-container-id-8 div.sk-label label {font-family: monospace;font-weight: bold;display: inline-block;line-height: 1.2em;}#sk-container-id-8 div.sk-label-container {text-align: center;}#sk-container-id-8 div.sk-container {/* jupyter's `normalize.less` sets `[hidden] { display: none; }` but bootstrap.min.css set `[hidden] { display: none !important; }` so we also need the `!important` here to be able to override the default hidden behavior on the sphinx rendered scikit-learn.org. See: https://github.com/scikit-learn/scikit-learn/issues/21755 */display: inline-block !important;position: relative;}#sk-container-id-8 div.sk-text-repr-fallback {display: none;}</style><div id=\"sk-container-id-8\" class=\"sk-top-container\"><div class=\"sk-text-repr-fallback\"><pre>XGBRegressor(base_score=None, booster=None, callbacks=None,\n",
       "             colsample_bylevel=None, colsample_bynode=None,\n",
       "             colsample_bytree=None, early_stopping_rounds=None,\n",
       "             enable_categorical=False, eval_metric=None, feature_types=None,\n",
       "             gamma=None, gpu_id=None, grow_policy=None, importance_type=None,\n",
       "             interaction_constraints=None, learning_rate=0.1, max_bin=None,\n",
       "             max_cat_threshold=None, max_cat_to_onehot=None,\n",
       "             max_delta_step=None, max_depth=9, max_leaves=None,\n",
       "             min_child_weight=None, missing=nan, monotone_constraints=None,\n",
       "             n_estimators=50, n_jobs=None, num_parallel_tree=None,\n",
       "             predictor=None, random_state=42, ...)</pre><b>In a Jupyter environment, please rerun this cell to show the HTML representation or trust the notebook. <br />On GitHub, the HTML representation is unable to render, please try loading this page with nbviewer.org.</b></div><div class=\"sk-container\" hidden><div class=\"sk-item\"><div class=\"sk-estimator sk-toggleable\"><input class=\"sk-toggleable__control sk-hidden--visually\" id=\"sk-estimator-id-17\" type=\"checkbox\" checked><label for=\"sk-estimator-id-17\" class=\"sk-toggleable__label sk-toggleable__label-arrow\">XGBRegressor</label><div class=\"sk-toggleable__content\"><pre>XGBRegressor(base_score=None, booster=None, callbacks=None,\n",
       "             colsample_bylevel=None, colsample_bynode=None,\n",
       "             colsample_bytree=None, early_stopping_rounds=None,\n",
       "             enable_categorical=False, eval_metric=None, feature_types=None,\n",
       "             gamma=None, gpu_id=None, grow_policy=None, importance_type=None,\n",
       "             interaction_constraints=None, learning_rate=0.1, max_bin=None,\n",
       "             max_cat_threshold=None, max_cat_to_onehot=None,\n",
       "             max_delta_step=None, max_depth=9, max_leaves=None,\n",
       "             min_child_weight=None, missing=nan, monotone_constraints=None,\n",
       "             n_estimators=50, n_jobs=None, num_parallel_tree=None,\n",
       "             predictor=None, random_state=42, ...)</pre></div></div></div></div></div>"
      ],
      "text/plain": [
       "XGBRegressor(base_score=None, booster=None, callbacks=None,\n",
       "             colsample_bylevel=None, colsample_bynode=None,\n",
       "             colsample_bytree=None, early_stopping_rounds=None,\n",
       "             enable_categorical=False, eval_metric=None, feature_types=None,\n",
       "             gamma=None, gpu_id=None, grow_policy=None, importance_type=None,\n",
       "             interaction_constraints=None, learning_rate=0.1, max_bin=None,\n",
       "             max_cat_threshold=None, max_cat_to_onehot=None,\n",
       "             max_delta_step=None, max_depth=9, max_leaves=None,\n",
       "             min_child_weight=None, missing=nan, monotone_constraints=None,\n",
       "             n_estimators=50, n_jobs=None, num_parallel_tree=None,\n",
       "             predictor=None, random_state=42, ...)"
      ]
     },
     "execution_count": 253,
     "metadata": {},
     "output_type": "execute_result"
    }
   ],
   "source": [
    "\n",
    "final_xgb =  xgb.XGBRegressor(objective='reg:squarederror',  reg_lambda=0.5, random_state = 42, **best_xgb)\n",
    "\n",
    "final_xgb = final_xgb.fit(X_train_xgb, y_train_xgb)\n",
    "final_xgb"
   ]
  },
  {
   "cell_type": "code",
   "execution_count": 254,
   "id": "8acc94f0",
   "metadata": {
    "id": "3m2xFdRIocfX"
   },
   "outputs": [
    {
     "name": "stdout",
     "output_type": "stream",
     "text": [
      "CPU times: total: 1.59 s\n",
      "Wall time: 142 ms\n",
      "Parser   : 219 ms\n"
     ]
    },
    {
     "data": {
      "text/plain": [
       "array([6.290016 , 6.3390417, 6.3869267, ..., 6.5533986, 6.83278  ,\n",
       "       6.231402 ], dtype=float32)"
      ]
     },
     "execution_count": 254,
     "metadata": {},
     "output_type": "execute_result"
    }
   ],
   "source": [
    "%%time\n",
    "xgb_predict = final_xgb.predict(np.array(X_valid_xgb))\n",
    "xgb_predict"
   ]
  },
  {
   "cell_type": "code",
   "execution_count": 255,
   "id": "de4aa424",
   "metadata": {
    "id": "e2QMBqTGjzwe"
   },
   "outputs": [
    {
     "name": "stdout",
     "output_type": "stream",
     "text": [
      "RMSE: 2292.900\n",
      "RMSLE: 0.097\n",
      "CPU times: total: 172 ms\n",
      "Wall time: 27.5 ms\n"
     ]
    }
   ],
   "source": [
    "%%time\n",
    "\n",
    "xgb_rmse = np.sqrt(mse(y_valid_original, np.exp(xgb_predict)))\n",
    "xgb_rmsle = np.sqrt(msle(y_valid, xgb_predict))\n",
    "\n",
    "print('RMSE: {:.3f}'.format(xgb_rmse))\n",
    "print('RMSLE: {:.3f}'.format(xgb_rmsle))"
   ]
  },
  {
   "cell_type": "code",
   "execution_count": 256,
   "id": "fc355cbe",
   "metadata": {
    "id": "C-ehBGfMjzy_"
   },
   "outputs": [
    {
     "name": "stdout",
     "output_type": "stream",
     "text": [
      "36\n",
      "CPU times: total: 15.6 ms\n",
      "Wall time: 3.99 ms\n"
     ]
    },
    {
     "data": {
      "text/plain": [
       "Index(['co_location_flag', 'media_amount_spend', 'Median income',\n",
       "       'population_2021', 'same_area_shopping', 'year', 'month',\n",
       "       'sales_channel_Digital - Delivery', 'sales_channel_Store',\n",
       "       'customer_state_NSW', 'customer_state_QLD', 'customer_state_SA',\n",
       "       'customer_state_VIC', 'customer_state_WA', 'price_segment_Mainstream',\n",
       "       'price_segment_Premium', 'lifstage_segment_New Families',\n",
       "       'lifstage_segment_Older Families',\n",
       "       'lifstage_segment_Older Singles/Couples', 'lifstage_segment_Retirees',\n",
       "       'lifstage_segment_Young Families',\n",
       "       'lifstage_segment_Young Singles/Couples', 'store_state_NSW',\n",
       "       'store_state_NT', 'store_state_QLD', 'store_state_SA',\n",
       "       'store_state_VIC', 'store_state_WA', 'distance_to_kmart_3-5 KM',\n",
       "       'distance_to_kmart_<1 KM', 'distance_to_kmart_>5 KM',\n",
       "       'distance_to_kmart_Same Centre', 'distance_to_target_3-5 KM',\n",
       "       'distance_to_target_<1 KM', 'distance_to_target_>5 KM',\n",
       "       'distance_to_target_Same Centre'],\n",
       "      dtype='object')"
      ]
     },
     "execution_count": 256,
     "metadata": {},
     "output_type": "execute_result"
    }
   ],
   "source": [
    "%%time\n",
    "print(np.sum(final_xgb.feature_importances_ != 0))\n",
    "X_train.columns[final_xgb.feature_importances_ != 0]"
   ]
  },
  {
   "cell_type": "code",
   "execution_count": 257,
   "id": "eac13d22",
   "metadata": {
    "id": "jdAVN_FllNe1"
   },
   "outputs": [
    {
     "data": {
      "text/plain": [
       "Index(['customer_state_NT', 'customer_state_Other', 'customer_state_TAS',\n",
       "       'store_state_TAS'],\n",
       "      dtype='object')"
      ]
     },
     "execution_count": 257,
     "metadata": {},
     "output_type": "execute_result"
    }
   ],
   "source": [
    "X_train.columns[final_xgb.feature_importances_ == 0]"
   ]
  },
  {
   "cell_type": "code",
   "execution_count": 258,
   "id": "0971774a",
   "metadata": {
    "id": "vs_mKpqzjz1M"
   },
   "outputs": [
    {
     "data": {
      "image/png": "[encoded data removed]",
      "text/plain": [
       "<Figure size 900x600 with 1 Axes>"
      ]
     },
     "metadata": {},
     "output_type": "display_data"
    },
    {
     "name": "stdout",
     "output_type": "stream",
     "text": [
      "CPU times: total: 281 ms\n",
      "Wall time: 338 ms\n"
     ]
    }
   ],
   "source": [
    "%%time\n",
    "plot_feature_importance(final_xgb, X_train.columns)\n",
    "plt.savefig('xgb_vi.png')\n",
    "plt.show()"
   ]
  },
  {
   "cell_type": "code",
   "execution_count": 259,
   "id": "c7d7956f",
   "metadata": {
    "id": "O38AGOihjz3a"
   },
   "outputs": [],
   "source": [
    "models.append('XGBoost')\n",
    "rmse_list.append(xgb_rmse)\n",
    "rmsle_list.append(xgb_rmsle)"
   ]
  },
  {
   "cell_type": "code",
   "execution_count": 260,
   "id": "b571cdc4",
   "metadata": {
    "id": "b0BR_nMF5yCJ"
   },
   "outputs": [
    {
     "data": {
      "text/html": [
       "<div>\n",
       "<style scoped>\n",
       "    .dataframe tbody tr th:only-of-type {\n",
       "        vertical-align: middle;\n",
       "    }\n",
       "\n",
       "    .dataframe tbody tr th {\n",
       "        vertical-align: top;\n",
       "    }\n",
       "\n",
       "    .dataframe thead th {\n",
       "        text-align: right;\n",
       "    }\n",
       "</style>\n",
       "<table border=\"1\" class=\"dataframe\">\n",
       "  <thead>\n",
       "    <tr style=\"text-align: right;\">\n",
       "      <th></th>\n",
       "      <th>RMSE</th>\n",
       "      <th>RMSLE</th>\n",
       "    </tr>\n",
       "  </thead>\n",
       "  <tbody>\n",
       "    <tr>\n",
       "      <th>XGBoost</th>\n",
       "      <td>2292.9</td>\n",
       "      <td>0.097</td>\n",
       "    </tr>\n",
       "  </tbody>\n",
       "</table>\n",
       "</div>"
      ],
      "text/plain": [
       "           RMSE  RMSLE\n",
       "XGBoost  2292.9  0.097"
      ]
     },
     "execution_count": 260,
     "metadata": {},
     "output_type": "execute_result"
    }
   ],
   "source": [
    "xgb_table = eva_metric(['XGBoost'], [xgb_rmse], [xgb_rmsle])\n",
    "xgb_table"
   ]
  },
  {
   "cell_type": "markdown",
   "id": "1c7b55aa",
   "metadata": {
    "id": "kRtev2V42E9M"
   },
   "source": [
    "#### 4.2.2.5 Tree-based Model Summary"
   ]
  },
  {
   "cell_type": "code",
   "execution_count": 261,
   "id": "aff28513",
   "metadata": {
    "id": "9KePvxOO2Lkr"
   },
   "outputs": [
    {
     "data": {
      "text/html": [
       "<div>\n",
       "<style scoped>\n",
       "    .dataframe tbody tr th:only-of-type {\n",
       "        vertical-align: middle;\n",
       "    }\n",
       "\n",
       "    .dataframe tbody tr th {\n",
       "        vertical-align: top;\n",
       "    }\n",
       "\n",
       "    .dataframe thead th {\n",
       "        text-align: right;\n",
       "    }\n",
       "</style>\n",
       "<table border=\"1\" class=\"dataframe\">\n",
       "  <thead>\n",
       "    <tr style=\"text-align: right;\">\n",
       "      <th></th>\n",
       "      <th>RMSE</th>\n",
       "      <th>RMSLE</th>\n",
       "    </tr>\n",
       "  </thead>\n",
       "  <tbody>\n",
       "    <tr>\n",
       "      <th>Decision Tree</th>\n",
       "      <td>2245.305</td>\n",
       "      <td>0.098</td>\n",
       "    </tr>\n",
       "    <tr>\n",
       "      <th>Bagging</th>\n",
       "      <td>2264.917</td>\n",
       "      <td>0.099</td>\n",
       "    </tr>\n",
       "    <tr>\n",
       "      <th>Random Forest</th>\n",
       "      <td>2232.248</td>\n",
       "      <td>0.097</td>\n",
       "    </tr>\n",
       "    <tr>\n",
       "      <th>XGBoost</th>\n",
       "      <td>2292.9</td>\n",
       "      <td>0.097</td>\n",
       "    </tr>\n",
       "  </tbody>\n",
       "</table>\n",
       "</div>"
      ],
      "text/plain": [
       "                   RMSE  RMSLE\n",
       "Decision Tree  2245.305  0.098\n",
       "Bagging        2264.917  0.099\n",
       "Random Forest  2232.248  0.097\n",
       "XGBoost          2292.9  0.097"
      ]
     },
     "execution_count": 261,
     "metadata": {},
     "output_type": "execute_result"
    }
   ],
   "source": [
    "tree_table = eva_metric(models[3:], rmse_list[3:], rmsle_list[3:])\n",
    "tree_table"
   ]
  },
  {
   "cell_type": "markdown",
   "id": "1b528900",
   "metadata": {
    "id": "-axxIARC5PFN"
   },
   "source": [
    "## 5. Model Evaluation"
   ]
  },
  {
   "cell_type": "markdown",
   "id": "25b73a03",
   "metadata": {
    "id": "tPq0IzHx2jh9"
   },
   "source": [
    "### 5.1 Model RMSE & RMSLE Summary"
   ]
  },
  {
   "cell_type": "code",
   "execution_count": 262,
   "id": "52d46bd6",
   "metadata": {
    "id": "CcC7iXTM2vBu"
   },
   "outputs": [
    {
     "data": {
      "text/html": [
       "<div>\n",
       "<style scoped>\n",
       "    .dataframe tbody tr th:only-of-type {\n",
       "        vertical-align: middle;\n",
       "    }\n",
       "\n",
       "    .dataframe tbody tr th {\n",
       "        vertical-align: top;\n",
       "    }\n",
       "\n",
       "    .dataframe thead th {\n",
       "        text-align: right;\n",
       "    }\n",
       "</style>\n",
       "<table border=\"1\" class=\"dataframe\">\n",
       "  <thead>\n",
       "    <tr style=\"text-align: right;\">\n",
       "      <th></th>\n",
       "      <th>RMSE</th>\n",
       "      <th>RMSLE</th>\n",
       "    </tr>\n",
       "  </thead>\n",
       "  <tbody>\n",
       "    <tr>\n",
       "      <th>LinearRegression</th>\n",
       "      <td>2503.524</td>\n",
       "      <td>0.105</td>\n",
       "    </tr>\n",
       "    <tr>\n",
       "      <th>Lasso Regression</th>\n",
       "      <td>2503.519</td>\n",
       "      <td>0.105</td>\n",
       "    </tr>\n",
       "    <tr>\n",
       "      <th>Ridge Regression</th>\n",
       "      <td>2503.555</td>\n",
       "      <td>0.105</td>\n",
       "    </tr>\n",
       "    <tr>\n",
       "      <th>Decision Tree</th>\n",
       "      <td>2245.305</td>\n",
       "      <td>0.098</td>\n",
       "    </tr>\n",
       "    <tr>\n",
       "      <th>Bagging</th>\n",
       "      <td>2264.917</td>\n",
       "      <td>0.099</td>\n",
       "    </tr>\n",
       "    <tr>\n",
       "      <th>Random Forest</th>\n",
       "      <td>2232.248</td>\n",
       "      <td>0.097</td>\n",
       "    </tr>\n",
       "    <tr>\n",
       "      <th>XGBoost</th>\n",
       "      <td>2292.9</td>\n",
       "      <td>0.097</td>\n",
       "    </tr>\n",
       "  </tbody>\n",
       "</table>\n",
       "</div>"
      ],
      "text/plain": [
       "                      RMSE  RMSLE\n",
       "LinearRegression  2503.524  0.105\n",
       "Lasso Regression  2503.519  0.105\n",
       "Ridge Regression  2503.555  0.105\n",
       "Decision Tree     2245.305  0.098\n",
       "Bagging           2264.917  0.099\n",
       "Random Forest     2232.248  0.097\n",
       "XGBoost             2292.9  0.097"
      ]
     },
     "execution_count": 262,
     "metadata": {},
     "output_type": "execute_result"
    }
   ],
   "source": [
    "metric_table = eva_metric(models, rmse_list, rmsle_list)\n",
    "metric_table"
   ]
  },
  {
   "cell_type": "markdown",
   "id": "fffa7e68",
   "metadata": {
    "id": "1732zGOU2mHq"
   },
   "source": [
    "### 5.2 Final Model"
   ]
  },
  {
   "cell_type": "code",
   "execution_count": 265,
   "id": "18ad8fe9",
   "metadata": {},
   "outputs": [],
   "source": [
    "final_rf = final_rf.fit(dummy_train.drop(['total_sale_value_x', 'log_totalvalue'], axis = 1), dummy_train['log_totalvalue'])"
   ]
  },
  {
   "cell_type": "code",
   "execution_count": 266,
   "id": "53540fc3",
   "metadata": {
    "id": "UJUNUGsX5RHS"
   },
   "outputs": [],
   "source": [
    "#Fit the model with the lowest rmse with test data to get the final rmse\n",
    "final_predict= final_rf.predict(dummy_test.drop(['total_sale_value_x', 'log_totalvalue'], axis = 1))\n"
   ]
  },
  {
   "cell_type": "code",
   "execution_count": 267,
   "id": "c1e6deca",
   "metadata": {
    "id": "-hAHajoZ260H"
   },
   "outputs": [
    {
     "name": "stdout",
     "output_type": "stream",
     "text": [
      "Final Model - Random Forest\n",
      "RMSE: 2266.369\n",
      "RMSLE: 0.097\n"
     ]
    }
   ],
   "source": [
    "final_model_rmse = np.sqrt(mse(dummy_test['total_sale_value_x'], np.exp(final_predict)))\n",
    "final_model_rmsle = np.sqrt(msle(dummy_test['log_totalvalue'], final_predict))\n",
    "\n",
    "print('Final Model - Random Forest')\n",
    "print('RMSE: {:.3f}'.format(final_model_rmse))\n",
    "print('RMSLE: {:.3f}'.format(final_model_rmsle))"
   ]
  },
  {
   "cell_type": "markdown",
   "id": "cf50d495",
   "metadata": {
    "id": "-CS3k1QR3npE"
   },
   "source": [
    "-------------------------------------- End of Assignment2 ------------------------------"
   ]
  }
 ],
 "metadata": {},
 "nbformat": 4,
 "nbformat_minor": 5
}
